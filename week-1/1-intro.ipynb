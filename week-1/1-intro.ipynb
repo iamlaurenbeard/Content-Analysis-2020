{
 "cells": [
  {
   "cell_type": "markdown",
   "metadata": {},
   "source": [
    "# Week 1 - Retreiving and Preparing Text for Machines\n",
    "\n",
    "This week, we begin by \"begging, borrowing and stealing\" text from several\n",
    "contexts of human communication (e.g., PDFs, HTML, Word) and preparing it for\n",
    "machines to \"read\" and analyze. This notebook outlines scraping text from the\n",
    "web, PDF and Word documents. Then we detail \"spidering\" or walking\n",
    "through hyperlinks to build samples of online content, and using APIs,\n",
    "Application Programming Interfaces, provided by webservices to access their\n",
    "content. Along the way, we will use regular expressions, outlined in the\n",
    "reading, to remove unwanted formatting and ornamentation. Finally, we discuss\n",
    "various text encodings, filtering and data structures in which text can be\n",
    "placed for analysis.\n",
    "\n",
    "For this notebook we will be using the following packages:"
   ]
  },
  {
   "cell_type": "code",
   "execution_count": 375,
   "metadata": {},
   "outputs": [],
   "source": [
    "#Special module written for this class\n",
    "#This provides access to data and to helper functions from previous weeks\n",
    "import lucem_illud_2020 #pip install git+git://github.com/Computational-Content-Analysis-2020/lucem_illud_2020.git\n",
    "\n",
    "#All these packages need to be installed from pip\n",
    "import requests #for http requests\n",
    "import bs4 #called `beautifulsoup4`, an html parser\n",
    "import pandas #gives us DataFrames\n",
    "import docx #reading MS doc files, install as `python-docx`\n",
    "\n",
    "#Stuff for pdfs\n",
    "#Install as `pdfminer2`\n",
    "import pdfminer.pdfinterp\n",
    "import pdfminer.converter\n",
    "import pdfminer.layout\n",
    "import pdfminer.pdfpage\n",
    "\n",
    "#These come with Python\n",
    "import re #for regexs\n",
    "import urllib.parse #For joining urls\n",
    "import io #for making http requests look like files\n",
    "import json #For Tumblr API responses\n",
    "import os.path #For checking if files exist\n",
    "import os #For making directories"
   ]
  },
  {
   "cell_type": "markdown",
   "metadata": {},
   "source": [
    "We will also be working on the following files/urls"
   ]
  },
  {
   "cell_type": "code",
   "execution_count": 376,
   "metadata": {},
   "outputs": [],
   "source": [
    "wikipedia_base_url = 'https://en.wikipedia.org'\n",
    "wikipedia_content_analysis = 'https://en.wikipedia.org/wiki/Content_analysis'\n",
    "content_analysis_save = 'wikipedia_content_analysis.html'\n",
    "example_text_file = 'sometextfile.txt'\n",
    "information_extraction_pdf = 'https://github.com/Computational-Content-Analysis-2018/Data-Files/raw/master/1-intro/Content%20Analysis%2018.pdf'\n",
    "example_docx = 'https://github.com/Computational-Content-Analysis-2018/Data-Files/raw/master/1-intro/macs6000_connecting_to_midway.docx'\n",
    "example_docx_save = 'example.docx'"
   ]
  },
  {
   "cell_type": "markdown",
   "metadata": {},
   "source": [
    "# Scraping\n",
    "\n",
    "Before we can start analyzing content we need to obtain it. Sometimes it will be\n",
    "provided to us from a pre-curated text archive, but sometimes we will need to\n",
    "download it. As a starting example we will attempt to download the wikipedia\n",
    "page on content analysis. The page is located at [https://en.wikipedia.org/wiki/\n",
    "Content_analysis](https://en.wikipedia.org/wiki/Content_analysis) so lets start\n",
    "with that.\n",
    "\n",
    "We can do this by making an HTTP GET request to that url, a GET request is\n",
    "simply a request to the server to provide the contents given by some url. The\n",
    "other request we will be using in this class is called a POST request and\n",
    "requests the server to take some content we provide. While the Python standard\n",
    "library does have the ability do make GET requests we will be using the\n",
    "[_requests_](http://docs.python-requests.org/en/master/) package as it is _'the\n",
    "only Non-GMO HTTP library for Python'_...also it provides a nicer interface."
   ]
  },
  {
   "cell_type": "code",
   "execution_count": 377,
   "metadata": {},
   "outputs": [],
   "source": [
    "#wikipedia_content_analysis = 'https://en.wikipedia.org/wiki/Content_analysis'\n",
    "# requests.get(wikipedia_content_analysis)"
   ]
  },
  {
   "cell_type": "markdown",
   "metadata": {},
   "source": [
    "`'Response [200]'` means the server responded with what we asked for. If you get\n",
    "another number (e.g. 404) it likely means there was some kind of error, these\n",
    "codes are called HTTP response codes and a list of them can be found\n",
    "[here](https://en.wikipedia.org/wiki/List_of_HTTP_status_codes). The response\n",
    "object contains all the data the server sent including the website's contents\n",
    "and the HTTP header. We are interested in the contents which we can access with\n",
    "the `.text` attribute."
   ]
  },
  {
   "cell_type": "code",
   "execution_count": 378,
   "metadata": {},
   "outputs": [],
   "source": [
    "#wikiContentRequest = requests.get(wikipedia_content_analysis)\n",
    "# print(wikiContentRequest.text[:1000])"
   ]
  },
  {
   "cell_type": "markdown",
   "metadata": {},
   "source": [
    "This is not what we were looking for, because it is the start of the HTML that\n",
    "makes up the website. This is HTML and is meant to be read by computers. Luckily\n",
    "we have a computer to parse it for us. To do the parsing we will use [_Beautiful\n",
    "Soup_](https://www.crummy.com/software/BeautifulSoup/) which is a better parser\n",
    "than the one in the standard library."
   ]
  },
  {
   "cell_type": "code",
   "execution_count": 379,
   "metadata": {},
   "outputs": [],
   "source": [
    "# wikiContentSoup = bs4.BeautifulSoup(wikiContentRequest.text, 'html.parser')\n",
    "# print(wikiContentSoup.text[:200])"
   ]
  },
  {
   "cell_type": "markdown",
   "metadata": {},
   "source": [
    "This is better but there's still random whitespace and we have more than just\n",
    "the text of the article. This is because what we requested is the whole webpage,\n",
    "not just the text for the article.\n",
    "\n",
    "We want to extract only the text we care about, and in order to do this we will\n",
    "need to inspect the html. One way to do this is simply to go to the website with\n",
    "a browser and use its inspection or view source tool. If javascript or other\n",
    "dynamic loading occurs on the page, however, it is likely that what Python\n",
    "receives is not what you will see, so we will need to inspect what Python\n",
    "receives. To do this we can save the html `requests` obtained."
   ]
  },
  {
   "cell_type": "code",
   "execution_count": 380,
   "metadata": {},
   "outputs": [],
   "source": [
    "#content_analysis_save = 'wikipedia_content_analysis.html'\n",
    "\n",
    "# with open(content_analysis_save, mode='w', encoding='utf-8') as f:\n",
    "#    f.write(wikiContentRequest.text)"
   ]
  },
  {
   "cell_type": "markdown",
   "metadata": {},
   "source": [
    "Now lets open the file (`wikipedia_content_analysis.html`) we just created with\n",
    "a web browser. It should look sort of like the original but without the images\n",
    "and formatting.\n",
    "\n",
    "As there is very little standardization on structuring webpages, figuring out\n",
    "how best to extract what you want is an art. Looking at this page it looks like\n",
    "all the main textual content is inside `<p>`(paragraph) tags within the `<body>`\n",
    "tag."
   ]
  },
  {
   "cell_type": "code",
   "execution_count": 381,
   "metadata": {},
   "outputs": [],
   "source": [
    "# contentPTags = wikiContentSoup.body.findAll('p')\n",
    "# for pTag in contentPTags[:3]:\n",
    "#    print(pTag.text)"
   ]
  },
  {
   "cell_type": "markdown",
   "metadata": {},
   "source": [
    "We now have all the text from the page, split up by paragraph. If we wanted to\n",
    "get the section headers or references as well it would require a bit more work,\n",
    "but is doable.\n",
    "\n",
    "There is one more thing we might want to do before sending this text to be\n",
    "processed, remove the references indicators (`[2]`, `[3]` , etc). To do this we\n",
    "can use a short regular expression (regex)."
   ]
  },
  {
   "cell_type": "code",
   "execution_count": 382,
   "metadata": {},
   "outputs": [],
   "source": [
    "# contentParagraphs = []\n",
    "# for pTag in contentPTags:\n",
    "    #strings starting with r are raw so their \\'s are not modifier characters\n",
    "    #If we didn't start with r the string would be: '\\\\[\\\\d+\\\\]'\n",
    "#    contentParagraphs.append(re.sub(r'\\[\\d+\\]', '', pTag.text))\n",
    "\n",
    "# convert to a DataFrame\n",
    "# contentParagraphsDF = pandas.DataFrame({'paragraph-text' : contentParagraphs})\n",
    "# print(contentParagraphsDF)"
   ]
  },
  {
   "cell_type": "markdown",
   "metadata": {},
   "source": [
    "Now we have a `DataFrame` containing all relevant text from the page ready to be\n",
    "processed\n",
    "\n",
    "If you are not familiar with regex, it is a way of specifying searches in text.\n",
    "A regex engine takes in the search pattern, in the above case `'\\[\\d+\\]'` and\n",
    "some string, the paragraph texts. Then it reads the input string one character\n",
    "at a time checking if it matches the search. Here the regex `'\\d'` matches\n",
    "number characters (while `'\\['` and `'\\]'` capture the braces on either side)."
   ]
  },
  {
   "cell_type": "code",
   "execution_count": 383,
   "metadata": {},
   "outputs": [],
   "source": [
    "# findNumber = r'\\d'\n",
    "# regexResults = re.search(findNumber, 'not a number, not a number, numbers 2134567890, not a number')\n",
    "# regexResults"
   ]
  },
  {
   "cell_type": "markdown",
   "metadata": {},
   "source": [
    "In Python the regex package (`re`) usually returns `Match` objects (you can have\n",
    "multiple pattern hits in a a single `Match`), to get the string that matched our\n",
    "pattern we can use the `.group()` method, and as we want the first one we will\n",
    "ask for the 0'th group."
   ]
  },
  {
   "cell_type": "code",
   "execution_count": 384,
   "metadata": {},
   "outputs": [],
   "source": [
    "# print(regexResults.group(0))"
   ]
  },
  {
   "cell_type": "markdown",
   "metadata": {},
   "source": [
    "That gives us the first number, if we wanted the whole block of numbers we can\n",
    "add a wildcard `'+'` which requests 1 or more instances of the preceding\n",
    "character."
   ]
  },
  {
   "cell_type": "code",
   "execution_count": 385,
   "metadata": {},
   "outputs": [],
   "source": [
    "# findNumbers = r'\\d+'\n",
    "# regexResults = re.search(findNumbers, 'not a number, not a number, numbers 2134567890, not a number')\n",
    "# print(regexResults.group(0))"
   ]
  },
  {
   "cell_type": "markdown",
   "metadata": {},
   "source": [
    "Now we have the whole block of numbers, there are a huge number of special\n",
    "characters in regex, for the full description of Python's implementation look at\n",
    "the [re docs](https://docs.python.org/3/library/re.html) there is also a short\n",
    "[tutorial](https://docs.python.org/3/howto/regex.html#regex-howto)."
   ]
  },
  {
   "cell_type": "markdown",
   "metadata": {},
   "source": [
    "# <span style=\"color:red\">Section 1</span>\n",
    "<span style=\"color:red\">Construct cells immediately below this that describe and download webcontent relating to your anticipated final project. Use beautiful soup and at least five regular expressions to extract relevant, nontrivial *chunks* of that content (e.g., cleaned sentences, paragraphs, etc.) to a pandas `Dataframe`.</span>"
   ]
  },
  {
   "cell_type": "code",
   "execution_count": 386,
   "metadata": {},
   "outputs": [
    {
     "data": {
      "text/plain": [
       "<Response [200]>"
      ]
     },
     "execution_count": 386,
     "metadata": {},
     "output_type": "execute_result"
    }
   ],
   "source": [
    "## Scraping\n",
    "wikipedia_deins = 'https://en.wikipedia.org/wiki/Deinstitutionalisation'\n",
    "requests.get(wikipedia_deins)"
   ]
  },
  {
   "cell_type": "code",
   "execution_count": 387,
   "metadata": {},
   "outputs": [
    {
     "name": "stdout",
     "output_type": "stream",
     "text": [
      "<!DOCTYPE html>\n",
      "<html class=\"client-nojs\" lang=\"en\" dir=\"ltr\">\n",
      "<head>\n",
      "<meta charset=\"UTF-8\"/>\n",
      "<title>Deinstitutionalisation - Wikipedia</title>\n",
      "<script>document.documentElement.className=\"client-js\";RLCONF={\"wgBreakFrames\":!1,\"wgSeparatorTransformTable\":[\"\",\"\"],\"wgDigitTransformTable\":[\"\",\"\"],\"wgDefaultDateFormat\":\"dmy\",\"wgMonthNames\":[\"\",\"January\",\"February\",\"March\",\"April\",\"May\",\"June\",\"July\",\"August\",\"September\",\"October\",\"November\",\"December\"],\"wgMonthNamesShort\":[\"\",\"Jan\",\"Feb\",\"Mar\",\"Apr\",\"May\",\"Jun\",\"Jul\",\"Aug\",\"Sep\",\"Oct\",\"Nov\",\"Dec\"],\"wgRequestId\":\"Xh9QMwpAICEAAHfU3e0AAADQ\",\"wgCSPNonce\":!1,\"wgCanonicalNamespace\":\"\",\"wgCanonicalSpecialPageName\":!1,\"wgNamespaceNumber\":0,\"wgPageName\":\"Deinstitutionalisation\",\"wgTitle\":\"Deinstitutionalisation\",\"wgCurRevisionId\":928601465,\"wgRevisionId\":928601465,\"wgArticleId\":5270402,\"wgIsArticle\":!0,\"wgIsRedirect\":!1,\"wgAction\":\"view\",\"wgUserName\":null,\"wgUserGroups\":[\"*\"],\"wgCategories\":[\"CS1 Italian-language sources (it)\",\"CS1 maint: archived c\n"
     ]
    }
   ],
   "source": [
    "wikiContentRequest = requests.get(wikipedia_deins)\n",
    "print(wikiContentRequest.text[:1000])"
   ]
  },
  {
   "cell_type": "code",
   "execution_count": 388,
   "metadata": {},
   "outputs": [
    {
     "name": "stdout",
     "output_type": "stream",
     "text": [
      "\n",
      "\n",
      "\n",
      "\n",
      "Deinstitutionalisation - Wikipedia\n",
      "document.documentElement.className=\"client-js\";RLCONF={\"wgBreakFrames\":!1,\"wgSeparatorTransformTable\":[\"\",\"\"],\"wgDigitTransformTable\":[\"\",\"\"],\"wgDefaultDateForma\n"
     ]
    }
   ],
   "source": [
    "wikiContentSoup = bs4.BeautifulSoup(wikiContentRequest.text, 'html.parser')\n",
    "print(wikiContentSoup.text[:200])"
   ]
  },
  {
   "cell_type": "code",
   "execution_count": 389,
   "metadata": {},
   "outputs": [],
   "source": [
    "deins_save = 'wikipedia_deins.html'\n",
    "\n",
    "with open(deins_save, mode='w', encoding='utf-8') as f:\n",
    "    f.write(wikiContentRequest.text)"
   ]
  },
  {
   "cell_type": "code",
   "execution_count": 390,
   "metadata": {},
   "outputs": [
    {
     "name": "stdout",
     "output_type": "stream",
     "text": [
      "Deinstitutionalisation (or deinstitutionalization) is the process of replacing long-stay psychiatric hospitals with less isolated community mental health services for those diagnosed with a mental disorder or developmental disability. In the late 20th century, it led to the closure of many psychiatric hospitals, as patients were increasingly cared for at home, in halfway houses and clinics, and in regular hospitals.\n",
      "\n",
      "Deinstitutionalisation works in two ways. The first focuses on reducing the population size of mental institutions by releasing patients, shortening stays, and reducing both admissions and readmission rates. The second focuses on reforming psychiatric care to reduce (or avoid encouraging) feelings of dependency, hopelessness and other behaviors that make it hard for patients to adjust to a life outside of care.\n",
      "\n",
      "The modern deinstitutionalisation movement was made possible by the discovery of psychiatric drugs in the mid-20th century, which could manage psychotic episodes and reduced the need for patients to be confined and restrained. Another major impetus was a series of socio-political movements that campaigned for patient freedom. Lastly, there were financial imperatives, with many governments also viewing it as a way to save costs.\n",
      "\n"
     ]
    }
   ],
   "source": [
    "contentPTags = wikiContentSoup.body.findAll('p')\n",
    "for pTag in contentPTags[:3]:\n",
    "    print(pTag.text)"
   ]
  },
  {
   "cell_type": "code",
   "execution_count": 391,
   "metadata": {},
   "outputs": [
    {
     "name": "stdout",
     "output_type": "stream",
     "text": [
      "                                       paragraph-text\n",
      "0   Deinstitutionalisation (or deinstitutionalizat...\n",
      "1   Deinstitutionalisation works in two ways. The ...\n",
      "2   The modern deinstitutionalisation movement was...\n",
      "3   The movement to reduce institutionalisation wa...\n",
      "4   The 19th century saw a large expansion in the ...\n",
      "5   By the beginning of the 20th century, increasi...\n",
      "6   The movement for deinstitutionalisation moved ...\n",
      "7   A key text in the development of deinstitution...\n",
      "8   Franco Basaglia, a leading Italian psychiatris...\n",
      "9   The prevailing public arguments, time of onset...\n",
      "10  However, the 20th Century marked the developme...\n",
      "11  Community organizing and development regarding...\n",
      "12  The 20th Century marked the growth in a class ...\n",
      "13  Community services that developed include supp...\n",
      "14  Criticism of deinstitutionalisation takes two ...\n",
      "15  There is a common perception by the public and...\n",
      "16  Findings on violence committed by those with m...\n",
      "17  Common criticisms of the new community service...\n",
      "18  Torrey has opposed deinstitutionalisation in p...\n",
      "19  Other critics argue that deinstitutionalisatio...\n",
      "20  Some mental health academics and campaigners h...\n",
      "21  The argument is that community services can le...\n",
      "22  Thomas Szasz, a longtime opponent of involunta...\n",
      "23  There was an increase in prescriptions of psyc...\n",
      "24  In most countries (except some countries that ...\n",
      "25  Moves to community living and services have le...\n",
      "26  In Hong Kong, a number of residential care ser...\n",
      "27  In Japan, the number of hospital beds has rise...\n",
      "28  Uganda has one psychiatric hospital. There are...\n",
      "29  New Zealand established a reconciliation initi...\n",
      "30  There were some references to instances of hel...\n",
      "31  In some countries[specify] where deinstitution...\n",
      "32  Some developing European countries[specify] st...\n",
      "33  Italy was the first country to begin the deins...\n",
      "34  The reform was focused on the gradual dismantl...\n",
      "35  The work of Giorgio Antonucci, instead of chan...\n",
      "36  In the United Kingdom, the trend towards deins...\n",
      "37  The policy of deinstitutionalisation came to b...\n",
      "38  The United States has experienced two main wav...\n",
      "39  The most important factors that led to deinsti...\n",
      "40  President John F. Kennedy had a special intere...\n",
      "41  The lawsuits these activist groups filed led t...\n",
      "42  Other factors included scandals. A 1972 televi...\n",
      "43  In 1955, for every 100,000 US citizens there w...\n",
      "44  In several South American countries,[specify],...\n",
      "45  In Brazil, there are 6003 psychiatrists, 18,76...\n"
     ]
    }
   ],
   "source": [
    "contentParagraphs = []\n",
    "for pTag in contentPTags:\n",
    "    #strings starting with r are raw so their \\'s are not modifier characters\n",
    "    #If we didn't start with r the string would be: '\\\\[\\\\d+\\\\]'\n",
    "    contentParagraphs.append(re.sub(r'\\[\\d+\\]', '', pTag.text))\n",
    "\n",
    "# convert to a DataFrame\n",
    "contentParagraphsDF = pandas.DataFrame({'paragraph-text' : contentParagraphs})\n",
    "print(contentParagraphsDF)"
   ]
  },
  {
   "cell_type": "markdown",
   "metadata": {},
   "source": [
    "\n",
    "# Spidering\n",
    "\n",
    "What if we want to to get a bunch of different pages from wikipedia. We would\n",
    "need to get the url for each of the pages we want. Typically, we want pages that\n",
    "are linked to by other pages and so we will need to parse pages and identify the\n",
    "links. Right now we will be retrieving all links in the body of the content\n",
    "analysis page.\n",
    "\n",
    "To do this we will need to find all the `<a>` (anchor) tags with `href`s\n",
    "(hyperlink references) inside of `<p>` tags. `href` can have many\n",
    "[different](http://stackoverflow.com/questions/4855168/what-is-href-and-why-is-\n",
    "it-used) [forms](https://en.wikipedia.org/wiki/Hyperlink#Hyperlinks_in_HTML) so\n",
    "dealing with them can be tricky, but generally, you will want to extract\n",
    "absolute or relative links. An absolute link is one you can follow without\n",
    "modification, while a relative link requires a base url that you will then\n",
    "append. Wikipedia uses relative urls for its internal links: below is an example\n",
    "for dealing with them."
   ]
  },
  {
   "cell_type": "code",
   "execution_count": 392,
   "metadata": {},
   "outputs": [],
   "source": [
    "#wikipedia_base_url = 'https://en.wikipedia.org'\n",
    "\n",
    "# otherPAgeURLS = []\n",
    "#We also want to know where the links come from so we also will get:\n",
    "#the paragraph number\n",
    "#the word the link is in\n",
    "# for paragraphNum, pTag in enumerate(contentPTags):\n",
    "    #we only want hrefs that link to wiki pages\n",
    "#    tagLinks = pTag.findAll('a', href=re.compile('/wiki/'), class_=False)\n",
    "#    for aTag in tagLinks:\n",
    "        #We need to extract the url from the <a> tag\n",
    "#        relurl = aTag.get('href')\n",
    "#        linkText = aTag.text\n",
    "        #wikipedia_base_url is the base we can use the urllib joining function to merge them\n",
    "        #Giving a nice structured tupe like this means we can use tuple expansion later\n",
    "#        otherPAgeURLS.append((\n",
    "#            urllib.parse.urljoin(wikipedia_base_url, relurl),\n",
    "#            paragraphNum,\n",
    "#            linkText,\n",
    "#        ))\n",
    "# print(otherPAgeURLS[:10])"
   ]
  },
  {
   "cell_type": "markdown",
   "metadata": {},
   "source": [
    "We will be adding these new texts to our DataFrame `contentParagraphsDF` so we\n",
    "will need to add 2 more columns to keep track of paragraph numbers and sources."
   ]
  },
  {
   "cell_type": "code",
   "execution_count": 393,
   "metadata": {},
   "outputs": [],
   "source": [
    "# contentParagraphsDF['source'] = [wikipedia_content_analysis] * len(contentParagraphsDF['paragraph-text'])\n",
    "# contentParagraphsDF['paragraph-number'] = range(len(contentParagraphsDF['paragraph-text']))\n",
    "\n",
    "# contentParagraphsDF"
   ]
  },
  {
   "cell_type": "markdown",
   "metadata": {},
   "source": [
    "Then we can add two more columns to our `Dataframe` and define a function to\n",
    "parse\n",
    "each linked page and add its text to our DataFrame."
   ]
  },
  {
   "cell_type": "code",
   "execution_count": 394,
   "metadata": {},
   "outputs": [],
   "source": [
    "# contentParagraphsDF['source-paragraph-number'] = [None] * len(contentParagraphsDF['paragraph-text'])\n",
    "# contentParagraphsDF['source-paragraph-text'] = [None] * len(contentParagraphsDF['paragraph-text'])\n",
    "\n",
    "# def getTextFromWikiPage(targetURL, sourceParNum, sourceText):\n",
    "    #Make a dict to store data before adding it to the DataFrame\n",
    "#     parsDict = {'source' : [], 'paragraph-number' : [], 'paragraph-text' : [], 'source-paragraph-number' : [],  'source-paragraph-text' : []}\n",
    "    #Now we get the page\n",
    "#     r = requests.get(targetURL)\n",
    "#     soup = bs4.BeautifulSoup(r.text, 'html.parser')\n",
    "    #enumerating gives use the paragraph number\n",
    "#     for parNum, pTag in enumerate(soup.body.findAll('p')):\n",
    "        #same regex as before\n",
    "#         parsDict['paragraph-text'].append(re.sub(r'\\[\\d+\\]', '', pTag.text))\n",
    "#         parsDict['paragraph-number'].append(parNum)\n",
    "#         parsDict['source'].append(targetURL)\n",
    "#         parsDict['source-paragraph-number'].append(sourceParNum)\n",
    "#         parsDict['source-paragraph-text'].append(sourceText)\n",
    "#     return pandas.DataFrame(parsDict)"
   ]
  },
  {
   "cell_type": "markdown",
   "metadata": {},
   "source": [
    "And run it on our list of link tags"
   ]
  },
  {
   "cell_type": "code",
   "execution_count": 395,
   "metadata": {},
   "outputs": [],
   "source": [
    "# for urlTuple in otherPAgeURLS[:3]:\n",
    "    #ignore_index means the indices will not be reset after each append\n",
    "#     contentParagraphsDF = contentParagraphsDF.append(getTextFromWikiPage(*urlTuple),ignore_index=True)\n",
    "# contentParagraphsDF"
   ]
  },
  {
   "cell_type": "markdown",
   "metadata": {},
   "source": [
    "\n",
    "# <span style=\"color:red\">Section 2</span>\n",
    "<span style=\"color:red\">Construct cells immediately below this that spider webcontent from another site with content relating to your anticipated final project. Specifically, identify urls on a core page, then follow and extract content from them into a pandas `Dataframe`. In addition, demonstrate a *recursive* spider, which follows more than one level of links (i.e., follows links from a site, then follows links on followed sites to new sites, etc.), making sure to define a reasonable endpoint so that you do not wander the web forever :-).</span>\n",
    "\n"
   ]
  },
  {
   "cell_type": "code",
   "execution_count": 396,
   "metadata": {},
   "outputs": [
    {
     "name": "stdout",
     "output_type": "stream",
     "text": [
      "[('https://en.wikipedia.org/wiki/Psychiatric_hospital', 0, 'psychiatric hospitals'), ('https://en.wikipedia.org/wiki/Community_mental_health_service', 0, 'community mental health services'), ('https://en.wikipedia.org/wiki/Mental_disorder', 0, 'mental disorder'), ('https://en.wikipedia.org/wiki/Developmental_disability', 0, 'developmental disability'), ('https://en.wikipedia.org/wiki/Halfway_house', 0, 'halfway houses'), ('https://en.wikipedia.org/wiki/Psychiatric_medication', 2, 'psychiatric drugs'), ('https://en.wikipedia.org/wiki/Psychosis', 2, 'psychotic'), ('https://en.wikipedia.org/wiki/Lunatic_asylum', 4, 'asylums'), ('https://en.wikipedia.org/wiki/Industrialisation', 4, 'industrialised'), ('https://en.wikipedia.org/wiki/Moral_treatment', 4, 'moral treatment')]\n"
     ]
    }
   ],
   "source": [
    "#wikipedia_base_url = 'https://en.wikipedia.org'\n",
    "\n",
    "otherPAgeURLS = []\n",
    "#We also want to know where the links come from so we also will get:\n",
    "#the paragraph number\n",
    "#the word the link is in\n",
    "for paragraphNum, pTag in enumerate(contentPTags):\n",
    "    #we only want hrefs that link to wiki pages\n",
    "    tagLinks = pTag.findAll('a', href=re.compile('/wiki/'), class_=False)\n",
    "    for aTag in tagLinks:\n",
    "        #We need to extract the url from the <a> tag\n",
    "        relurl = aTag.get('href')\n",
    "        linkText = aTag.text\n",
    "        #wikipedia_base_url is the base we can use the urllib joining function to merge them\n",
    "        #Giving a nice structured tupe like this means we can use tuple expansion later\n",
    "        otherPAgeURLS.append((\n",
    "            urllib.parse.urljoin(wikipedia_base_url, relurl),\n",
    "            paragraphNum,\n",
    "            linkText,\n",
    "        ))\n",
    "print(otherPAgeURLS[:10])"
   ]
  },
  {
   "cell_type": "code",
   "execution_count": 397,
   "metadata": {},
   "outputs": [
    {
     "data": {
      "text/html": [
       "<div>\n",
       "<style scoped>\n",
       "    .dataframe tbody tr th:only-of-type {\n",
       "        vertical-align: middle;\n",
       "    }\n",
       "\n",
       "    .dataframe tbody tr th {\n",
       "        vertical-align: top;\n",
       "    }\n",
       "\n",
       "    .dataframe thead th {\n",
       "        text-align: right;\n",
       "    }\n",
       "</style>\n",
       "<table border=\"1\" class=\"dataframe\">\n",
       "  <thead>\n",
       "    <tr style=\"text-align: right;\">\n",
       "      <th></th>\n",
       "      <th>paragraph-text</th>\n",
       "      <th>source</th>\n",
       "      <th>paragraph-number</th>\n",
       "    </tr>\n",
       "  </thead>\n",
       "  <tbody>\n",
       "    <tr>\n",
       "      <td>1</td>\n",
       "      <td>Deinstitutionalisation works in two ways. The ...</td>\n",
       "      <td>https://en.wikipedia.org/wiki/Deinstitutionali...</td>\n",
       "      <td>1</td>\n",
       "    </tr>\n",
       "    <tr>\n",
       "      <td>2</td>\n",
       "      <td>The modern deinstitutionalisation movement was...</td>\n",
       "      <td>https://en.wikipedia.org/wiki/Deinstitutionali...</td>\n",
       "      <td>2</td>\n",
       "    </tr>\n",
       "    <tr>\n",
       "      <td>3</td>\n",
       "      <td>The movement to reduce institutionalisation wa...</td>\n",
       "      <td>https://en.wikipedia.org/wiki/Deinstitutionali...</td>\n",
       "      <td>3</td>\n",
       "    </tr>\n",
       "    <tr>\n",
       "      <td>4</td>\n",
       "      <td>The 19th century saw a large expansion in the ...</td>\n",
       "      <td>https://en.wikipedia.org/wiki/Deinstitutionali...</td>\n",
       "      <td>4</td>\n",
       "    </tr>\n",
       "  </tbody>\n",
       "</table>\n",
       "</div>"
      ],
      "text/plain": [
       "                                      paragraph-text  \\\n",
       "1  Deinstitutionalisation works in two ways. The ...   \n",
       "2  The modern deinstitutionalisation movement was...   \n",
       "3  The movement to reduce institutionalisation wa...   \n",
       "4  The 19th century saw a large expansion in the ...   \n",
       "\n",
       "                                              source  paragraph-number  \n",
       "1  https://en.wikipedia.org/wiki/Deinstitutionali...                 1  \n",
       "2  https://en.wikipedia.org/wiki/Deinstitutionali...                 2  \n",
       "3  https://en.wikipedia.org/wiki/Deinstitutionali...                 3  \n",
       "4  https://en.wikipedia.org/wiki/Deinstitutionali...                 4  "
      ]
     },
     "execution_count": 397,
     "metadata": {},
     "output_type": "execute_result"
    }
   ],
   "source": [
    "contentParagraphsDF['source'] = [wikipedia_deins] * len(contentParagraphsDF['paragraph-text'])\n",
    "contentParagraphsDF['paragraph-number'] = range(len(contentParagraphsDF['paragraph-text']))\n",
    "\n",
    "contentParagraphsDF.iloc[1:5,]"
   ]
  },
  {
   "cell_type": "code",
   "execution_count": 398,
   "metadata": {},
   "outputs": [],
   "source": [
    "contentParagraphsDF['source-paragraph-number'] = [None] * len(contentParagraphsDF['paragraph-text'])\n",
    "contentParagraphsDF['source-paragraph-text'] = [None] * len(contentParagraphsDF['paragraph-text'])\n",
    "\n",
    "def getTextFromWikiPage(targetURL, sourceParNum, sourceText):\n",
    "    #Make a dict to store data before adding it to the DataFrame\n",
    "    parsDict = {'source' : [], 'paragraph-number' : [], 'paragraph-text' : [], 'source-paragraph-number' : [],  'source-paragraph-text' : []}\n",
    "    #Now we get the page\n",
    "    r = requests.get(targetURL)\n",
    "    soup = bs4.BeautifulSoup(r.text, 'html.parser')\n",
    "    #enumerating gives use the paragraph number\n",
    "    for parNum, pTag in enumerate(soup.body.findAll('p')):\n",
    "        #same regex as before\n",
    "        parsDict['paragraph-text'].append(re.sub(r'\\[\\d+\\]', '', pTag.text))\n",
    "        parsDict['paragraph-number'].append(parNum)\n",
    "        parsDict['source'].append(targetURL)\n",
    "        parsDict['source-paragraph-number'].append(sourceParNum)\n",
    "        parsDict['source-paragraph-text'].append(sourceText)\n",
    "    return pandas.DataFrame(parsDict)"
   ]
  },
  {
   "cell_type": "code",
   "execution_count": 399,
   "metadata": {},
   "outputs": [
    {
     "data": {
      "text/html": [
       "<div>\n",
       "<style scoped>\n",
       "    .dataframe tbody tr th:only-of-type {\n",
       "        vertical-align: middle;\n",
       "    }\n",
       "\n",
       "    .dataframe tbody tr th {\n",
       "        vertical-align: top;\n",
       "    }\n",
       "\n",
       "    .dataframe thead th {\n",
       "        text-align: right;\n",
       "    }\n",
       "</style>\n",
       "<table border=\"1\" class=\"dataframe\">\n",
       "  <thead>\n",
       "    <tr style=\"text-align: right;\">\n",
       "      <th></th>\n",
       "      <th>paragraph-number</th>\n",
       "      <th>paragraph-text</th>\n",
       "      <th>source</th>\n",
       "      <th>source-paragraph-number</th>\n",
       "      <th>source-paragraph-text</th>\n",
       "    </tr>\n",
       "  </thead>\n",
       "  <tbody>\n",
       "    <tr>\n",
       "      <td>0</td>\n",
       "      <td>0</td>\n",
       "      <td>Deinstitutionalisation (or deinstitutionalizat...</td>\n",
       "      <td>https://en.wikipedia.org/wiki/Deinstitutionali...</td>\n",
       "      <td>None</td>\n",
       "      <td>None</td>\n",
       "    </tr>\n",
       "    <tr>\n",
       "      <td>1</td>\n",
       "      <td>1</td>\n",
       "      <td>Deinstitutionalisation works in two ways. The ...</td>\n",
       "      <td>https://en.wikipedia.org/wiki/Deinstitutionali...</td>\n",
       "      <td>None</td>\n",
       "      <td>None</td>\n",
       "    </tr>\n",
       "    <tr>\n",
       "      <td>2</td>\n",
       "      <td>2</td>\n",
       "      <td>The modern deinstitutionalisation movement was...</td>\n",
       "      <td>https://en.wikipedia.org/wiki/Deinstitutionali...</td>\n",
       "      <td>None</td>\n",
       "      <td>None</td>\n",
       "    </tr>\n",
       "    <tr>\n",
       "      <td>3</td>\n",
       "      <td>3</td>\n",
       "      <td>The movement to reduce institutionalisation wa...</td>\n",
       "      <td>https://en.wikipedia.org/wiki/Deinstitutionali...</td>\n",
       "      <td>None</td>\n",
       "      <td>None</td>\n",
       "    </tr>\n",
       "    <tr>\n",
       "      <td>4</td>\n",
       "      <td>4</td>\n",
       "      <td>The 19th century saw a large expansion in the ...</td>\n",
       "      <td>https://en.wikipedia.org/wiki/Deinstitutionali...</td>\n",
       "      <td>None</td>\n",
       "      <td>None</td>\n",
       "    </tr>\n",
       "    <tr>\n",
       "      <td>...</td>\n",
       "      <td>...</td>\n",
       "      <td>...</td>\n",
       "      <td>...</td>\n",
       "      <td>...</td>\n",
       "      <td>...</td>\n",
       "    </tr>\n",
       "    <tr>\n",
       "      <td>223</td>\n",
       "      <td>132</td>\n",
       "      <td>Psychopathology in non-human primates has been...</td>\n",
       "      <td>https://en.wikipedia.org/wiki/Mental_disorder</td>\n",
       "      <td>0</td>\n",
       "      <td>mental disorder</td>\n",
       "    </tr>\n",
       "    <tr>\n",
       "      <td>224</td>\n",
       "      <td>133</td>\n",
       "      <td>The risk of anthropomorphism is often raised w...</td>\n",
       "      <td>https://en.wikipedia.org/wiki/Mental_disorder</td>\n",
       "      <td>0</td>\n",
       "      <td>mental disorder</td>\n",
       "    </tr>\n",
       "    <tr>\n",
       "      <td>225</td>\n",
       "      <td>134</td>\n",
       "      <td>Psychopathology has generally been traced, at ...</td>\n",
       "      <td>https://en.wikipedia.org/wiki/Mental_disorder</td>\n",
       "      <td>0</td>\n",
       "      <td>mental disorder</td>\n",
       "    </tr>\n",
       "    <tr>\n",
       "      <td>226</td>\n",
       "      <td>135</td>\n",
       "      <td>Laboratory researchers sometimes try to develo...</td>\n",
       "      <td>https://en.wikipedia.org/wiki/Mental_disorder</td>\n",
       "      <td>0</td>\n",
       "      <td>mental disorder</td>\n",
       "    </tr>\n",
       "    <tr>\n",
       "      <td>227</td>\n",
       "      <td>136</td>\n",
       "      <td>\\n</td>\n",
       "      <td>https://en.wikipedia.org/wiki/Mental_disorder</td>\n",
       "      <td>0</td>\n",
       "      <td>mental disorder</td>\n",
       "    </tr>\n",
       "  </tbody>\n",
       "</table>\n",
       "<p>228 rows × 5 columns</p>\n",
       "</div>"
      ],
      "text/plain": [
       "     paragraph-number                                     paragraph-text  \\\n",
       "0                   0  Deinstitutionalisation (or deinstitutionalizat...   \n",
       "1                   1  Deinstitutionalisation works in two ways. The ...   \n",
       "2                   2  The modern deinstitutionalisation movement was...   \n",
       "3                   3  The movement to reduce institutionalisation wa...   \n",
       "4                   4  The 19th century saw a large expansion in the ...   \n",
       "..                ...                                                ...   \n",
       "223               132  Psychopathology in non-human primates has been...   \n",
       "224               133  The risk of anthropomorphism is often raised w...   \n",
       "225               134  Psychopathology has generally been traced, at ...   \n",
       "226               135  Laboratory researchers sometimes try to develo...   \n",
       "227               136                                                 \\n   \n",
       "\n",
       "                                                source  \\\n",
       "0    https://en.wikipedia.org/wiki/Deinstitutionali...   \n",
       "1    https://en.wikipedia.org/wiki/Deinstitutionali...   \n",
       "2    https://en.wikipedia.org/wiki/Deinstitutionali...   \n",
       "3    https://en.wikipedia.org/wiki/Deinstitutionali...   \n",
       "4    https://en.wikipedia.org/wiki/Deinstitutionali...   \n",
       "..                                                 ...   \n",
       "223      https://en.wikipedia.org/wiki/Mental_disorder   \n",
       "224      https://en.wikipedia.org/wiki/Mental_disorder   \n",
       "225      https://en.wikipedia.org/wiki/Mental_disorder   \n",
       "226      https://en.wikipedia.org/wiki/Mental_disorder   \n",
       "227      https://en.wikipedia.org/wiki/Mental_disorder   \n",
       "\n",
       "    source-paragraph-number source-paragraph-text  \n",
       "0                      None                  None  \n",
       "1                      None                  None  \n",
       "2                      None                  None  \n",
       "3                      None                  None  \n",
       "4                      None                  None  \n",
       "..                      ...                   ...  \n",
       "223                       0       mental disorder  \n",
       "224                       0       mental disorder  \n",
       "225                       0       mental disorder  \n",
       "226                       0       mental disorder  \n",
       "227                       0       mental disorder  \n",
       "\n",
       "[228 rows x 5 columns]"
      ]
     },
     "execution_count": 399,
     "metadata": {},
     "output_type": "execute_result"
    }
   ],
   "source": [
    "for urlTuple in otherPAgeURLS[:3]:\n",
    "    #ignore_index means the indices will not be reset after each append\n",
    "    contentParagraphsDF = contentParagraphsDF.append(getTextFromWikiPage(*urlTuple),ignore_index=True)\n",
    "contentParagraphsDF"
   ]
  },
  {
   "cell_type": "code",
   "execution_count": 400,
   "metadata": {},
   "outputs": [
    {
     "name": "stdout",
     "output_type": "stream",
     "text": [
      "Level  3 https://en.wikipedia.org/wiki/Deinstitutionalisation\n",
      "Level  2 https://en.wikipedia.org/wiki/Deinstitutionalisation_(orphanages_and_children%27s_institutions)\n",
      "Level  1 https://en.wikipedia.org/wiki/Orphanages\n"
     ]
    }
   ],
   "source": [
    "# recursive spider\n",
    "from urllib.request import urlopen\n",
    "def crawler(url, depth):\n",
    "    if depth == 0:\n",
    "        return None\n",
    "\n",
    "    html = urlopen(url)                        \n",
    "    soup = BeautifulSoup(html, 'html.parser')  \n",
    "\n",
    "    links = soup.find(\"div\",{\"id\" : \"bodyContent\"}).findAll(\"a\", href=re.compile(\"(/wiki/)+([A-Za-z0-9_:()])+\"))\n",
    "\n",
    "    print(\"Level \", depth, url)\n",
    "    for link in links[:3]:\n",
    "        if ':' not in link['href']:\n",
    "            crawler(\"https://en.wikipedia.org\"+link['href'], depth - 1)\n",
    "\n",
    "url = \"https://en.wikipedia.org/wiki/Deinstitutionalisation\"\n",
    "crawler(url, 3)"
   ]
  },
  {
   "cell_type": "markdown",
   "metadata": {},
   "source": [
    "## API (Tumblr)\n",
    "\n",
    "Generally website owners do not like you scraping their sites. If done badly,\n",
    "scarping can act like a DOS attack so you should be careful how often you make\n",
    "calls to a site. Some sites want automated tools to access their data, so they\n",
    "create [application programming interface\n",
    "(APIs)](https://en.wikipedia.org/wiki/Application_programming_interface). An API\n",
    "specifies a procedure for an application (or script) to access their data. Often\n",
    "this is though a [representational state transfer\n",
    "(REST)](https://en.wikipedia.org/wiki/Representational_state_transfer) web\n",
    "service, which just means if you make correctly formatted HTTP requests they\n",
    "will return nicely formatted data.\n",
    "\n",
    "A nice example for us to study is [Tumblr](https://www.tumblr.com), they have a\n",
    "[simple RESTful API](https://www.tumblr.com/docs/en/api/v1) that allows you to\n",
    "read posts without any complicated html parsing.\n",
    "\n",
    "We can get the first 20 posts from a blog by making an http GET request to\n",
    "`'http://{blog}.tumblr.com/api/read/json'`, were `{blog}` is the name of the\n",
    "target blog. Lets try and get the posts from [http://lolcats-lol-\n",
    "cat.tumblr.com/](http://lolcats-lol-cat.tumblr.com/) (Note the blog says at the\n",
    "top 'One hour one pic lolcats', but the canonical name that Tumblr uses is in\n",
    "the URL 'lolcats-lol-cat')."
   ]
  },
  {
   "cell_type": "code",
   "execution_count": 401,
   "metadata": {},
   "outputs": [],
   "source": [
    "# tumblrAPItarget = 'http://{}.tumblr.com/api/read/json'\n",
    "\n",
    "# r = requests.get(tumblrAPItarget.format('lolcats-lol-cat'))\n",
    "\n",
    "# print(r.text[:1000])"
   ]
  },
  {
   "cell_type": "markdown",
   "metadata": {},
   "source": [
    "This might not look very good on first inspection, but it has far fewer angle\n",
    "braces than html, which makes it easier to parse. What we have is\n",
    "[JSON](https://en.wikipedia.org/wiki/JSON) a 'human readable' text based data\n",
    "transmission format based on javascript. Luckily, we can readily convert it to a\n",
    "python `dict`."
   ]
  },
  {
   "cell_type": "code",
   "execution_count": 402,
   "metadata": {},
   "outputs": [],
   "source": [
    "#We need to load only the stuff between the curly braces\n",
    "# d = json.loads(r.text[len('var tumblr_api_read = '):-2])\n",
    "# print(d.keys())\n",
    "# print(len(d['posts']))"
   ]
  },
  {
   "cell_type": "markdown",
   "metadata": {},
   "source": [
    "If we read the [API specification](https://www.tumblr.com/docs/en/api/v1), we\n",
    "will see there are a lot of things we can get if we add things to our GET\n",
    "request. First we can retrieve posts by their id number. Let's first get post\n",
    "`146020177084`."
   ]
  },
  {
   "cell_type": "code",
   "execution_count": 403,
   "metadata": {},
   "outputs": [],
   "source": [
    "# r = requests.get(tumblrAPItarget.format('lolcats-lol-cat'), params = {'id' : 146020177084})\n",
    "# d = json.loads(r.text[len('var tumblr_api_read = '):-2])\n",
    "# d['posts'][0].keys()\n",
    "# d['posts'][0]['photo-url-1280']\n",
    "\n",
    "# with open('lolcat.gif', 'wb') as f:\n",
    "#     gifRequest = requests.get(d['posts'][0]['photo-url-1280'], stream = True)\n",
    "#     f.write(gifRequest.content)"
   ]
  },
  {
   "cell_type": "markdown",
   "metadata": {},
   "source": [
    "<img src='lolcat.gif'>\n",
    "\n",
    "Such beauty; such vigor (If you can't see it you have to refresh the page). Now\n",
    "we could retrieve the text from all posts as well\n",
    "as related metadata, like the post date, caption or tags. We could also get\n",
    "links to all the images."
   ]
  },
  {
   "cell_type": "code",
   "execution_count": 404,
   "metadata": {},
   "outputs": [],
   "source": [
    "#Putting a max in case the blog has millions of images\n",
    "#The given max will be rounded up to the nearest multiple of 50\n",
    "# def tumblrImageScrape(blogName, maxImages = 200):\n",
    "    #Restating this here so the function isn't dependent on any external variables\n",
    "#     tumblrAPItarget = 'http://{}.tumblr.com/api/read/json'\n",
    "\n",
    "    #There are a bunch of possible locations for the photo url\n",
    "#     possiblePhotoSuffixes = [1280, 500, 400, 250, 100]\n",
    "\n",
    "    #These are the pieces of information we will be gathering,\n",
    "    #at the end we will convert this to a DataFrame.\n",
    "    #There are a few other datums we could gather like the captions\n",
    "    #you can read the Tumblr documentation to learn how to get them\n",
    "    #https://www.tumblr.com/docs/en/api/v1\n",
    "#     postsData = {\n",
    "#         'id' : [],\n",
    "#         'photo-url' : [],\n",
    "#         'date' : [],\n",
    "#         'tags' : [],\n",
    "#         'photo-type' : []\n",
    "#     }\n",
    "\n",
    "    #Tumblr limits us to a max of 50 posts per request\n",
    "#     for requestNum in range(maxImages // 50):\n",
    "#         requestParams = {\n",
    "#             'start' : requestNum * 50,\n",
    "#             'num' : 50,\n",
    "#             'type' : 'photo'\n",
    "#         }\n",
    "#         r = requests.get(tumblrAPItarget.format(blogName), params = requestParams)\n",
    "#         requestDict = json.loads(r.text[len('var tumblr_api_read = '):-2])\n",
    "#         for postDict in requestDict['posts']:\n",
    "            #We are dealing with uncleaned data, we can't trust it.\n",
    "            #Specifically, not all posts are guaranteed to have the fields we want\n",
    "#             try:\n",
    "#                 postsData['id'].append(postDict['id'])\n",
    "#                 postsData['date'].append(postDict['date'])\n",
    "#                 postsData['tags'].append(postDict['tags'])\n",
    "#             except KeyError as e:\n",
    "#                 raise KeyError(\"Post {} from {} is missing: {}\".format(postDict['id'], blogName, e))\n",
    "\n",
    "#             foundSuffix = False\n",
    "#             for suffix in possiblePhotoSuffixes:\n",
    "#                 try:\n",
    "#                     photoURL = postDict['photo-url-{}'.format(suffix)]\n",
    "#                     postsData['photo-url'].append(photoURL)\n",
    "#                     postsData['photo-type'].append(photoURL.split('.')[-1])\n",
    "#                     foundSuffix = True\n",
    "#                     break\n",
    "#                 except KeyError:\n",
    "#                     pass\n",
    "#             if not foundSuffix:\n",
    "                #Make sure your error messages are useful\n",
    "                #You will be one of the users\n",
    "#                 raise KeyError(\"Post {} from {} is missing a photo url\".format(postDict['id'], blogName))\n",
    "\n",
    "#     return pandas.DataFrame(postsData)\n",
    "# tumblrImageScrape('lolcats-lol-cat', 50)"
   ]
  },
  {
   "cell_type": "markdown",
   "metadata": {},
   "source": [
    "Now we have the urls of a bunch of images and can run OCR on them to gather\n",
    "compelling meme narratives, accompanied by cats.\n",
    "\n",
    "# Files\n",
    "\n",
    "What if the text we want isn't on a webpage? There are a many other sources of\n",
    "text available, typically organized into *files*.\n",
    "\n",
    "## Raw text (and encoding)\n",
    "\n",
    "The most basic form of storing text is as a _raw text_ document. Source code\n",
    "(`.py`, `.r`, etc) is usually raw text as are text files (`.txt`) and those with\n",
    "many other extension (e.g., .csv, .dat, etc.). Opening an unknown file with a\n",
    "text editor is often a great way of learning what the file is.\n",
    "\n",
    "We can create a text file in python with the `open()` function"
   ]
  },
  {
   "cell_type": "code",
   "execution_count": 405,
   "metadata": {},
   "outputs": [],
   "source": [
    "#example_text_file = 'sometextfile.txt'\n",
    "#stringToWrite = 'A line\\nAnother line\\nA line with a few unusual symbols \\u2421 \\u241B \\u20A0 \\u20A1 \\u20A2 \\u20A3 \\u0D60\\n'\n",
    "# stringToWrite = 'A line\\nAnother line\\nA line with a few unusual symbols ␡ ␛ ₠ ₡ ₢ ₣ ൠ\\n'\n",
    "\n",
    "# with open(example_text_file, mode = 'w', encoding='utf-8') as f:\n",
    "#    f.write(stringToWrite)"
   ]
  },
  {
   "cell_type": "markdown",
   "metadata": {},
   "source": [
    "Notice the `encoding='utf-8'` argument, which specifies how we map the bits from\n",
    "the file to the glyphs (and whitespace characters like tab (`'\\t'`) or newline\n",
    "(`'\\n'`)) on the screen. When dealing only with latin letters, arabic numerals\n",
    "and the other symbols on America keyboards you usually do not have to worry\n",
    "about encodings as the ones used today are backwards compatible with\n",
    "[ASCII](https://en.wikipedia.org/wiki/ASCII), which gives the binary\n",
    "representation of 128 characters.\n",
    "\n",
    "Some of you, however, will want to use other characters (e.g., Chinese\n",
    "characters). To solve this there is\n",
    "[Unicode](https://en.wikipedia.org/wiki/Unicode) which assigns numbers to\n",
    "symbols, e.g., 041 is `'A'` and 03A3 is `'Σ'` (numbers starting with 0 are\n",
    "hexadecimal). Often non/beyond-ASCII characters are called Unicode characters.\n",
    "Unicode contains 1,114,112 characters, about 10\\% of which have been assigned.\n",
    "Unfortunately there are many ways used to map combinations of bits to Unicode\n",
    "symbols. The ones you are likely to encounter are called by Python _utf-8_,\n",
    "_utf-16_ and _latin-1_. _utf-8_ is the standard for Linux and Mac OS while both\n",
    "_utf-16_ and _latin-1_ are used by windows. If you use the wrong encoding,\n",
    "characters can appear wrong, sometimes change in number or Python could raise an\n",
    "exception. Lets see what happens when we open the file we just created with\n",
    "different encodings."
   ]
  },
  {
   "cell_type": "code",
   "execution_count": 406,
   "metadata": {},
   "outputs": [],
   "source": [
    "# with open(example_text_file, encoding='utf-8') as f:\n",
    "#    print(\"This is with the correct encoding:\")\n",
    "#    print(f.read())\n",
    "\n",
    "# with open(example_text_file, encoding='latin-1') as f:\n",
    "#    print(\"This is with the wrong encoding:\")\n",
    "#    print(f.read())"
   ]
  },
  {
   "cell_type": "markdown",
   "metadata": {},
   "source": [
    "Notice that with _latin-1_ the unicode characters are mixed up and there are too\n",
    "many of them. You need to keep in mind encoding when obtaining text files.\n",
    "Determining the encoding can sometime involve substantial work."
   ]
  },
  {
   "cell_type": "markdown",
   "metadata": {},
   "source": [
    "We can also load many text files at once. LEts tart by looking at the Shakespeare files in the `data` directory "
   ]
  },
  {
   "cell_type": "code",
   "execution_count": 407,
   "metadata": {},
   "outputs": [],
   "source": [
    "# with open('../data/Shakespeare/midsummer_nights_dream.txt') as f:\n",
    "#    midsummer = f.read()\n",
    "# print(midsummer[-700:])"
   ]
  },
  {
   "cell_type": "markdown",
   "metadata": {},
   "source": [
    "Then to load all the files in `../data/Shakespeare` we can use a for loop with `scandir`:"
   ]
  },
  {
   "cell_type": "code",
   "execution_count": 408,
   "metadata": {},
   "outputs": [],
   "source": [
    "# targetDir = '../data/Shakespeare' #Change this to your own directory of texts\n",
    "# shakespearText = []\n",
    "# shakespearFileName = []\n",
    "\n",
    "# for file in (file for file in os.scandir(targetDir) if file.is_file() and not file.name.startswith('.')):\n",
    "#    with open(file.path) as f:\n",
    "#        shakespearText.append(f.read())\n",
    "#    shakespearFileName.append(file.name)"
   ]
  },
  {
   "cell_type": "markdown",
   "metadata": {},
   "source": [
    "Then we can put them all in pandas DataFrame"
   ]
  },
  {
   "cell_type": "code",
   "execution_count": 409,
   "metadata": {},
   "outputs": [],
   "source": [
    "# shakespear_df = pandas.DataFrame({'text' : shakespearText}, index = shakespearFileName)\n",
    "# shakespear_df"
   ]
  },
  {
   "cell_type": "markdown",
   "metadata": {},
   "source": [
    "Getting your text in a format like this is the first step of most analysis"
   ]
  },
  {
   "cell_type": "markdown",
   "metadata": {},
   "source": [
    "## PDF\n",
    "\n",
    "Another common way text will be stored is in a PDF file. First we will download\n",
    "a pdf in Python. To do that lets grab a chapter from\n",
    "_Speech and Language Processing_, chapter 21 is on Information Extraction which\n",
    "seems apt. It is stored as a pdf at [https://web.stanford.edu/~jurafsky/slp3/21.\n",
    "pdf](https://web.stanford.edu/~jurafsky/slp3/21.pdf) although we are downloading\n",
    "from a copy just in case Jurafsky changes their website."
   ]
  },
  {
   "cell_type": "code",
   "execution_count": 410,
   "metadata": {},
   "outputs": [],
   "source": [
    "#information_extraction_pdf = 'https://github.com/KnowledgeLab/content_analysis/raw/data/21.pdf'\n",
    "\n",
    "# infoExtractionRequest = requests.get(information_extraction_pdf, stream=True)\n",
    "# print(infoExtractionRequest.text[:1000])"
   ]
  },
  {
   "cell_type": "markdown",
   "metadata": {},
   "source": [
    "It says `'pdf'`, so thats a good sign. The rest though looks like we are having\n",
    "issues with an encoding. The random characters are not caused by our encoding\n",
    "being wrong, however. They are cause by there not being an encoding for those\n",
    "parts at all. PDFs are nominally binary files, meaning there are sections of\n",
    "binary that are specific to pdf and nothing else so you need something that\n",
    "knows about pdf to read them. To do that we will be using\n",
    "[`PyPDF2`](https://github.com/mstamy2/PyPDF2), a PDF processing library for\n",
    "Python 3.\n",
    "\n",
    "\n",
    "Because PDFs are a very complicated file format pdfminer requires a large amount\n",
    "of boilerplate code to extract text, we have written a function that takes in an\n",
    "open PDF file and returns the text so you don't have to."
   ]
  },
  {
   "cell_type": "code",
   "execution_count": 411,
   "metadata": {},
   "outputs": [],
   "source": [
    "# def readPDF(pdfFile):\n",
    "    #Based on code from http://stackoverflow.com/a/20905381/4955164\n",
    "    #Using utf-8, if there are a bunch of random symbols try changing this\n",
    "#     codec = 'utf-8'\n",
    "#     rsrcmgr = pdfminer.pdfinterp.PDFResourceManager()\n",
    "#     retstr = io.StringIO()\n",
    "#     layoutParams = pdfminer.layout.LAParams()\n",
    "#     device = pdfminer.converter.TextConverter(rsrcmgr, retstr, laparams = layoutParams, codec = codec)\n",
    "    #We need a device and an interpreter\n",
    "#     interpreter = pdfminer.pdfinterp.PDFPageInterpreter(rsrcmgr, device)\n",
    "#     password = ''\n",
    "#     maxpages = 0\n",
    "#     caching = True\n",
    "#     pagenos=set()\n",
    "#     for page in pdfminer.pdfpage.PDFPage.get_pages(pdfFile, pagenos, maxpages=maxpages, password=password,caching=caching, check_extractable=True):\n",
    "#         interpreter.process_page(page)\n",
    "#     device.close()\n",
    "#     returnedString = retstr.getvalue()\n",
    "#     retstr.close()\n",
    "#     return returnedString"
   ]
  },
  {
   "cell_type": "markdown",
   "metadata": {},
   "source": [
    "First we need to take the response object and convert it into a 'file like'\n",
    "object so that pdfminer can read it. To do this we will use `io`'s `BytesIO`."
   ]
  },
  {
   "cell_type": "code",
   "execution_count": 412,
   "metadata": {},
   "outputs": [],
   "source": [
    "# infoExtractionBytes = io.BytesIO(infoExtractionRequest.content)"
   ]
  },
  {
   "cell_type": "markdown",
   "metadata": {},
   "source": [
    "Now we can give it to pdfminer."
   ]
  },
  {
   "cell_type": "code",
   "execution_count": 413,
   "metadata": {},
   "outputs": [],
   "source": [
    "# print(readPDF(infoExtractionBytes)[:550])"
   ]
  },
  {
   "cell_type": "markdown",
   "metadata": {},
   "source": [
    "From here we can either look at the full text or fiddle with our PDF reader and\n",
    "get more information about individual blocks of text.\n",
    "\n",
    "## Word Docs\n",
    "\n",
    "The other type of document you are likely to encounter is the `.docx`, these are\n",
    "actually a version of [XML](https://en.wikipedia.org/wiki/Office_Open_XML), just\n",
    "like HTML, and like HTML we will use a specialized parser.\n",
    "\n",
    "For this class we will use [`python-docx`](https://python-\n",
    "docx.readthedocs.io/en/latest/) which provides a nice simple interface for\n",
    "reading `.docx` files"
   ]
  },
  {
   "cell_type": "code",
   "execution_count": 414,
   "metadata": {},
   "outputs": [],
   "source": [
    "#example_docx = 'https://github.com/KnowledgeLab/content_analysis/raw/data/example_doc.docx'\n",
    "\n",
    "# r = requests.get(example_docx, stream=True)\n",
    "# d = docx.Document(io.BytesIO(r.content))\n",
    "# for paragraph in d.paragraphs[:7]:\n",
    "#     print(paragraph.text)"
   ]
  },
  {
   "cell_type": "markdown",
   "metadata": {},
   "source": [
    "This procedure uses the `io.BytesIO` class again, since `docx.Document` expects\n",
    "a file. Another way to do it is to save the document to a file and then read it\n",
    "like any other file. If we do this we can either delete the file afterwords, or\n",
    "save it and avoid downloading the following time.\n",
    "\n",
    "This function is useful as a part of many different tasks so it and others like it will be added to the helper package `lucem_illud_2020` so we can use it later without having to retype it."
   ]
  },
  {
   "cell_type": "code",
   "execution_count": 415,
   "metadata": {},
   "outputs": [],
   "source": [
    "# def downloadIfNeeded(targetURL, outputFile, **openkwargs):\n",
    "#     if not os.path.isfile(outputFile):\n",
    "#         outputDir = os.path.dirname(outputFile)\n",
    "        #This function is a more general os.mkdir()\n",
    "#         if len(outputDir) > 0:\n",
    "#             os.makedirs(outputDir, exist_ok = True)\n",
    "#         r = requests.get(targetURL, stream=True)\n",
    "        #Using a closure like this is generally better than having to\n",
    "        #remember to close the file. There are ways to make this function\n",
    "        #work as a closure too\n",
    "#         with open(outputFile, 'wb') as f:\n",
    "#             f.write(r.content)\n",
    "#     return open(outputFile, **openkwargs)"
   ]
  },
  {
   "cell_type": "markdown",
   "metadata": {},
   "source": [
    "This function will download, save and open `outputFile` as `outputFile` or just\n",
    "open it if `outputFile` exists. By default `open()` will open the file as read\n",
    "only text with the local encoding, which may cause issues if its not a text\n",
    "file."
   ]
  },
  {
   "cell_type": "code",
   "execution_count": 416,
   "metadata": {},
   "outputs": [],
   "source": [
    "# try:\n",
    "#     d = docx.Document(downloadIfNeeded(example_docx, example_docx_save))\n",
    "# except Exception as e:\n",
    "#     print(e)"
   ]
  },
  {
   "cell_type": "markdown",
   "metadata": {},
   "source": [
    "We need to tell `open()` to read in binary mode (`'rb'`), this is why we added\n",
    "`**openkwargs`, this allows us to pass any keyword arguments (kwargs) from\n",
    "`downloadIfNeeded` to `open()`."
   ]
  },
  {
   "cell_type": "code",
   "execution_count": 417,
   "metadata": {},
   "outputs": [],
   "source": [
    "# d = docx.Document(downloadIfNeeded(example_docx, example_docx_save, mode = 'rb'))\n",
    "# for paragraph in d.paragraphs[:7]:\n",
    "#     print(paragraph.text)"
   ]
  },
  {
   "cell_type": "markdown",
   "metadata": {},
   "source": [
    "Now we can read the file with `docx.Document` and not have to wait for it to be\n",
    "downloaded every time."
   ]
  },
  {
   "cell_type": "markdown",
   "metadata": {},
   "source": [
    "\n",
    "# <span style=\"color:red\">Section 3</span>\n",
    "<span style=\"color:red\">Construct cells immediately below this that extract and organize textual content from text, PDF or Word into a pandas dataframe.</span>\n"
   ]
  },
  {
   "cell_type": "code",
   "execution_count": 418,
   "metadata": {
    "scrolled": true
   },
   "outputs": [
    {
     "name": "stdout",
     "output_type": "stream",
     "text": [
      "%PDF-1.6\r",
      "%����\r\n",
      "240 0 obj\r",
      "<</Filter/FlateDecode/First 834/Length 1935/N 100/Type/ObjStm>>stream\r\n",
      "h��Y�r\u001b7\f",
      "��\u001c",
      "�%�ϙ�fl���Ώ�JN�\u000f��q�(�G�g��+����w��J�D�%\u0007��\u0012�@� \u0000�F\t)�\u0016$�0F\u0018k�'��G'�T�x�\u001c",
      "� HE�D����\u0010�8#,\te�\u0012V\t��e5Z\u0007\u0004#��h-ZO�:��\u0006�\u0017*B�\r",
      "h]\u00106\n",
      "Ͳ�D\u000b",
      "PGB+\"\u0001�Z\u0019%�F�1o��\u001e",
      "k�B{\u0002�C\u001b0�B\u0007\u0015\u0005�t�\u001c",
      "\u0007�\b\u001c",
      "\u000f�\u0018��'#��\u0005�(\u0000e\b`\u001e",
      "{U\u0001tدV�sؾ�أ�p\u001f�\u0007�qD\u000b",
      "��\n",
      "��\u0002�\\t\"�ft\u0014\u0001x�0\u0006^��\u0002��\"\u0000/b2���߀��>CD�EE�J�\u0016\u0011�Q`�R�F'�bk�\u0015\u0011�5�\\d\u0015�\u001f\"�\u0005x\u0004��~#�<@#�\u0002�I��H\n",
      "\u001d",
      " F��px6��R��)\u0003�\u0012OY(\u0018($q�\n",
      "�!\tUj�v\u0010Ё�IB�\u0006���60\u0003�c�`%��.x\n",
      "�6�a+��\u0010�\u001d",
      "\u000e��\u0013�\u0007Eć\u00043!\u0002��>�\u0018\\А\u0005}��M���\u0000�I�ȀX���/)����\bJ�Ė\n",
      "-y�})>V�4\u0001���Bс�\u0011���\u000eH\u0013:8O��b\u0015�\u0005���\u0018I\u0003�)�\u0000\u0019+C\u0007ȀF\u0007�!u�\u001c",
      "`����\bՒa�`@C0\n",
      "\b}��8�N�~}5��$�iq�W�;'�E9[�]�%ߪ����qy�E\u0017��i��]�y{{]\u0016����\"\u0011�����\bb\u000e\b?/�f�o���%.�3Y�)^Nn�7�(\u000eLw�Tk�x\u000b",
      "y/ʋ�b���ϒ�w�\u000f�b\n",
      "\u0006f�]渂�V��ʼ\u001f��$�d\"\u0007V�\bV�N��\u0017���Ey�qY.\u0004�'z�I\u0015\u0007ӫ�Yq��(\u0017�Q��1{!>�����r�����\u0004~\"}\u001c",
      "\u0017/�\u00177_���_�|�z&�=bR\u0010;H�(�����\"��|$w,;I�\u0004��܉�\u001e",
      "\u0013�d\u0007�z�.\u0012����\u0017˫�i�m�z��2�&�������\u0016\u0013'0���\u0018�\u0017����O��Cq2\u001a��n�S����\u000f_�hS�J�Mu4�wZ���ln�c\r",
      "���N\u0013�@�\u001e",
      "F�n�/������u�N���^\u001c",
      "�kSm'����\u000f���Ӻk:{G\u001d",
      "֚\f",
      "g0�����_���If��k)�ZN1*wZ���)��y�\u0017�tnM�ϸT��L_\n"
     ]
    }
   ],
   "source": [
    "information_extraction_dsm_pdf = 'https://www.psychiatry.org/File%20Library/Psychiatrists/Practice/DSM/APA_DSM-Development-of-DSM-5.pdf'\n",
    "\n",
    "infoExtractionRequest = requests.get(information_extraction_dsm_pdf, stream=True)\n",
    "print(infoExtractionRequest.text[:1000])"
   ]
  },
  {
   "cell_type": "code",
   "execution_count": 419,
   "metadata": {},
   "outputs": [],
   "source": [
    "def readPDF(pdfFile):\n",
    "    #Based on code from http://stackoverflow.com/a/20905381/4955164\n",
    "    #Using utf-8, if there are a bunch of random symbols try changing this\n",
    "    codec = 'utf-8'\n",
    "    rsrcmgr = pdfminer.pdfinterp.PDFResourceManager()\n",
    "    retstr = io.StringIO()\n",
    "    layoutParams = pdfminer.layout.LAParams()\n",
    "    device = pdfminer.converter.TextConverter(rsrcmgr, retstr, laparams = layoutParams, codec = codec)\n",
    "    #We need a device and an interpreter\n",
    "    interpreter = pdfminer.pdfinterp.PDFPageInterpreter(rsrcmgr, device)\n",
    "    password = ''\n",
    "    maxpages = 0\n",
    "    caching = True\n",
    "    pagenos=set()\n",
    "    for page in pdfminer.pdfpage.PDFPage.get_pages(pdfFile, pagenos, maxpages=maxpages, password=password,caching=caching, check_extractable=True):\n",
    "        interpreter.process_page(page)\n",
    "    device.close()\n",
    "    returnedString = retstr.getvalue()\n",
    "    retstr.close()\n",
    "    return returnedString"
   ]
  },
  {
   "cell_type": "code",
   "execution_count": 420,
   "metadata": {},
   "outputs": [],
   "source": [
    "infoExtractionBytes = io.BytesIO(infoExtractionRequest.content)"
   ]
  },
  {
   "cell_type": "code",
   "execution_count": 421,
   "metadata": {},
   "outputs": [
    {
     "name": "stdout",
     "output_type": "stream",
     "text": [
      "The Diagnostic and Statistical Manual of Mental Disorders—or “DSM,” as it is generally called—is the \n",
      "authoritative guide to the diagnosis of mental disorders for health care professionals around the world. \n",
      "In the United States alone, it influences the care that millions of people of all ages receive for mental \n",
      "health issues. Clinicians use DSM to accurately and consistently diagnose disorders affecting mood, per-\n",
      "sonality, identity, cognition, and more. The manual does not address treatment or medications.\n",
      "\n",
      "Published by the American Psychiatric Association (APA), DSM has been updated several times since its \n",
      "first release in 1952. It standardizes diagnoses by psychiatrists, psychologists, social workers, nurses, \n",
      "and other health and mental health professionals, but it also informs research, public health policy, \n",
      "education, reimbursement systems, and forensic science. DSM-5, which will be the first full revision \n",
      "since 1994, represents the contributions of more than 1,500 distinguished mental health and medi-\n",
      "cal experts from around the world as part of an extensive and rigorous development process. It will be \n",
      "published in May 2013.\n"
     ]
    }
   ],
   "source": [
    "print(readPDF(infoExtractionBytes)[49:1204])"
   ]
  },
  {
   "cell_type": "code",
   "execution_count": 422,
   "metadata": {
    "scrolled": false
   },
   "outputs": [],
   "source": [
    "frame = readPDF(infoExtractionBytes)[49:1204]"
   ]
  },
  {
   "cell_type": "code",
   "execution_count": 423,
   "metadata": {},
   "outputs": [
    {
     "data": {
      "text/plain": [
       "'The Diagnostic and Statistical Manual of Mental Disorders—or “DSM,” as it is generally called—is the \\nauthoritative guide to the diagnosis of mental disorders for health care professionals around the world. \\nIn the United States alone, it influences the care that millions of people of all ages receive for mental \\nhealth issues. Clinicians use DSM to accurately and consistently diagnose disorders affecting mood, per-\\nsonality, identity, cognition, and more. The manual does not address treatment or medications.\\n\\nPublished by the American Psychiatric Association (APA), DSM has been updated several times since its \\nfirst release in 1952. It standardizes diagnoses by psychiatrists, psychologists, social workers, nurses, \\nand other health and mental health professionals, but it also informs research, public health policy, \\neducation, reimbursement systems, and forensic science. DSM-5, which will be the first full revision \\nsince 1994, represents the contributions of more than 1,500 distinguished mental health and medi-\\ncal experts from around the world as part of an extensive and rigorous development process. It will be \\npublished in May 2013.'"
      ]
     },
     "execution_count": 423,
     "metadata": {},
     "output_type": "execute_result"
    }
   ],
   "source": [
    "frame"
   ]
  },
  {
   "cell_type": "code",
   "execution_count": 424,
   "metadata": {},
   "outputs": [],
   "source": [
    "frame1 = frame.replace('\\n \\n',', ').replace('\\n','')"
   ]
  },
  {
   "cell_type": "code",
   "execution_count": 425,
   "metadata": {},
   "outputs": [
    {
     "data": {
      "text/plain": [
       "'The Diagnostic and Statistical Manual of Mental Disorders—or “DSM,” as it is generally called—is the authoritative guide to the diagnosis of mental disorders for health care professionals around the world. In the United States alone, it influences the care that millions of people of all ages receive for mental health issues. Clinicians use DSM to accurately and consistently diagnose disorders affecting mood, per-sonality, identity, cognition, and more. The manual does not address treatment or medications.Published by the American Psychiatric Association (APA), DSM has been updated several times since its first release in 1952. It standardizes diagnoses by psychiatrists, psychologists, social workers, nurses, and other health and mental health professionals, but it also informs research, public health policy, education, reimbursement systems, and forensic science. DSM-5, which will be the first full revision since 1994, represents the contributions of more than 1,500 distinguished mental health and medi-cal experts from around the world as part of an extensive and rigorous development process. It will be published in May 2013.'"
      ]
     },
     "execution_count": 425,
     "metadata": {},
     "output_type": "execute_result"
    }
   ],
   "source": [
    "frame1"
   ]
  },
  {
   "cell_type": "code",
   "execution_count": 426,
   "metadata": {},
   "outputs": [
    {
     "data": {
      "text/plain": [
       "['The Diagnostic and Statistical Manual of Mental Disorders—or “DSM,” as it is generally called—is the authoritative guide to the diagnosis of mental disorders for health care professionals around the world.',\n",
       " 'In the United States alone, it influences the care that millions of people of all ages receive for mental health issues.',\n",
       " 'Clinicians use DSM to accurately and consistently diagnose disorders affecting mood, per-sonality, identity, cognition, and more.',\n",
       " 'The manual does not address treatment or medications.Published by the American Psychiatric Association (APA), DSM has been updated several times since its first release in 1952.',\n",
       " 'It standardizes diagnoses by psychiatrists, psychologists, social workers, nurses, and other health and mental health professionals, but it also informs research, public health policy, education, reimbursement systems, and forensic science.',\n",
       " 'DSM-5, which will be the first full revision since 1994, represents the contributions of more than 1,500 distinguished mental health and medi-cal experts from around the world as part of an extensive and rigorous development process.',\n",
       " 'It will be published in May 2013.']"
      ]
     },
     "execution_count": 426,
     "metadata": {},
     "output_type": "execute_result"
    }
   ],
   "source": [
    "# set up line breaks\n",
    "frame1 = frame1.replace('. ','. break')\n",
    "\n",
    "# split the text at the break\n",
    "frame1 = frame1.split(' break')\n",
    "frame1"
   ]
  },
  {
   "cell_type": "code",
   "execution_count": 427,
   "metadata": {},
   "outputs": [
    {
     "data": {
      "text/html": [
       "<div>\n",
       "<style scoped>\n",
       "    .dataframe tbody tr th:only-of-type {\n",
       "        vertical-align: middle;\n",
       "    }\n",
       "\n",
       "    .dataframe tbody tr th {\n",
       "        vertical-align: top;\n",
       "    }\n",
       "\n",
       "    .dataframe thead th {\n",
       "        text-align: right;\n",
       "    }\n",
       "</style>\n",
       "<table border=\"1\" class=\"dataframe\">\n",
       "  <thead>\n",
       "    <tr style=\"text-align: right;\">\n",
       "      <th></th>\n",
       "      <th>dsmDocumentSentences</th>\n",
       "    </tr>\n",
       "  </thead>\n",
       "  <tbody>\n",
       "    <tr>\n",
       "      <td>0</td>\n",
       "      <td>The Diagnostic and Statistical Manual of Menta...</td>\n",
       "    </tr>\n",
       "    <tr>\n",
       "      <td>1</td>\n",
       "      <td>In the United States alone, it influences the ...</td>\n",
       "    </tr>\n",
       "    <tr>\n",
       "      <td>2</td>\n",
       "      <td>Clinicians use DSM to accurately and consisten...</td>\n",
       "    </tr>\n",
       "    <tr>\n",
       "      <td>3</td>\n",
       "      <td>The manual does not address treatment or medic...</td>\n",
       "    </tr>\n",
       "    <tr>\n",
       "      <td>4</td>\n",
       "      <td>It standardizes diagnoses by psychiatrists, ps...</td>\n",
       "    </tr>\n",
       "  </tbody>\n",
       "</table>\n",
       "</div>"
      ],
      "text/plain": [
       "                                dsmDocumentSentences\n",
       "0  The Diagnostic and Statistical Manual of Menta...\n",
       "1  In the United States alone, it influences the ...\n",
       "2  Clinicians use DSM to accurately and consisten...\n",
       "3  The manual does not address treatment or medic...\n",
       "4  It standardizes diagnoses by psychiatrists, ps..."
      ]
     },
     "execution_count": 427,
     "metadata": {},
     "output_type": "execute_result"
    }
   ],
   "source": [
    "dsn_df = pd.DataFrame([sub.split(\"',\") for sub in frame1])\n",
    "dsn_df.columns = ['dsmDocumentSentences']\n",
    "dsn_df.head()"
   ]
  },
  {
   "cell_type": "markdown",
   "metadata": {},
   "source": [
    "### Other sources:\n",
    "\n",
    "Other popular sources for internet data:\n",
    "\n",
    "[reddit](https://www.reddit.com/) - https://praw.readthedocs.io/en/v2.1.21/\n",
    "\n",
    "[twitter](https://twitter.com/) - https://pypi.org/project/python-twitter/\n",
    "\n",
    "[project gutenburg](https://www.gutenberg.org/) - https://github.com/ageitgey/Gutenberg \n",
    "\n"
   ]
  }
 ],
 "metadata": {
  "kernelspec": {
   "display_name": "Python 3",
   "language": "python",
   "name": "python3"
  },
  "language_info": {
   "codemirror_mode": {
    "name": "ipython",
    "version": 3
   },
   "file_extension": ".py",
   "mimetype": "text/x-python",
   "name": "python",
   "nbconvert_exporter": "python",
   "pygments_lexer": "ipython3",
   "version": "3.7.4"
  }
 },
 "nbformat": 4,
 "nbformat_minor": 2
}
