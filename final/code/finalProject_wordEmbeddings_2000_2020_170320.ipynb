{
 "cells": [
  {
   "cell_type": "code",
   "execution_count": 1,
   "metadata": {},
   "outputs": [],
   "source": [
    "################################################\n",
    "########## COUNTING WORDS AND PHRASES ##########\n",
    "################################################"
   ]
  },
  {
   "cell_type": "code",
   "execution_count": 2,
   "metadata": {},
   "outputs": [],
   "source": [
    "#All these packages need to be installed from pip\n",
    "import gensim#For word2vec, etc\n",
    "import requests #For downloading our datasets\n",
    "import lucem_illud_2020\n",
    "\n",
    "import numpy as np #For arrays\n",
    "import pandas as pd #Gives us DataFrames\n",
    "import matplotlib.pyplot as plt #For graphics\n",
    "import seaborn #Makes the graphics look nicer\n",
    "import sklearn.metrics.pairwise #For cosine similarity\n",
    "import sklearn.manifold #For T-SNE\n",
    "import sklearn.decomposition #For PCA\n",
    "\n",
    "#This 'magic' command makes the plots work better\n",
    "#in the notebook, don't use it outside of a notebook.\n",
    "#Also you can ignore the warning\n",
    "%matplotlib inline\n",
    "\n",
    "import os #For looking through files\n",
    "import os.path #For managing file paths"
   ]
  },
  {
   "cell_type": "code",
   "execution_count": 3,
   "metadata": {},
   "outputs": [],
   "source": [
    "# read in dataframes separated by year\n",
    "movie_df_1940_2020 = pd.read_csv(\"/Users/laurenbeard/Desktop/compContentAnalysis/Content-Analysis-2020/final/movie_df_1940_2020.csv\") \n",
    "movie_df_1940_1960 = pd.read_csv(\"/Users/laurenbeard/Desktop/compContentAnalysis/Content-Analysis-2020/final/movie_df_1940_1960.csv\")\n",
    "movie_df_1960_1980 = pd.read_csv(\"/Users/laurenbeard/Desktop/compContentAnalysis/Content-Analysis-2020/final/movie_df_1960_1980.csv\")\n",
    "movie_df_1980_2000 = pd.read_csv(\"/Users/laurenbeard/Desktop/compContentAnalysis/Content-Analysis-2020/final/movie_df_1980_2000.csv\")\n",
    "movie_df_2000_2020 = pd.read_csv(\"/Users/laurenbeard/Desktop/compContentAnalysis/Content-Analysis-2020/final/movie_df_2000_2020.csv\")"
   ]
  },
  {
   "cell_type": "code",
   "execution_count": 4,
   "metadata": {},
   "outputs": [],
   "source": [
    "##############################\n",
    "########## WORD2VEC ##########\n",
    "##############################"
   ]
  },
  {
   "cell_type": "code",
   "execution_count": 5,
   "metadata": {},
   "outputs": [],
   "source": [
    "movie_df_2000_2020['tokenized_sents'] = movie_df_2000_2020['Text'].apply(lambda x: [lucem_illud_2020.word_tokenize(s) for s in lucem_illud_2020.sent_tokenize(x)])\n",
    "movie_df_2000_2020['normalized_sents'] = movie_df_2000_2020['tokenized_sents'].apply(lambda x: [lucem_illud_2020.normalizeTokens(s) for s in x])"
   ]
  },
  {
   "cell_type": "code",
   "execution_count": 6,
   "metadata": {},
   "outputs": [],
   "source": [
    "movieW2V_2000_2020 = gensim.models.word2vec.Word2Vec(movie_df_2000_2020['normalized_sents'].sum())"
   ]
  },
  {
   "cell_type": "code",
   "execution_count": 7,
   "metadata": {},
   "outputs": [
    {
     "data": {
      "text/plain": [
       "['know', 'be', 'yes', 'come', 'like', 'get', 'right', 'think', 'oh', 'okay']"
      ]
     },
     "execution_count": 7,
     "metadata": {},
     "output_type": "execute_result"
    }
   ],
   "source": [
    "movieW2V_2000_2020.wv.index2entity[:10]"
   ]
  },
  {
   "cell_type": "code",
   "execution_count": 8,
   "metadata": {},
   "outputs": [
    {
     "data": {
      "text/plain": [
       "[('bad', 0.8280739784240723),\n",
       " ('nighty', 0.7530741691589355),\n",
       " ('amaze', 0.7247777581214905),\n",
       " ('excite', 0.7223174571990967),\n",
       " ('ksi', 0.7185305953025818),\n",
       " ('lovely', 0.7157480120658875),\n",
       " ('friday', 0.7129403352737427),\n",
       " ('shitheel', 0.7020125389099121),\n",
       " ('wake', 0.6996279954910278),\n",
       " ('saturday', 0.699553906917572)]"
      ]
     },
     "execution_count": 8,
     "metadata": {},
     "output_type": "execute_result"
    }
   ],
   "source": [
    "movieW2V_2000_2020.most_similar('good')"
   ]
  },
  {
   "cell_type": "code",
   "execution_count": 9,
   "metadata": {},
   "outputs": [
    {
     "data": {
      "text/plain": [
       "'want'"
      ]
     },
     "execution_count": 9,
     "metadata": {},
     "output_type": "execute_result"
    }
   ],
   "source": [
    "movieW2V_2000_2020.doesnt_match(['good', 'love', 'want', 'thank'])"
   ]
  },
  {
   "cell_type": "code",
   "execution_count": 10,
   "metadata": {},
   "outputs": [],
   "source": [
    "movieW2V_2000_2020.save(\"movieWORD2Vec_2000_2020\")"
   ]
  },
  {
   "cell_type": "code",
   "execution_count": 11,
   "metadata": {},
   "outputs": [],
   "source": [
    "numWords_2000_2020 = 10\n",
    "targetWords_2000_2020 = movieW2V_2000_2020.wv.index2word[:numWords_2000_2020]"
   ]
  },
  {
   "cell_type": "code",
   "execution_count": 14,
   "metadata": {},
   "outputs": [
    {
     "data": {
      "text/plain": [
       "array([[-5.43218255e-01, -7.41809130e-01, -5.78817010e-01,\n",
       "         2.77319938e-01, -1.80656314e-01, -2.17103288e-01,\n",
       "        -3.60455960e-01, -2.45207176e-01, -1.74238622e-01,\n",
       "        -1.49946824e-01, -2.43790060e-01, -2.24270806e-01,\n",
       "         7.93370068e-01, -3.55102241e-01,  2.10617017e-02,\n",
       "         3.43083516e-02,  7.02836871e-01,  1.74556404e-01,\n",
       "        -8.32714215e-02, -1.69155717e-01,  1.68538436e-01,\n",
       "         4.25528497e-01, -4.29414004e-01,  6.43021055e-03,\n",
       "        -1.53307736e-01, -1.21932462e-01, -2.92412966e-01,\n",
       "         4.65005964e-01,  1.66319367e-02,  2.34705240e-01,\n",
       "         2.62469977e-01,  3.29091191e-01, -3.33141595e-01,\n",
       "         5.88707209e-01,  2.51877278e-01,  5.00013709e-01,\n",
       "         1.31172076e-01,  1.83273792e-01, -4.33838189e-01,\n",
       "        -9.78725404e-02,  2.29685735e-02,  1.16695380e-02,\n",
       "        -2.80113488e-01,  1.15232460e-01, -1.79842234e-01,\n",
       "         6.10522747e-01, -3.49861741e-01,  3.59077781e-01,\n",
       "        -1.13629758e-01, -2.07764745e-01,  7.85158798e-02,\n",
       "        -3.95918906e-01,  3.35044503e-01, -5.30102432e-01,\n",
       "        -5.07451475e-01, -1.79811239e-01,  7.05482662e-01,\n",
       "        -5.21581769e-02,  3.58208179e-01,  4.41063941e-02,\n",
       "        -2.09422857e-01, -6.77867472e-01, -2.01765716e-01,\n",
       "         4.62754637e-01,  9.28959902e-03, -2.84889966e-01,\n",
       "         4.22614574e-01, -2.51645237e-01, -2.13421628e-01,\n",
       "         6.83315694e-01, -1.62936777e-01,  6.92675054e-01,\n",
       "        -5.53983510e-01,  7.25693583e-01,  9.59666073e-02,\n",
       "         1.05891287e+00, -2.57307142e-01, -9.86335650e-02,\n",
       "        -1.98011369e-01,  2.38720417e-01, -2.22101554e-01,\n",
       "        -7.75625557e-02,  3.27881277e-01, -1.89604238e-01,\n",
       "        -2.87367553e-02,  1.75119326e-01, -6.08277321e-01,\n",
       "         5.89916706e-01,  3.49668682e-01,  5.85805893e-01,\n",
       "         1.06919073e-01, -2.24050224e-01,  1.17636874e-01,\n",
       "         2.78283775e-01, -6.75276935e-01, -7.43623853e-01,\n",
       "         2.87660003e-01,  2.69139737e-01, -9.01917815e-02,\n",
       "         3.16423953e-01],\n",
       "       [ 7.28104472e-01, -1.48070025e+00, -1.55502081e-01,\n",
       "        -4.56160933e-01,  9.94636714e-01, -9.38406706e-01,\n",
       "        -5.16029596e-01, -4.25692350e-01,  4.60825562e-01,\n",
       "        -2.19400778e-01,  1.02589786e+00, -2.29856074e-01,\n",
       "         4.72860187e-02,  2.78198689e-01,  1.74490011e+00,\n",
       "         4.98967797e-01,  7.97765553e-01, -8.10888886e-01,\n",
       "         3.70910972e-01,  1.60022359e-02,  4.30915594e-01,\n",
       "        -2.05351323e-01,  1.92907244e-01,  6.92912191e-02,\n",
       "         5.06331027e-01, -4.40256387e-01, -6.65737510e-01,\n",
       "         9.21683967e-01, -3.48704308e-01, -6.37748063e-01,\n",
       "        -1.24700278e-01,  5.95443010e-01, -9.25458848e-01,\n",
       "         3.60485375e-01, -4.06281650e-01,  4.24961537e-01,\n",
       "        -1.91867054e-01,  1.88131094e-01, -6.51110113e-01,\n",
       "         2.92940706e-01,  1.23249865e+00,  8.35432298e-03,\n",
       "        -7.33276904e-01,  2.03088056e-02,  4.40849632e-01,\n",
       "        -1.18124150e-01, -4.57557946e-01,  1.54961383e+00,\n",
       "        -6.54311597e-01, -3.59003954e-02,  3.47578049e-01,\n",
       "        -1.60758173e+00, -3.20266783e-01,  1.71208665e-01,\n",
       "        -8.66563261e-01,  4.47513670e-01,  1.27469301e+00,\n",
       "        -9.27998245e-01,  6.20097935e-01,  1.17357932e-01,\n",
       "        -4.43968415e-01, -9.73736882e-01, -7.37682998e-01,\n",
       "         3.56848866e-01, -1.55721462e+00, -1.24379599e+00,\n",
       "         3.23331773e-01, -3.64207208e-01, -1.29759490e-01,\n",
       "         5.34156621e-01, -5.53921521e-01,  5.67502320e-01,\n",
       "        -5.87405041e-02, -2.60846078e-01,  9.87067521e-01,\n",
       "         8.94001544e-01,  4.80407953e-01, -1.46414459e-01,\n",
       "         4.36841249e-01, -2.31690541e-01, -4.72636670e-01,\n",
       "         5.66467308e-02, -8.00578762e-03, -5.37156582e-01,\n",
       "        -8.10580134e-01, -1.88077427e-02, -5.06506801e-01,\n",
       "         7.69657671e-01,  5.55554390e-01,  5.31080127e-01,\n",
       "         1.02144599e+00, -1.87782228e-01, -2.64663268e-02,\n",
       "         1.51349890e+00, -6.57412112e-02, -9.44699287e-01,\n",
       "         2.60357261e-01, -8.41658354e-01, -2.26818383e-01,\n",
       "        -2.72530049e-01],\n",
       "       [-5.26743457e-02, -7.57633805e-01, -2.90444549e-02,\n",
       "        -3.37979309e-02, -1.88724428e-01, -6.30111814e-01,\n",
       "        -9.72093046e-02, -3.84773701e-01,  5.94468750e-02,\n",
       "        -1.61791176e-01,  2.35907957e-01, -3.07221375e-02,\n",
       "         5.77146590e-01, -2.55897027e-02, -1.88087672e-01,\n",
       "         1.73568025e-01,  1.05860531e+00,  6.26787543e-01,\n",
       "        -1.76030710e-01, -2.83638895e-01,  4.61786896e-01,\n",
       "        -9.57517102e-02, -3.10168892e-01,  1.91283315e-01,\n",
       "        -3.43346953e-01, -1.98597182e-02, -5.73374271e-01,\n",
       "         5.16389668e-01, -1.28750786e-01, -3.46528560e-01,\n",
       "        -1.50308851e-02, -5.61503023e-02, -1.85941532e-01,\n",
       "         4.04667482e-02,  2.24485561e-01,  4.07768518e-01,\n",
       "        -7.54091069e-02, -1.78146973e-01, -5.64710498e-01,\n",
       "        -1.07240736e-01,  1.43117771e-01, -1.75005630e-01,\n",
       "        -1.82762444e-01,  3.50623876e-01, -2.89510429e-01,\n",
       "         1.01526201e+00, -1.97351649e-01,  7.65450656e-01,\n",
       "        -3.68997842e-01, -7.17433542e-02, -1.86128974e-01,\n",
       "        -4.60496157e-01, -4.86568883e-02, -1.23838581e-01,\n",
       "        -2.50592887e-01,  3.74428853e-02,  4.72621650e-01,\n",
       "        -5.26789308e-01,  6.21958375e-01,  6.64872874e-04,\n",
       "        -1.15786321e-01, -6.91082358e-01, -7.20848590e-02,\n",
       "         4.69353884e-01, -3.75431836e-01, -2.26972118e-01,\n",
       "         1.11041248e-01,  1.34551302e-01,  7.57566169e-02,\n",
       "        -2.85026636e-02, -3.39760631e-02,  1.42885774e-01,\n",
       "        -1.97731312e-02,  4.27178025e-01,  8.40306282e-02,\n",
       "         6.89220786e-01, -2.30925485e-01, -3.83855939e-01,\n",
       "        -1.76732764e-01,  2.36273915e-01, -5.81872582e-01,\n",
       "        -1.74669817e-01,  7.02996319e-03,  2.43555516e-01,\n",
       "        -5.28016686e-01,  8.06382671e-03, -7.15721130e-01,\n",
       "         3.33238274e-01,  4.06100184e-01,  4.84153509e-01,\n",
       "         1.77799910e-01, -1.87371060e-01,  3.35080475e-01,\n",
       "         6.06969118e-01, -5.95576763e-01, -4.25768286e-01,\n",
       "         1.66140333e-01,  9.45728272e-02, -1.50558546e-01,\n",
       "        -1.94098189e-01],\n",
       "       [ 1.77253410e-01, -1.32278502e-01, -2.46570989e-01,\n",
       "        -2.34379709e-01,  6.52799681e-02, -2.92547703e-01,\n",
       "        -3.96680593e-01, -2.87721515e-01, -4.38011795e-01,\n",
       "         3.16484123e-01,  4.65876386e-02, -4.36274052e-01,\n",
       "         5.85273206e-01, -4.95514162e-02, -3.35969865e-01,\n",
       "        -8.04075897e-02,  2.00520843e-01,  3.68145853e-01,\n",
       "        -2.16764927e-01,  2.60781229e-01,  4.40334707e-01,\n",
       "        -3.03289406e-02, -7.73639262e-01, -3.35972100e-01,\n",
       "         7.03683421e-02,  1.77301213e-01, -1.13200702e-01,\n",
       "         6.41501546e-01,  2.80041993e-01, -9.59484428e-02,\n",
       "         4.05005544e-01, -2.25262970e-01, -3.15417312e-02,\n",
       "         2.04443634e-01,  4.52407569e-01,  8.25455785e-01,\n",
       "         3.92516851e-01,  1.00296505e-01, -2.40050063e-01,\n",
       "        -3.98496836e-01, -2.55362928e-01,  6.15825772e-01,\n",
       "        -5.11067569e-01, -1.59898937e-01,  1.89444853e-03,\n",
       "         3.52549665e-02, -5.02907038e-01,  8.16900730e-01,\n",
       "         1.60812467e-01,  2.90859863e-02,  1.14790253e-01,\n",
       "        -1.99566558e-01,  4.94458616e-01, -5.02202451e-01,\n",
       "        -6.82829320e-01, -9.90050435e-02,  4.35419887e-01,\n",
       "        -6.76167846e-01,  2.61745691e-01, -8.26688558e-02,\n",
       "        -4.91024762e-01, -7.48392344e-01, -4.38850820e-01,\n",
       "         1.85066666e-02, -3.42595041e-01, -1.27773553e-01,\n",
       "        -2.58779019e-01,  4.94534880e-01, -3.90384078e-01,\n",
       "         4.36122119e-02,  1.50278628e-01, -1.86122522e-01,\n",
       "         1.74489152e-02, -8.00848678e-02,  3.76494914e-01,\n",
       "         4.03262585e-01, -4.18949962e-01,  6.97217286e-01,\n",
       "        -8.59634876e-02, -2.23752677e-01, -1.08469591e-01,\n",
       "         2.25667700e-01, -2.40852192e-01,  1.72759414e-01,\n",
       "        -3.04655075e-01, -1.61566049e-01, -8.13673809e-02,\n",
       "        -2.18544245e-01,  1.00658512e+00,  6.78513348e-01,\n",
       "        -8.48024711e-02,  2.35520869e-01,  1.50971681e-01,\n",
       "         7.62289241e-02, -8.54480028e-01, -6.05217107e-02,\n",
       "        -3.42680633e-01,  2.03595445e-01, -6.68138027e-01,\n",
       "         5.93190677e-02],\n",
       "       [-6.81944117e-02, -1.04366231e+00, -5.87745368e-01,\n",
       "        -1.85273886e-01,  2.31717661e-01,  6.68183088e-01,\n",
       "         1.12452116e-02,  1.18499234e-01, -5.27831495e-01,\n",
       "        -4.61490124e-01, -5.19536324e-02, -3.68076205e-01,\n",
       "         8.47760618e-01, -7.61669278e-01,  7.59928405e-01,\n",
       "         4.76535976e-01, -8.27573389e-02, -1.33764997e-01,\n",
       "         3.44247252e-01, -6.01964653e-01,  1.98268875e-01,\n",
       "         6.72548413e-01, -5.04605472e-01,  1.52257487e-01,\n",
       "         1.93764400e-02,  7.67396629e-01, -6.80727065e-01,\n",
       "         1.19540565e-01, -2.14290977e-01, -1.25575945e-01,\n",
       "        -1.50453895e-01,  5.37376404e-01,  4.95293468e-01,\n",
       "         9.04176295e-01, -1.24952562e-01, -3.81928653e-01,\n",
       "         4.59964108e-03,  6.72518015e-01, -3.98883194e-01,\n",
       "        -1.78271100e-01,  5.43682575e-02,  4.00801510e-01,\n",
       "        -7.20485866e-01,  1.42457366e-01, -4.97328937e-01,\n",
       "         2.77553797e-01, -4.71079648e-01, -3.89235824e-01,\n",
       "         2.24095047e-01, -3.11427027e-01, -5.65286800e-02,\n",
       "        -2.67156839e-01, -4.23708618e-01, -5.37185788e-01,\n",
       "        -9.68393207e-01, -2.97645450e-01,  7.73136795e-01,\n",
       "        -3.04368772e-02, -2.48798624e-01, -4.20644641e-01,\n",
       "         5.03460824e-01, -6.64850831e-01, -1.05631359e-01,\n",
       "         1.60732999e-01, -2.89317608e-01,  3.10347110e-01,\n",
       "         2.55243152e-01, -4.05568361e-01, -4.13825870e-01,\n",
       "         8.56490374e-01,  1.13264941e-01,  1.01451671e+00,\n",
       "        -2.31499165e-01,  8.62532854e-01, -3.80525738e-02,\n",
       "         8.71134460e-01, -7.56234348e-01, -1.59437776e-01,\n",
       "        -1.26362339e-01, -4.88669723e-01,  6.40690029e-01,\n",
       "         7.11394310e-01,  6.51561797e-01,  4.98440163e-03,\n",
       "        -2.98355460e-01,  2.98776627e-02,  2.37400874e-01,\n",
       "         6.54458880e-01,  4.91575897e-01,  6.09319031e-01,\n",
       "        -5.28417900e-02,  6.77321434e-01,  3.91603589e-01,\n",
       "         2.55908132e-01, -5.88729203e-01, -6.91336334e-01,\n",
       "         1.23882979e-01, -3.13880444e-01, -7.90874422e-01,\n",
       "         2.93091033e-02],\n",
       "       [-2.24224299e-01, -1.59228563e+00, -5.00471108e-02,\n",
       "        -1.17202389e+00,  2.51025438e-01, -1.50811136e-01,\n",
       "        -4.20210987e-01,  3.36742193e-01, -2.76660591e-01,\n",
       "        -1.17776549e+00,  4.45901364e-01, -6.62111044e-01,\n",
       "         5.59745431e-01, -4.92606878e-01, -6.67787790e-01,\n",
       "        -2.52204299e-01, -5.79644799e-01,  4.40334290e-01,\n",
       "        -7.34685600e-01, -1.52628392e-01,  1.21525443e+00,\n",
       "         2.82185912e-01, -5.82040012e-01, -4.33526859e-02,\n",
       "        -5.71409285e-01,  8.53705585e-01, -7.54208982e-01,\n",
       "        -8.24741364e-01,  1.09714650e-01,  6.79496169e-01,\n",
       "        -5.49602881e-02,  5.75203538e-01, -5.94840050e-01,\n",
       "         4.96439129e-01,  3.84880692e-01,  1.47764254e+00,\n",
       "        -2.79353708e-01,  1.79901436e-01, -4.02072072e-01,\n",
       "        -2.57566869e-02, -5.08008778e-01,  8.33538949e-01,\n",
       "        -4.39400047e-01, -5.28517365e-01,  7.83368647e-01,\n",
       "         5.33465683e-01, -2.20028579e-01,  7.38445222e-01,\n",
       "        -2.92251289e-01, -7.37139761e-01, -7.41846263e-01,\n",
       "        -2.93501109e-01,  3.95013660e-01, -6.77167237e-01,\n",
       "        -6.06095970e-01,  2.80474097e-01,  2.97351450e-01,\n",
       "        -1.27374351e+00, -5.91338158e-01,  9.17008817e-01,\n",
       "        -9.20103490e-01,  4.46099102e-01, -5.18454254e-01,\n",
       "        -8.22793171e-02,  4.04234976e-01, -4.84982394e-02,\n",
       "         1.51926383e-01,  7.49169663e-02,  6.33586824e-01,\n",
       "         2.03391835e-01,  9.11509156e-01, -9.30376828e-01,\n",
       "        -6.45075858e-01, -2.82997727e-01, -4.32689548e-01,\n",
       "         1.24371958e+00, -6.63008749e-01, -6.82931840e-02,\n",
       "        -3.84926468e-01, -5.86548388e-01, -8.31859350e-01,\n",
       "         7.78491199e-01,  4.91209239e-01, -1.32710889e-01,\n",
       "         1.53883457e+00, -2.34491631e-01, -9.41122591e-01,\n",
       "        -3.34123313e-01,  1.56327868e+00,  1.00618601e+00,\n",
       "         7.95050561e-01,  5.65405451e-02,  3.25148702e-01,\n",
       "        -4.45131123e-01, -1.22925246e+00, -7.09951282e-01,\n",
       "        -3.24754030e-01,  2.13201389e-01, -6.11431241e-01,\n",
       "        -8.54522586e-01],\n",
       "       [ 2.74090230e-01, -3.05592149e-01,  5.77371828e-02,\n",
       "         1.72691390e-01,  1.64589837e-01, -3.26648355e-01,\n",
       "        -4.28159863e-01, -1.71111122e-01, -2.35550150e-01,\n",
       "         1.02782369e-01,  6.05306774e-02, -2.46153504e-01,\n",
       "         4.79243428e-01, -2.75427699e-01, -6.99333940e-03,\n",
       "         7.55412951e-02,  4.44103509e-01,  5.51851332e-01,\n",
       "        -1.17325902e-01, -4.17997353e-02,  2.26915225e-01,\n",
       "        -2.11669132e-01, -6.10308409e-01, -2.89835662e-01,\n",
       "        -5.04512608e-01, -7.02363327e-02, -4.70012575e-01,\n",
       "         2.44681194e-01, -2.64915377e-01,  1.88743889e-01,\n",
       "        -3.30467254e-01,  1.78456664e-01, -4.16970104e-01,\n",
       "         6.67619929e-02,  4.36909139e-01,  2.50304371e-01,\n",
       "        -4.53379124e-01, -2.18661040e-01,  2.55593330e-01,\n",
       "         1.84908375e-01,  1.78627912e-02,  5.30877709e-01,\n",
       "        -4.08466250e-01,  3.88032116e-04, -9.06351656e-02,\n",
       "         4.39395458e-01, -1.69010788e-01,  7.11979508e-01,\n",
       "        -2.11332709e-01, -2.14606807e-01, -1.13519058e-02,\n",
       "        -5.57224572e-01, -1.20427825e-01, -3.11101317e-01,\n",
       "        -3.01948458e-01, -6.52573854e-02,  4.39293623e-01,\n",
       "        -5.15157461e-01,  2.68299520e-01, -4.70406085e-01,\n",
       "         5.29036224e-02, -5.86386502e-01, -2.17070460e-01,\n",
       "         1.36010170e-01, -2.81787276e-01, -4.42731380e-02,\n",
       "        -5.52898236e-02, -4.87273075e-02, -2.39797577e-01,\n",
       "         4.50494498e-01,  3.74754548e-01,  2.81824589e-01,\n",
       "        -1.52777150e-01,  3.19290012e-01, -1.83409359e-02,\n",
       "         8.57967198e-01, -4.83472347e-01,  5.96789382e-02,\n",
       "        -1.00752361e-01,  1.44725991e-02, -4.10083860e-01,\n",
       "         2.72224158e-01,  2.39631459e-01,  2.33047783e-01,\n",
       "        -1.91981792e-01,  3.11022967e-01, -3.55514705e-01,\n",
       "         3.69198591e-01,  5.32005072e-01,  6.10089123e-01,\n",
       "         2.90049285e-01,  3.37850541e-01,  3.54280651e-01,\n",
       "         1.10275611e-01, -9.45234120e-01, -1.64367199e-01,\n",
       "         9.23575461e-02,  7.56159658e-03, -4.75552350e-01,\n",
       "        -6.57367036e-02],\n",
       "       [-3.28649759e-01, -5.38261473e-01, -4.90691394e-01,\n",
       "         7.56313428e-02,  4.06090319e-02,  7.48097375e-02,\n",
       "         4.42507900e-02,  5.65947071e-02,  1.93763420e-01,\n",
       "        -3.69144529e-01, -6.05684472e-03, -7.91746527e-02,\n",
       "         1.02715731e+00, -5.09527862e-01,  1.48153216e-01,\n",
       "        -1.29487127e-01,  9.02014434e-01, -2.55008787e-01,\n",
       "         1.57656670e-01, -3.74019802e-01,  5.15107036e-01,\n",
       "        -1.08096398e-01, -4.67558861e-01,  2.55394578e-01,\n",
       "        -2.62162238e-01, -9.29389074e-02, -3.35735142e-01,\n",
       "         5.42125404e-01, -1.73441336e-01,  1.66163102e-01,\n",
       "         1.68180525e-01, -1.81009136e-02, -1.64990500e-01,\n",
       "         4.94391829e-01,  3.22052360e-01,  6.60796165e-01,\n",
       "         2.33049020e-01,  2.76093662e-01, -6.19847059e-01,\n",
       "        -2.55295690e-02,  2.88879424e-01, -1.30861506e-01,\n",
       "        -1.16767645e-01,  1.04072370e-01, -4.34641123e-01,\n",
       "         5.93684733e-01, -1.60571486e-01,  5.70844710e-01,\n",
       "        -8.32646042e-02, -2.57346302e-01,  2.28018433e-01,\n",
       "        -4.59213465e-01,  2.47512385e-01,  9.27310064e-02,\n",
       "        -4.75658864e-01, -3.73051986e-02,  8.00652206e-01,\n",
       "        -2.19369754e-01,  6.75813794e-01,  2.18356386e-01,\n",
       "        -3.40674967e-01, -7.07116306e-01,  1.59578726e-01,\n",
       "         5.32618165e-01, -3.72837245e-01, -4.68426377e-01,\n",
       "         2.73388207e-01, -1.01912227e-02,  6.25212491e-02,\n",
       "         7.39830852e-01, -3.46059561e-01,  3.55877578e-01,\n",
       "        -5.64463198e-01,  7.19504535e-01,  2.17889473e-01,\n",
       "         1.34681797e+00, -1.77050114e-01, -3.88070136e-01,\n",
       "        -2.60945439e-01,  8.35252926e-02, -4.78931278e-01,\n",
       "        -2.33883440e-01,  6.06750786e-01, -1.99723706e-01,\n",
       "         3.13076168e-01,  4.41507399e-01, -2.87221611e-01,\n",
       "         3.65975052e-01,  3.28821152e-01,  4.77313817e-01,\n",
       "        -1.90338511e-02, -2.14881271e-01,  2.33268440e-01,\n",
       "         2.80047834e-01, -6.84293628e-01, -6.13491297e-01,\n",
       "         2.88171053e-01,  1.45661354e-01, -1.46848887e-01,\n",
       "         4.40120041e-01],\n",
       "       [ 1.05768077e-01, -3.34253848e-01, -4.15182143e-01,\n",
       "         7.44378865e-02,  3.21839869e-01, -8.94538581e-01,\n",
       "        -9.33459103e-02, -4.23962623e-01, -2.11784989e-01,\n",
       "        -2.44156141e-02,  8.40997636e-01, -1.06446542e-01,\n",
       "        -1.01893403e-01, -3.24192137e-01, -6.34050608e-01,\n",
       "         4.17560756e-01,  1.40028298e+00,  4.04462904e-01,\n",
       "        -3.27854633e-01, -8.70532334e-01,  1.26383960e-01,\n",
       "         4.09142941e-01, -3.21731061e-01, -1.20768711e-01,\n",
       "        -2.46770903e-01,  2.60660827e-01, -4.50169146e-01,\n",
       "         4.98885721e-01, -5.44194162e-01, -2.64928371e-01,\n",
       "        -5.67353427e-01, -4.56416070e-01,  7.91802704e-02,\n",
       "         3.77408713e-01,  3.27943683e-01,  5.85959330e-02,\n",
       "        -6.02755025e-02,  1.95116445e-01, -1.66904286e-01,\n",
       "         1.57512754e-01, -5.18982559e-02, -3.24701816e-01,\n",
       "        -1.61118403e-01,  9.16875124e-01, -5.60756922e-01,\n",
       "         1.49386215e+00, -2.04921514e-01,  6.71228588e-01,\n",
       "         4.95477580e-02,  3.33373994e-02,  4.12096500e-01,\n",
       "        -7.92536855e-01, -1.56226754e-01, -5.35909951e-01,\n",
       "        -9.95912924e-02, -8.48821163e-01,  4.79884297e-01,\n",
       "        -2.44388014e-01,  4.96325672e-01,  4.82436921e-03,\n",
       "        -7.05385685e-01, -7.68872082e-01,  1.50208279e-01,\n",
       "         6.32954121e-01, -8.33592340e-02, -4.25518841e-01,\n",
       "        -5.09729981e-01,  3.75840694e-01,  2.59025931e-01,\n",
       "        -4.52700146e-02,  5.83201826e-01, -3.33265727e-03,\n",
       "         2.55416334e-01, -2.11978406e-02, -1.71835348e-01,\n",
       "         1.18229532e+00, -1.08588353e-01,  1.13180853e-01,\n",
       "        -5.57926996e-03,  1.53550655e-01, -1.73030972e-01,\n",
       "         7.02987909e-01,  4.67339531e-02,  2.94270843e-01,\n",
       "        -8.93367887e-01, -5.46131551e-01, -8.52087021e-01,\n",
       "         1.20684728e-01,  6.21738076e-01,  4.66211915e-01,\n",
       "        -3.61900091e-01,  3.90468985e-01,  5.73661029e-02,\n",
       "         7.44704664e-01, -3.79680932e-01,  7.14609101e-02,\n",
       "        -1.76603109e-01, -5.33645451e-01, -2.71329969e-01,\n",
       "         1.65362045e-01],\n",
       "       [ 2.75946617e-01, -8.48448455e-01, -1.01567172e-02,\n",
       "        -2.45471671e-02, -1.60964459e-01, -5.41374803e-01,\n",
       "        -2.92005390e-01, -1.27041891e-01, -3.94157469e-01,\n",
       "         3.05544555e-01,  3.92426282e-01,  9.19992998e-02,\n",
       "         5.02076387e-01,  2.69672973e-03, -7.67905712e-02,\n",
       "        -5.51475212e-02,  3.72932792e-01,  5.59301794e-01,\n",
       "        -1.54848784e-01,  2.23120358e-02,  4.36875045e-01,\n",
       "        -1.65002510e-01, -2.32684046e-01, -2.27863029e-01,\n",
       "        -3.05514723e-01,  5.34714349e-02, -7.50630260e-01,\n",
       "         6.28849268e-01, -1.83099806e-01, -2.09521472e-01,\n",
       "        -1.28803074e-01, -2.26639360e-01, -1.39560208e-01,\n",
       "        -7.41092786e-02,  4.56345409e-01,  2.59527326e-01,\n",
       "         1.16817215e-02, -3.66069406e-01, -8.92345160e-02,\n",
       "         6.88772351e-02,  2.16704741e-01,  4.98742580e-01,\n",
       "        -1.49681434e-01,  2.93185204e-01, -4.41987753e-01,\n",
       "         3.55550647e-01, -4.31338549e-01,  1.28292394e+00,\n",
       "        -2.54177570e-01,  5.51734604e-02,  1.67451233e-01,\n",
       "        -7.78961957e-01, -4.10889149e-01, -3.68558556e-01,\n",
       "        -2.99396515e-01, -2.87519783e-01,  4.83326912e-01,\n",
       "        -1.05051839e+00,  5.92393279e-01, -7.50233233e-02,\n",
       "        -5.08439600e-01, -9.36185420e-01,  1.36678532e-01,\n",
       "         2.00311586e-01, -5.23814142e-01, -2.46254951e-01,\n",
       "         1.99699521e-01, -2.59209722e-02,  1.36351064e-01,\n",
       "         3.45274836e-01, -4.53000776e-02,  2.28778809e-01,\n",
       "        -2.37452477e-01,  6.34526014e-01, -2.91410126e-02,\n",
       "         8.19884300e-01, -2.19807535e-01, -3.11830550e-01,\n",
       "        -1.31728336e-01,  1.97077125e-01, -5.91484904e-01,\n",
       "         1.87650800e-01, -1.20384470e-01,  4.90221940e-02,\n",
       "        -6.70610666e-01,  1.25994220e-01, -3.81309390e-01,\n",
       "         2.99451441e-01,  1.02303541e+00,  6.57920957e-01,\n",
       "        -2.18042523e-01,  2.26469800e-01,  1.41474813e-01,\n",
       "         8.86233747e-02, -7.40799606e-01, -3.22046787e-01,\n",
       "        -2.79340912e-02,  4.87666242e-02, -1.79160982e-01,\n",
       "         1.06277227e-01]], dtype=float32)"
      ]
     },
     "execution_count": 14,
     "metadata": {},
     "output_type": "execute_result"
    }
   ],
   "source": [
    "# extract their vectors and create our own smaller matrix that preserved the distances from the original:\n",
    "wordsSubMatrix_2000_2020 = []\n",
    "for word in targetWords_2000_2020:\n",
    "    wordsSubMatrix_2000_2020.append(movieW2V_2000_2020[word])\n",
    "wordsSubMatrix_2000_2020 = np.array(wordsSubMatrix_2000_2020)\n",
    "wordsSubMatrix_2000_2020"
   ]
  },
  {
   "cell_type": "code",
   "execution_count": 15,
   "metadata": {},
   "outputs": [],
   "source": [
    "# use PCA to reduce the dimesions (e.g., to 50), and T-SNE to project them down to the two we will visualize\n",
    "pcaWords_2000_2020 = sklearn.decomposition.PCA(n_components = 10).fit(wordsSubMatrix_2000_2020)\n",
    "reducedPCA_data_2000_2020 = pcaWords_2000_2020.transform(wordsSubMatrix_2000_2020)\n",
    "#T-SNE is theoretically better, but you should experiment\n",
    "tsneWords_2000_2020 = sklearn.manifold.TSNE(n_components = 2).fit_transform(reducedPCA_data_2000_2020)"
   ]
  },
  {
   "cell_type": "code",
   "execution_count": 16,
   "metadata": {},
   "outputs": [
    {
     "data": {
      "image/png": "[encoded data removed]",
      "text/plain": [
       "<Figure size 720x720 with 1 Axes>"
      ]
     },
     "metadata": {},
     "output_type": "display_data"
    }
   ],
   "source": [
    "fig = plt.figure(figsize = (10,10))\n",
    "ax = fig.add_subplot(111)\n",
    "ax.set_frame_on(False)\n",
    "plt.scatter(tsneWords_2000_2020[:, 0], tsneWords_2000_2020[:, 1], alpha = 0)#Making the points invisible \n",
    "for i, word in enumerate(targetWords_2000_2020):\n",
    "    ax.annotate(word, (tsneWords_2000_2020[:, 0][i],tsneWords_2000_2020[:, 1][i]), size =  20 * (numWords_2000_2020 - i) / numWords_2000_2020)\n",
    "plt.xticks(())\n",
    "plt.yticks(())\n",
    "plt.show()"
   ]
  },
  {
   "cell_type": "code",
   "execution_count": 17,
   "metadata": {},
   "outputs": [],
   "source": [
    "#############################\n",
    "########## DOC2VEC ##########\n",
    "#############################"
   ]
  },
  {
   "cell_type": "code",
   "execution_count": 18,
   "metadata": {},
   "outputs": [],
   "source": [
    "# We will load these as documents into Word2Vec, but first we need to normalize and pick some tags.\n",
    "keywords = ['good', 'bad', 'kill', 'save', 'stop', 'fight','beat','man','woman','miss','mr','mother','dad','good','right','wrong']"
   ]
  },
  {
   "cell_type": "code",
   "execution_count": 19,
   "metadata": {},
   "outputs": [],
   "source": [
    "taggedDocs_2000_2020 = []\n",
    "for index, row in movie_df_2000_2020.iterrows():\n",
    "    #Just doing a simple keyword assignment\n",
    "    docKeywords_2000_2020 = [s for s in keywords if s in row['normalized_words']]\n",
    "    docKeywords_2000_2020.append(row['Year'])\n",
    "    docKeywords_2000_2020.append(row['Movie Name']) #This lets us extract individual documnets since doi's are unique\n",
    "    taggedDocs_2000_2020.append(gensim.models.doc2vec.LabeledSentence(words = row['normalized_words'], tags = docKeywords_2000_2020))\n",
    "movie_df_2000_2020['TaggedAbstracts'] = taggedDocs_2000_2020"
   ]
  },
  {
   "cell_type": "code",
   "execution_count": 20,
   "metadata": {},
   "outputs": [
    {
     "name": "stderr",
     "output_type": "stream",
     "text": [
      "/opt/anaconda3/lib/python3.7/site-packages/gensim/models/doc2vec.py:574: UserWarning: The parameter `size` is deprecated, will be removed in 4.0.0, use `vector_size` instead.\n",
      "  warnings.warn(\"The parameter `size` is deprecated, will be removed in 4.0.0, use `vector_size` instead.\")\n"
     ]
    }
   ],
   "source": [
    "movieD2V_2000_2020 = gensim.models.doc2vec.Doc2Vec(movie_df_2000_2020['TaggedAbstracts'], size = 50) #Limiting to 50 dimensions"
   ]
  },
  {
   "cell_type": "code",
   "execution_count": 21,
   "metadata": {},
   "outputs": [
    {
     "data": {
      "text/plain": [
       "[('kill', 0.9999999403953552),\n",
       " ('From Time to Time', 0.4255041182041168),\n",
       " (309, 0.407075971364975),\n",
       " (914, 0.40278708934783936),\n",
       " (595, 0.3931695818901062)]"
      ]
     },
     "execution_count": 21,
     "metadata": {},
     "output_type": "execute_result"
    }
   ],
   "source": [
    "movieD2V_2000_2020.docvecs.most_similar([ movieD2V_2000_2020['kill'] ], topn=5 )"
   ]
  },
  {
   "cell_type": "code",
   "execution_count": 29,
   "metadata": {},
   "outputs": [],
   "source": [
    "################################\n",
    "########## PROJECTION ##########\n",
    "################################"
   ]
  },
  {
   "cell_type": "code",
   "execution_count": 30,
   "metadata": {},
   "outputs": [],
   "source": [
    "#words to create dimensions\n",
    "tnytTargetWords = ['good','bad','fight', 'kill', 'save', 'stop']\n",
    "#words we will be mapping\n",
    "tnytTargetWords += [\"man\",\"woman\",\"old\",\"money\",\"right\", \"know\",\"come\"]"
   ]
  },
  {
   "cell_type": "code",
   "execution_count": 31,
   "metadata": {},
   "outputs": [],
   "source": [
    "wordsSubMatrix_2000_2020 = []\n",
    "for word in tnytTargetWords:\n",
    "    wordsSubMatrix_2000_2020.append(movieW2V_2000_2020[word])\n",
    "wordsSubMatrix_2000_2020 = np.array(wordsSubMatrix_2000_2020)"
   ]
  },
  {
   "cell_type": "code",
   "execution_count": 34,
   "metadata": {},
   "outputs": [],
   "source": [
    "pcaWordsMovie_2000_2020 = sklearn.decomposition.PCA(n_components = 10).fit(wordsSubMatrix_2000_2020)\n",
    "reducedPCA_dataMovie_2000_2020 = pcaWordsMovie_2000_2020.transform(wordsSubMatrix_2000_2020)\n",
    "#T-SNE is theoretically better, but you should experiment\n",
    "tsneWordsMovie_2000_2020 = sklearn.manifold.TSNE(n_components = 2).fit_transform(reducedPCA_dataMovie_2000_2020)"
   ]
  },
  {
   "cell_type": "code",
   "execution_count": 35,
   "metadata": {},
   "outputs": [
    {
     "data": {
      "image/png": "[encoded data removed]",
      "text/plain": [
       "<Figure size 720x432 with 1 Axes>"
      ]
     },
     "metadata": {},
     "output_type": "display_data"
    }
   ],
   "source": [
    "fig = plt.figure(figsize = (10,6))\n",
    "ax = fig.add_subplot(111)\n",
    "ax.set_frame_on(False)\n",
    "plt.scatter(tsneWordsMovie_2000_2020[:, 0], tsneWordsMovie_2000_2020[:, 1], alpha = 0) #Making the points invisible\n",
    "for i, word in enumerate(tnytTargetWords):\n",
    "    ax.annotate(word, (tsneWordsMovie_2000_2020[:, 0][i],tsneWordsMovie_2000_2020[:, 1][i]), size =  50 * (len(tnytTargetWords) - i) / len(tnytTargetWords))\n",
    "plt.xticks(())\n",
    "plt.yticks(())\n",
    "plt.show()"
   ]
  },
  {
   "cell_type": "code",
   "execution_count": 36,
   "metadata": {},
   "outputs": [],
   "source": [
    "# Define some convenient functions for getting dimensions.\n",
    "def normalize(vector):\n",
    "    normalized_vector = vector / np.linalg.norm(vector)\n",
    "    return normalized_vector\n",
    "\n",
    "def dimension(model, positives, negatives):\n",
    "    diff = sum([normalize(model[x]) for x in positives]) - sum([normalize(model[y]) for y in negatives])\n",
    "    return diff"
   ]
  },
  {
   "cell_type": "code",
   "execution_count": 37,
   "metadata": {},
   "outputs": [],
   "source": [
    "# Let's calculate 2 dimensions: violence and nonviolence\n",
    "violence_2000_2020 = dimension(movieW2V_2000_2020, ['bad'], ['fight','kill'])\n",
    "nonviolence_2000_2020 = dimension(movieW2V_2000_2020, ['good'], ['save','stop'])"
   ]
  },
  {
   "cell_type": "code",
   "execution_count": 38,
   "metadata": {},
   "outputs": [],
   "source": [
    "# words around gender and incentives\n",
    "gender = [\"man\",\"woman\"]\n",
    "incentive = [\"money\",\"know\",\"right\"]"
   ]
  },
  {
   "cell_type": "code",
   "execution_count": 41,
   "metadata": {},
   "outputs": [],
   "source": [
    "# Define a function to project words in a word list to each of the 2 dimensions\n",
    "def makeDF(model, word_list):\n",
    "    n = []\n",
    "    v = []\n",
    "    for word in word_list:\n",
    "        n.append(sklearn.metrics.pairwise.cosine_similarity(movieW2V_2000_2020[word].reshape(1,-1), violence_2000_2020.reshape(1,-1))[0][0])\n",
    "        v.append(sklearn.metrics.pairwise.cosine_similarity(movieW2V_2000_2020[word].reshape(1,-1), nonviolence_2000_2020.reshape(1,-1))[0][0])\n",
    "    df = pd.DataFrame({'nonviolence': n, 'violence': v}, index = word_list)\n",
    "    return df"
   ]
  },
  {
   "cell_type": "code",
   "execution_count": 42,
   "metadata": {},
   "outputs": [],
   "source": [
    "# Get the projections.\n",
    "genderdf_2000_2020 = makeDF(movieW2V_2000_2020, gender) \n",
    "incentivedf_2000_2020 = makeDF(movieW2V_2000_2020, incentive)"
   ]
  },
  {
   "cell_type": "code",
   "execution_count": 43,
   "metadata": {},
   "outputs": [],
   "source": [
    "# Define some useful functions for plotting.\n",
    "def Coloring(Series):\n",
    "    x = Series.values\n",
    "    y = x-x.min()\n",
    "    z = y/y.max()\n",
    "    c = list(plt.cm.rainbow(z))\n",
    "    return c\n",
    "\n",
    "def PlotDimension(ax,df, dim):\n",
    "    ax.set_frame_on(False)\n",
    "    ax.set_title(dim, fontsize = 20)\n",
    "    colors = Coloring(df[dim])\n",
    "    for i, word in enumerate(df.index):\n",
    "        ax.annotate(word, (0, df[dim][i]), color = colors[i], alpha = 0.6, fontsize = 12)\n",
    "    MaxY = df[dim].max()\n",
    "    MinY = df[dim].min()\n",
    "    plt.ylim(MinY,MaxY)\n",
    "    plt.yticks(())\n",
    "    plt.xticks(())"
   ]
  },
  {
   "cell_type": "code",
   "execution_count": 44,
   "metadata": {},
   "outputs": [
    {
     "data": {
      "image/png": "[encoded data removed]",
      "text/plain": [
       "<Figure size 864x288 with 2 Axes>"
      ]
     },
     "metadata": {},
     "output_type": "display_data"
    }
   ],
   "source": [
    "# Plot the gender words in the 2 dimensions \n",
    "fig = plt.figure(figsize = (12,4))\n",
    "ax1 = fig.add_subplot(131)\n",
    "PlotDimension(ax1, genderdf_2000_2020, 'nonviolence')\n",
    "ax2 = fig.add_subplot(132)\n",
    "PlotDimension(ax2, genderdf_2000_2020, 'violence')\n",
    "plt.show()"
   ]
  },
  {
   "cell_type": "code",
   "execution_count": 45,
   "metadata": {},
   "outputs": [
    {
     "data": {
      "image/png": "[encoded data removed]",
      "text/plain": [
       "<Figure size 864x288 with 2 Axes>"
      ]
     },
     "metadata": {},
     "output_type": "display_data"
    }
   ],
   "source": [
    "# Plot the incentive words in the dimensions\n",
    "fig = plt.figure(figsize = (12,4))\n",
    "ax1 = fig.add_subplot(131)\n",
    "PlotDimension(ax1, incentivedf_2000_2020, 'nonviolence')\n",
    "ax2 = fig.add_subplot(132)\n",
    "PlotDimension(ax2, incentivedf_2000_2020, 'violence')\n",
    "plt.show()"
   ]
  }
 ],
 "metadata": {
  "kernelspec": {
   "display_name": "Python 3",
   "language": "python",
   "name": "python3"
  },
  "language_info": {
   "codemirror_mode": {
    "name": "ipython",
    "version": 3
   },
   "file_extension": ".py",
   "mimetype": "text/x-python",
   "name": "python",
   "nbconvert_exporter": "python",
   "pygments_lexer": "ipython3",
   "version": "3.7.4"
  }
 },
 "nbformat": 4,
 "nbformat_minor": 2
}
