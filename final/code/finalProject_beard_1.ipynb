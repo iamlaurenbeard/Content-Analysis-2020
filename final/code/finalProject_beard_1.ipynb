{
 "cells": [
  {
   "cell_type": "code",
   "execution_count": 8,
   "metadata": {},
   "outputs": [],
   "source": [
    "## Lauren Beard\n",
    "## Final Project\n",
    "## Professor Evans\n",
    "## 170320"
   ]
  },
  {
   "cell_type": "code",
   "execution_count": 9,
   "metadata": {},
   "outputs": [],
   "source": [
    "##################################\n",
    "######### LOAD PACKAGES ##########\n",
    "##################################"
   ]
  },
  {
   "cell_type": "code",
   "execution_count": 10,
   "metadata": {},
   "outputs": [],
   "source": [
    "#Special module written for this class\n",
    "#This provides access to data and to helper functions from previous weeks\n",
    "import lucem_illud_2020 #pip install git+git://github.com/Computational-Content-Analysis-2020/lucem_illud_2020.git\n",
    "\n",
    "#All these packages need to be installed from pip\n",
    "import requests #for http requests\n",
    "import pandas as pd #gives us DataFrames\n",
    "import matplotlib.pyplot as plt #For graphics\n",
    "import wordcloud #Makes word clouds\n",
    "import numpy as np #For divergences/distances\n",
    "import scipy #For divergences/distances\n",
    "import seaborn as sns #makes our plots look nicer\n",
    "import sklearn.manifold #For a manifold plot\n",
    "import json #For API responses\n",
    "import urllib.parse #For joining urls\n",
    "\n",
    "# comp-linguistics\n",
    "import spacy\n",
    "\n",
    "#Displays the graphs\n",
    "import graphviz #You also need to install the command line graphviz\n",
    "\n",
    "#These are from the standard library\n",
    "import os.path\n",
    "import zipfile\n",
    "import subprocess\n",
    "import io\n",
    "import tempfile\n",
    "\n",
    "#This 'magic' command makes the plots work better\n",
    "#in the notebook, don't use it outside of a notebook\n",
    "%matplotlib inline"
   ]
  },
  {
   "cell_type": "code",
   "execution_count": 11,
   "metadata": {},
   "outputs": [],
   "source": [
    "##################################\n",
    "########## LOAD CORPUS ###########\n",
    "####### ORGANIZE DATASETS ########\n",
    "##################################"
   ]
  },
  {
   "cell_type": "code",
   "execution_count": 12,
   "metadata": {},
   "outputs": [],
   "source": [
    "# Load corpus\n",
    "corpus_name = \"/Users/laurenbeard/Downloads/Movies/\""
   ]
  },
  {
   "cell_type": "code",
   "execution_count": 13,
   "metadata": {},
   "outputs": [],
   "source": [
    "# This method extracts the text from the zip files and stroes the raw data.\n",
    "def loadcorpus(corpus_name, corpus_style=\"text\"):\n",
    "    texts_raw = {}\n",
    "    for file in os.listdir(corpus_name + \"/\"):\n",
    "        if corpus_style in file:\n",
    "            print(file)\n",
    "            zfile = zipfile.ZipFile(corpus_name + \"/\" + file)\n",
    "            for file in zfile.namelist():\n",
    "                texts_raw[file] = []\n",
    "                with zfile.open(file) as f:\n",
    "                    for line in f:\n",
    "                        texts_raw[file].append(line)\n",
    "    return texts_raw"
   ]
  },
  {
   "cell_type": "code",
   "execution_count": 14,
   "metadata": {},
   "outputs": [
    {
     "name": "stdout",
     "output_type": "stream",
     "text": [
      "text_13_idi.zip\n",
      "text_16_qll.zip\n",
      "text_32_ldf.zip\n",
      "text_19_gvc.zip\n",
      "text_05_nko.zip\n",
      "text_17_arp.zip\n",
      "text_01_ote.zip\n",
      "text_28_rfy.zip\n",
      "text_31_akv.zip\n",
      "text_22_etp.zip\n",
      "text_11_uoy.zip\n",
      "text_09_oii.zip\n",
      "text_06_jfy.zip\n",
      "text_14_lnc.zip\n",
      "text_08_loh.zip\n",
      "text_33_kje.zip\n",
      "text_30_wkp.zip\n",
      "text_07_oma.zip\n",
      "text_03_mnq.zip\n",
      "text_21_fqa.zip\n",
      "text_29_oye.zip\n",
      "text_27_fle.zip\n",
      "text_23_fmh.zip\n",
      "text_12_rcq.zip\n",
      "text_00_myn.zip\n",
      "text_10_aoy.zip\n",
      "text_04_mlq.zip\n",
      "text_20_cde.zip\n",
      "text_02_mqu.zip\n",
      "text_26_ngj.zip\n",
      "text_24_ywo.zip\n",
      "text_18_jfj.zip\n",
      "text_25_byg.zip\n",
      "text_15_guo.zip\n"
     ]
    }
   ],
   "source": [
    "# Load the raw corpus\n",
    "movie_raw = loadcorpus(corpus_name)"
   ]
  },
  {
   "cell_type": "code",
   "execution_count": 15,
   "metadata": {},
   "outputs": [],
   "source": [
    "# Load the spaCy english model\n",
    "nlp = spacy.load(\"en\")"
   ]
  },
  {
   "cell_type": "code",
   "execution_count": 16,
   "metadata": {},
   "outputs": [],
   "source": [
    "# Further extracting from movie corpus\n",
    "zfile = zipfile.ZipFile(corpus_name + \"/sources_movies.zip\")\n",
    "source = []\n",
    "for file in zfile.namelist():\n",
    "    with zfile.open(file) as f:\n",
    "        for line in f:\n",
    "            source.append(line)"
   ]
  },
  {
   "cell_type": "code",
   "execution_count": 17,
   "metadata": {},
   "outputs": [
    {
     "data": {
      "text/plain": [
       "[b'textID\\tfileID\\t#words\\tgenre\\tyear\\tlanguage(s)\\tcountry\\timdb\\ttitle\\r\\n',\n",
       " b'-----\\t-----\\t-----\\t-----\\t-----\\t-----\\t-----\\t-----\\t-----\\r\\n',\n",
       " b'\\r\\n',\n",
       " b'290635\\t3547424\\t4722\\tShort, Musical\\t1930\\tUK\\tEnglish\\t0290635\\tGoodbye to All That\\r\\n',\n",
       " b'21165\\t6332374\\t10220\\tCrime, Mystery, Thriller\\t1930\\tUK\\tEnglish\\t0021165\\tMurder!\\r\\n',\n",
       " b'21191\\t6013789\\t5281\\tDrama, Romance\\t1930\\tUSA\\tEnglish\\t0021191\\tA Notorious Affair\\r\\n',\n",
       " b'20620\\t3660608\\t6724\\tBiography, Drama, History\\t1930\\tUSA\\tEnglish\\t0020620\\tAbraham Lincoln\\r\\n',\n",
       " b'20629\\t60053\\t9552\\tDrama, War\\t1930\\tUSA\\tEnglish, French, German, Latin\\t0020629\\tAll Quiet on the Western Front\\r\\n',\n",
       " b'20640\\t6850720\\t13862\\tComedy, Musical\\t1930\\tUSA\\tEnglish\\t0020640\\tAnimal Crackers\\r\\n',\n",
       " b'20641\\t176501\\t11140\\tDrama, Romance\\t1930\\tUSA\\tEnglish\\t0020641\\tAnna Christie\\r\\n']"
      ]
     },
     "execution_count": 17,
     "metadata": {},
     "output_type": "execute_result"
    }
   ],
   "source": [
    "source[0:10]"
   ]
  },
  {
   "cell_type": "code",
   "execution_count": 18,
   "metadata": {},
   "outputs": [],
   "source": [
    "# This basic method replaces some of the issues with the formatting, and prints the errors if any for debugging. \n",
    "# Let us clean one of the raw text files.\n",
    "def clean_raw_text(raw_texts):\n",
    "    clean_texts = []\n",
    "    for text in raw_texts:\n",
    "        try:\n",
    "            text = text.decode(\"utf-8\")\n",
    "            clean_text = text.replace(\" \\'m\", \"'m\").replace(\" \\'ll\", \"'ll\").replace(\" \\'re\", \"'re\").replace(\" \\'s\", \"'s\").replace(\" \\'re\", \"'re\").replace(\" n\\'t\", \"n't\").replace(\" \\'ve\", \"'ve\").replace(\" /'d\", \"'d\")\n",
    "            clean_texts.append(clean_text)\n",
    "        except AttributeError:\n",
    "            # print(\"ERROR CLEANING\")\n",
    "            # print(text)\n",
    "            continue\n",
    "        except UnicodeDecodeError:\n",
    "            # print(\"Unicode Error, Skip\")\n",
    "            continue\n",
    "    return clean_texts"
   ]
  },
  {
   "cell_type": "code",
   "execution_count": 19,
   "metadata": {},
   "outputs": [],
   "source": [
    "# Create dictionary\n",
    "movie_texts = {}\n",
    "movie_nontokenized_texts = {}\n",
    "\n",
    "# here create tokenized data\n",
    "## my goal: create a text column\n",
    "for files in movie_raw:\n",
    "    if len(movie_texts) > 5:\n",
    "        break\n",
    "    ## pull from movies to get text data? (thought that I could just incorporate movies in the for loop below)\n",
    "    movies = clean_raw_text(movie_raw[files][1:])\n",
    "    # here we create the tokenized data:\n",
    "    for movie in movies:\n",
    "        txts = lucem_illud_2020.word_tokenize(movie)\n",
    "        non_token_txts = movie\n",
    "        ## this is creating a dictionary where the id maps to the text\n",
    "        ## txts[0][2:] is the movie id which I've squeezed out\n",
    "        try:\n",
    "            movie_texts[txts[0][2:]] = txts[1:]\n",
    "            movie_nontokenized_texts[txts[0][2:]] = movie\n",
    "        except IndexError:\n",
    "            continue"
   ]
  },
  {
   "cell_type": "code",
   "execution_count": 20,
   "metadata": {},
   "outputs": [],
   "source": [
    "# Create columns\n",
    "movie_df = pd.DataFrame(columns=[\"Movie Name\", \"Genre\", \"Year\", \"Country\",\"Text\", \"Tokenized Texts\"])\n",
    "\n",
    "## Pull out the movie from the untokenized dictionary\n",
    "for movie in source[3:]:\n",
    "    try:\n",
    "        tid, fileid, total_words, genre, year, lang, country, imdb, title = movie.decode(\"utf-8\").split(\"\\t\")\n",
    "    except UnicodeDecodeError:\n",
    "        continue\n",
    "    try:\n",
    "        movie_df.loc[fileid.strip()] = [title.strip(), genre.strip(), year.strip(), country.strip(), movie_nontokenized_texts[fileid.strip()], movie_texts[fileid.strip()]]\n",
    "    except KeyError:\n",
    "        continue"
   ]
  },
  {
   "cell_type": "code",
   "execution_count": 21,
   "metadata": {},
   "outputs": [
    {
     "data": {
      "text/html": [
       "<div>\n",
       "<style scoped>\n",
       "    .dataframe tbody tr th:only-of-type {\n",
       "        vertical-align: middle;\n",
       "    }\n",
       "\n",
       "    .dataframe tbody tr th {\n",
       "        vertical-align: top;\n",
       "    }\n",
       "\n",
       "    .dataframe thead th {\n",
       "        text-align: right;\n",
       "    }\n",
       "</style>\n",
       "<table border=\"1\" class=\"dataframe\">\n",
       "  <thead>\n",
       "    <tr style=\"text-align: right;\">\n",
       "      <th></th>\n",
       "      <th>Movie Name</th>\n",
       "      <th>Genre</th>\n",
       "      <th>Year</th>\n",
       "      <th>Country</th>\n",
       "      <th>Text</th>\n",
       "      <th>Tokenized Texts</th>\n",
       "    </tr>\n",
       "  </thead>\n",
       "  <tbody>\n",
       "    <tr>\n",
       "      <td>6850720</td>\n",
       "      <td>Animal Crackers</td>\n",
       "      <td>Comedy, Musical</td>\n",
       "      <td>1930</td>\n",
       "      <td>English</td>\n",
       "      <td>@@6850720 You must do your best tonight Be on ...</td>\n",
       "      <td>[You, must, do, your, best, tonight, Be, on, y...</td>\n",
       "    </tr>\n",
       "    <tr>\n",
       "      <td>176501</td>\n",
       "      <td>Anna Christie</td>\n",
       "      <td>Drama, Romance</td>\n",
       "      <td>1930</td>\n",
       "      <td>English</td>\n",
       "      <td>@@176501 Either you're flat or I am . I beg yo...</td>\n",
       "      <td>[Either, you, 're, flat, or, I, am, I, beg, yo...</td>\n",
       "    </tr>\n",
       "    <tr>\n",
       "      <td>4056770</td>\n",
       "      <td>Ladies of Leisure</td>\n",
       "      <td>Drama, Romance</td>\n",
       "      <td>1930</td>\n",
       "      <td>English</td>\n",
       "      <td>@@4056770 Look out ! There's another bottle co...</td>\n",
       "      <td>[Look, out, There, 's, another, bottle, coming...</td>\n",
       "    </tr>\n",
       "    <tr>\n",
       "      <td>5992934</td>\n",
       "      <td>Over the Hill</td>\n",
       "      <td>Drama</td>\n",
       "      <td>1931</td>\n",
       "      <td>English</td>\n",
       "      <td>@@5992934 Good morning , kitty ! Come in here ...</td>\n",
       "      <td>[Good, morning, kitty, Come, in, here, baby, I...</td>\n",
       "    </tr>\n",
       "    <tr>\n",
       "      <td>4436137</td>\n",
       "      <td>Design for Living</td>\n",
       "      <td>Comedy, Romance</td>\n",
       "      <td>1933</td>\n",
       "      <td>English, French</td>\n",
       "      <td>@@4436137 [Train_engine_grinding] **26;1426;TO...</td>\n",
       "      <td>[Train_engine_grinding, 26;1426;TOOLONG, Whist...</td>\n",
       "    </tr>\n",
       "  </tbody>\n",
       "</table>\n",
       "</div>"
      ],
      "text/plain": [
       "                Movie Name            Genre  Year          Country  \\\n",
       "6850720    Animal Crackers  Comedy, Musical  1930          English   \n",
       "176501       Anna Christie   Drama, Romance  1930          English   \n",
       "4056770  Ladies of Leisure   Drama, Romance  1930          English   \n",
       "5992934      Over the Hill            Drama  1931          English   \n",
       "4436137  Design for Living  Comedy, Romance  1933  English, French   \n",
       "\n",
       "                                                      Text  \\\n",
       "6850720  @@6850720 You must do your best tonight Be on ...   \n",
       "176501   @@176501 Either you're flat or I am . I beg yo...   \n",
       "4056770  @@4056770 Look out ! There's another bottle co...   \n",
       "5992934  @@5992934 Good morning , kitty ! Come in here ...   \n",
       "4436137  @@4436137 [Train_engine_grinding] **26;1426;TO...   \n",
       "\n",
       "                                           Tokenized Texts  \n",
       "6850720  [You, must, do, your, best, tonight, Be, on, y...  \n",
       "176501   [Either, you, 're, flat, or, I, am, I, beg, yo...  \n",
       "4056770  [Look, out, There, 's, another, bottle, coming...  \n",
       "5992934  [Good, morning, kitty, Come, in, here, baby, I...  \n",
       "4436137  [Train_engine_grinding, 26;1426;TOOLONG, Whist...  "
      ]
     },
     "execution_count": 21,
     "metadata": {},
     "output_type": "execute_result"
    }
   ],
   "source": [
    "# Print out data frame\n",
    "movie_df.head()"
   ]
  },
  {
   "cell_type": "code",
   "execution_count": 22,
   "metadata": {},
   "outputs": [],
   "source": [
    "# Count words in tokenized text\n",
    "countsDict = {}\n",
    "for word in movie_df['Tokenized Texts'].sum():\n",
    "    if word in countsDict:\n",
    "        countsDict[word] += 1\n",
    "    else:\n",
    "        countsDict[word] = 1\n",
    "word_counts = sorted(countsDict.items(), key = lambda x : x[1], reverse = True)"
   ]
  },
  {
   "cell_type": "code",
   "execution_count": 23,
   "metadata": {},
   "outputs": [
    {
     "data": {
      "text/plain": [
       "[('I', 195456),\n",
       " ('you', 157144),\n",
       " ('the', 133974),\n",
       " ('to', 109659),\n",
       " (\"'s\", 98102),\n",
       " ('a', 92462),\n",
       " ('it', 67064),\n",
       " (\"n't\", 65593),\n",
       " ('of', 57693),\n",
       " ('that', 55459)]"
      ]
     },
     "execution_count": 23,
     "metadata": {},
     "output_type": "execute_result"
    }
   ],
   "source": [
    "# Word counts for top 10 words\n",
    "word_counts[:10]"
   ]
  },
  {
   "cell_type": "code",
   "execution_count": 24,
   "metadata": {},
   "outputs": [],
   "source": [
    "# normalize function\n",
    "def normalizeTokens(word_list, extra_stop=[]):\n",
    "    #We can use a generator here as we just need to iterate over it\n",
    "    normalized = []\n",
    "    if type(word_list) == list and len(word_list) == 1:\n",
    "        word_list = word_list[0]\n",
    "\n",
    "    if type(word_list) == list:\n",
    "        word_list = ' '.join([str(elem) for elem in word_list]) \n",
    "\n",
    "    doc = nlp(word_list.lower())\n",
    "    \n",
    "    # add the property of stop word to words considered as stop words\n",
    "    if len(extra_stop) > 0:\n",
    "        for stopword in extra_stop:\n",
    "            lexeme = nlp.vocab[stopword]\n",
    "            lexeme.is_stop = True\n",
    "\n",
    "    for w in doc:\n",
    "        # if it's not a stop word or punctuation mark, add it to our article\n",
    "        if w.text != '\\n' and not w.is_stop and not w.is_punct and not w.like_num and len(w.text.strip()) > 0:\n",
    "            # we add the lematized version of the word\n",
    "            normalized.append(str(w.lemma_))\n",
    "\n",
    "    return normalized"
   ]
  },
  {
   "cell_type": "code",
   "execution_count": 25,
   "metadata": {},
   "outputs": [],
   "source": [
    "# Normalize text\n",
    "movie_df['normalized_tokens'] = movie_df['Tokenized Texts'].apply(lambda x: normalizeTokens(x))\n",
    "movie_df['normalized_tokens_count'] = movie_df['normalized_tokens'].apply(lambda x: len(x))"
   ]
  },
  {
   "cell_type": "code",
   "execution_count": 26,
   "metadata": {},
   "outputs": [],
   "source": [
    "# Define parts-of-speech function\n",
    "def spacy_pos(word_list):\n",
    "    tags = []\n",
    "    doc = nlp(word_list.lower())\n",
    "    for w in doc:\n",
    "        tags.append((w.text, w.tag_))\n",
    "    return tags"
   ]
  },
  {
   "cell_type": "code",
   "execution_count": 27,
   "metadata": {},
   "outputs": [],
   "source": [
    "# Generate POS column\n",
    "movie_df['normalized_tokens_POS'] = [spacy_pos(t) for t in movie_df['Text']]"
   ]
  },
  {
   "cell_type": "code",
   "execution_count": 28,
   "metadata": {},
   "outputs": [],
   "source": [
    "# Generate tokenized sentences and normalized sentences\n",
    "movie_df['tokenized_sents'] = movie_df['Text'].apply(lambda x: [lucem_illud_2020.word_tokenize(s) for s in lucem_illud_2020.sent_tokenize(x)])\n",
    "movie_df['normalized_sents'] = movie_df['tokenized_sents'].apply(lambda x: [lucem_illud_2020.normalizeTokens(s) for s in x])"
   ]
  },
  {
   "cell_type": "code",
   "execution_count": 29,
   "metadata": {},
   "outputs": [],
   "source": [
    "# Tokenized and normalized words\n",
    "movie_df['tokenized_words'] = movie_df['Text'].apply(lambda x: lucem_illud_2020.word_tokenize(x))\n",
    "movie_df['normalized_words'] = movie_df['tokenized_words'].apply(lambda x: lucem_illud_2020.normalizeTokens(x, lemma=False))"
   ]
  },
  {
   "cell_type": "code",
   "execution_count": 30,
   "metadata": {},
   "outputs": [
    {
     "data": {
      "text/html": [
       "<div>\n",
       "<style scoped>\n",
       "    .dataframe tbody tr th:only-of-type {\n",
       "        vertical-align: middle;\n",
       "    }\n",
       "\n",
       "    .dataframe tbody tr th {\n",
       "        vertical-align: top;\n",
       "    }\n",
       "\n",
       "    .dataframe thead th {\n",
       "        text-align: right;\n",
       "    }\n",
       "</style>\n",
       "<table border=\"1\" class=\"dataframe\">\n",
       "  <thead>\n",
       "    <tr style=\"text-align: right;\">\n",
       "      <th></th>\n",
       "      <th>Movie Name</th>\n",
       "      <th>Genre</th>\n",
       "      <th>Year</th>\n",
       "      <th>Country</th>\n",
       "      <th>Text</th>\n",
       "      <th>Tokenized Texts</th>\n",
       "      <th>normalized_tokens</th>\n",
       "      <th>normalized_tokens_count</th>\n",
       "      <th>normalized_tokens_POS</th>\n",
       "      <th>tokenized_sents</th>\n",
       "      <th>normalized_sents</th>\n",
       "      <th>tokenized_words</th>\n",
       "      <th>normalized_words</th>\n",
       "    </tr>\n",
       "  </thead>\n",
       "  <tbody>\n",
       "    <tr>\n",
       "      <td>6850720</td>\n",
       "      <td>Animal Crackers</td>\n",
       "      <td>Comedy, Musical</td>\n",
       "      <td>1930</td>\n",
       "      <td>English</td>\n",
       "      <td>@@6850720 You must do your best tonight Be on ...</td>\n",
       "      <td>[You, must, do, your, best, tonight, Be, on, y...</td>\n",
       "      <td>[good, tonight, toe, man, guest, tonight, man,...</td>\n",
       "      <td>4868</td>\n",
       "      <td>[(@@6850720, IN), (you, PRP), (must, MD), (do,...</td>\n",
       "      <td>[[@@6850720, You, must, do, your, best, tonigh...</td>\n",
       "      <td>[[@@6850720, well, tonight], [toe, man], [gues...</td>\n",
       "      <td>[@@6850720, You, must, do, your, best, tonight...</td>\n",
       "      <td>[@@6850720, best, tonight, toes, men, guest, t...</td>\n",
       "    </tr>\n",
       "    <tr>\n",
       "      <td>176501</td>\n",
       "      <td>Anna Christie</td>\n",
       "      <td>Drama, Romance</td>\n",
       "      <td>1930</td>\n",
       "      <td>English</td>\n",
       "      <td>@@176501 Either you're flat or I am . I beg yo...</td>\n",
       "      <td>[Either, you, 're, flat, or, I, am, I, beg, yo...</td>\n",
       "      <td>[flat, beg, pardon, excuse, lady, frighten, hi...</td>\n",
       "      <td>3825</td>\n",
       "      <td>[(@@176501, UH), (either, CC), (you, PRP), ('r...</td>\n",
       "      <td>[[@@176501, Either, you, 're, flat, or, I, am]...</td>\n",
       "      <td>[[@@176501, flat], [beg, pardon], [excuse], [l...</td>\n",
       "      <td>[@@176501, Either, you, 're, flat, or, I, am, ...</td>\n",
       "      <td>[@@176501, flat, beg, pardon, excuse, lady, fr...</td>\n",
       "    </tr>\n",
       "    <tr>\n",
       "      <td>4056770</td>\n",
       "      <td>Ladies of Leisure</td>\n",
       "      <td>Drama, Romance</td>\n",
       "      <td>1930</td>\n",
       "      <td>English</td>\n",
       "      <td>@@4056770 Look out ! There's another bottle co...</td>\n",
       "      <td>[Look, out, There, 's, another, bottle, coming...</td>\n",
       "      <td>[look, bottle, come, look, look, come, let, th...</td>\n",
       "      <td>3195</td>\n",
       "      <td>[(@@4056770, NNP), (look, VB), (out, RP), (!, ...</td>\n",
       "      <td>[[@@4056770], [Look, out], [There, 's, another...</td>\n",
       "      <td>[[@@4056770], [look], [bottle, come], [look], ...</td>\n",
       "      <td>[@@4056770, Look, out, There, 's, another, bot...</td>\n",
       "      <td>[@@4056770, look, bottle, coming, look, look, ...</td>\n",
       "    </tr>\n",
       "    <tr>\n",
       "      <td>5992934</td>\n",
       "      <td>Over the Hill</td>\n",
       "      <td>Drama</td>\n",
       "      <td>1931</td>\n",
       "      <td>English</td>\n",
       "      <td>@@5992934 Good morning , kitty ! Come in here ...</td>\n",
       "      <td>[Good, morning, kitty, Come, in, here, baby, I...</td>\n",
       "      <td>[good, morning, kitty, come, baby, isaac, tomm...</td>\n",
       "      <td>2651</td>\n",
       "      <td>[(@@5992934, NNP), (good, JJ), (morning, NN), ...</td>\n",
       "      <td>[[@@5992934], [Good, morning, kitty], [Come, i...</td>\n",
       "      <td>[[@@5992934], [good, morning, kitty], [come, b...</td>\n",
       "      <td>[@@5992934, Good, morning, kitty, Come, in, he...</td>\n",
       "      <td>[@@5992934, good, morning, kitty, come, baby, ...</td>\n",
       "    </tr>\n",
       "    <tr>\n",
       "      <td>4436137</td>\n",
       "      <td>Design for Living</td>\n",
       "      <td>Comedy, Romance</td>\n",
       "      <td>1933</td>\n",
       "      <td>English, French</td>\n",
       "      <td>@@4436137 [Train_engine_grinding] **26;1426;TO...</td>\n",
       "      <td>[Train_engine_grinding, 26;1426;TOOLONG, Whist...</td>\n",
       "      <td>[train_engine_grinde, 26;1426;toolong, whistle...</td>\n",
       "      <td>3417</td>\n",
       "      <td>[(@@4436137, IN), ([, -LRB-), (train_engine_gr...</td>\n",
       "      <td>[[@@4436137, Train_engine_grinding], [], [26;1...</td>\n",
       "      <td>[[@@4436137, train_engine_grinding], [], [26;1...</td>\n",
       "      <td>[@@4436137, Train_engine_grinding, 26;1426;TOO...</td>\n",
       "      <td>[@@4436137, train_engine_grinding, 26;1426;too...</td>\n",
       "    </tr>\n",
       "  </tbody>\n",
       "</table>\n",
       "</div>"
      ],
      "text/plain": [
       "                Movie Name            Genre  Year          Country  \\\n",
       "6850720    Animal Crackers  Comedy, Musical  1930          English   \n",
       "176501       Anna Christie   Drama, Romance  1930          English   \n",
       "4056770  Ladies of Leisure   Drama, Romance  1930          English   \n",
       "5992934      Over the Hill            Drama  1931          English   \n",
       "4436137  Design for Living  Comedy, Romance  1933  English, French   \n",
       "\n",
       "                                                      Text  \\\n",
       "6850720  @@6850720 You must do your best tonight Be on ...   \n",
       "176501   @@176501 Either you're flat or I am . I beg yo...   \n",
       "4056770  @@4056770 Look out ! There's another bottle co...   \n",
       "5992934  @@5992934 Good morning , kitty ! Come in here ...   \n",
       "4436137  @@4436137 [Train_engine_grinding] **26;1426;TO...   \n",
       "\n",
       "                                           Tokenized Texts  \\\n",
       "6850720  [You, must, do, your, best, tonight, Be, on, y...   \n",
       "176501   [Either, you, 're, flat, or, I, am, I, beg, yo...   \n",
       "4056770  [Look, out, There, 's, another, bottle, coming...   \n",
       "5992934  [Good, morning, kitty, Come, in, here, baby, I...   \n",
       "4436137  [Train_engine_grinding, 26;1426;TOOLONG, Whist...   \n",
       "\n",
       "                                         normalized_tokens  \\\n",
       "6850720  [good, tonight, toe, man, guest, tonight, man,...   \n",
       "176501   [flat, beg, pardon, excuse, lady, frighten, hi...   \n",
       "4056770  [look, bottle, come, look, look, come, let, th...   \n",
       "5992934  [good, morning, kitty, come, baby, isaac, tomm...   \n",
       "4436137  [train_engine_grinde, 26;1426;toolong, whistle...   \n",
       "\n",
       "         normalized_tokens_count  \\\n",
       "6850720                     4868   \n",
       "176501                      3825   \n",
       "4056770                     3195   \n",
       "5992934                     2651   \n",
       "4436137                     3417   \n",
       "\n",
       "                                     normalized_tokens_POS  \\\n",
       "6850720  [(@@6850720, IN), (you, PRP), (must, MD), (do,...   \n",
       "176501   [(@@176501, UH), (either, CC), (you, PRP), ('r...   \n",
       "4056770  [(@@4056770, NNP), (look, VB), (out, RP), (!, ...   \n",
       "5992934  [(@@5992934, NNP), (good, JJ), (morning, NN), ...   \n",
       "4436137  [(@@4436137, IN), ([, -LRB-), (train_engine_gr...   \n",
       "\n",
       "                                           tokenized_sents  \\\n",
       "6850720  [[@@6850720, You, must, do, your, best, tonigh...   \n",
       "176501   [[@@176501, Either, you, 're, flat, or, I, am]...   \n",
       "4056770  [[@@4056770], [Look, out], [There, 's, another...   \n",
       "5992934  [[@@5992934], [Good, morning, kitty], [Come, i...   \n",
       "4436137  [[@@4436137, Train_engine_grinding], [], [26;1...   \n",
       "\n",
       "                                          normalized_sents  \\\n",
       "6850720  [[@@6850720, well, tonight], [toe, man], [gues...   \n",
       "176501   [[@@176501, flat], [beg, pardon], [excuse], [l...   \n",
       "4056770  [[@@4056770], [look], [bottle, come], [look], ...   \n",
       "5992934  [[@@5992934], [good, morning, kitty], [come, b...   \n",
       "4436137  [[@@4436137, train_engine_grinding], [], [26;1...   \n",
       "\n",
       "                                           tokenized_words  \\\n",
       "6850720  [@@6850720, You, must, do, your, best, tonight...   \n",
       "176501   [@@176501, Either, you, 're, flat, or, I, am, ...   \n",
       "4056770  [@@4056770, Look, out, There, 's, another, bot...   \n",
       "5992934  [@@5992934, Good, morning, kitty, Come, in, he...   \n",
       "4436137  [@@4436137, Train_engine_grinding, 26;1426;TOO...   \n",
       "\n",
       "                                          normalized_words  \n",
       "6850720  [@@6850720, best, tonight, toes, men, guest, t...  \n",
       "176501   [@@176501, flat, beg, pardon, excuse, lady, fr...  \n",
       "4056770  [@@4056770, look, bottle, coming, look, look, ...  \n",
       "5992934  [@@5992934, good, morning, kitty, come, baby, ...  \n",
       "4436137  [@@4436137, train_engine_grinding, 26;1426;too...  "
      ]
     },
     "execution_count": 30,
     "metadata": {},
     "output_type": "execute_result"
    }
   ],
   "source": [
    "movie_df.head()"
   ]
  },
  {
   "cell_type": "code",
   "execution_count": 31,
   "metadata": {},
   "outputs": [
    {
     "data": {
      "text/plain": [
       "Movie Name                 object\n",
       "Genre                      object\n",
       "Year                       object\n",
       "Country                    object\n",
       "Text                       object\n",
       "Tokenized Texts            object\n",
       "normalized_tokens          object\n",
       "normalized_tokens_count     int64\n",
       "normalized_tokens_POS      object\n",
       "tokenized_sents            object\n",
       "normalized_sents           object\n",
       "tokenized_words            object\n",
       "normalized_words           object\n",
       "dtype: object"
      ]
     },
     "execution_count": 31,
     "metadata": {},
     "output_type": "execute_result"
    }
   ],
   "source": [
    "# Set up for histogram of years\n",
    "movie_df.dtypes"
   ]
  },
  {
   "cell_type": "code",
   "execution_count": 32,
   "metadata": {},
   "outputs": [
    {
     "data": {
      "image/png": "[encoded data removed]",
      "text/plain": [
       "<Figure size 864x576 with 1 Axes>"
      ]
     },
     "metadata": {
      "needs_background": "light"
     },
     "output_type": "display_data"
    }
   ],
   "source": [
    "# Histogram of Years\n",
    "movie_df['Year'] = movie_df['Year'].astype(str).astype(int)\n",
    "ax = movie_df.hist(column='Year', bins=25, grid=False, figsize=(12,8), color='#86bf91', zorder=2, rwidth=0.9)\n",
    "\n",
    "ax = ax[0]\n",
    "for x in ax:\n",
    "\n",
    "    # Despine\n",
    "    x.spines['right'].set_visible(False)\n",
    "    x.spines['top'].set_visible(False)\n",
    "    x.spines['left'].set_visible(False)\n",
    "\n",
    "    # Switch off ticks\n",
    "    x.tick_params(axis=\"both\", which=\"both\", bottom=\"off\", top=\"off\", labelbottom=\"on\", left=\"off\", right=\"off\", labelleft=\"on\")\n",
    "\n",
    "    # Draw horizontal axis lines\n",
    "    vals = x.get_yticks()\n",
    "    for tick in vals:\n",
    "        x.axhline(y=tick, linestyle='dashed', alpha=0.4, color='#eeeeee', zorder=1)\n",
    "\n",
    "    # Remove title\n",
    "    x.set_title(\"\")\n",
    "\n",
    "    # Set x-axis label\n",
    "    x.set_xlabel(\"Year\", labelpad=20, weight='bold', size=12)\n",
    "\n",
    "    # Set y-axis label\n",
    "    x.set_ylabel(\"Movie Count\", labelpad=20, weight='bold', size=12)"
   ]
  },
  {
   "cell_type": "code",
   "execution_count": 33,
   "metadata": {},
   "outputs": [],
   "source": [
    "# Bin these movies on the basis of 20 years intervals\n",
    "# Output value counts per years to ensure correct binning"
   ]
  },
  {
   "cell_type": "code",
   "execution_count": 34,
   "metadata": {},
   "outputs": [
    {
     "data": {
      "text/plain": [
       "2012    35\n",
       "2008    33\n",
       "2013    33\n",
       "2011    32\n",
       "2007    29\n",
       "        ..\n",
       "1948     1\n",
       "1974     1\n",
       "1970     1\n",
       "1956     1\n",
       "1940     1\n",
       "Name: Year, Length: 74, dtype: int64"
      ]
     },
     "execution_count": 34,
     "metadata": {},
     "output_type": "execute_result"
    }
   ],
   "source": [
    "## Step 1a: Remove all movies before 1940 to get overall dataframe\n",
    "movie_df_1940_2020 = movie_df[movie_df['Year'] > 1939]\n",
    "movie_df_1940_2020['Year'].value_counts()"
   ]
  },
  {
   "cell_type": "code",
   "execution_count": 35,
   "metadata": {},
   "outputs": [
    {
     "data": {
      "text/plain": [
       "682"
      ]
     },
     "execution_count": 35,
     "metadata": {},
     "output_type": "execute_result"
    }
   ],
   "source": [
    "## Step 1b: Get length of subset\n",
    "len(movie_df_1940_2020)"
   ]
  },
  {
   "cell_type": "code",
   "execution_count": 36,
   "metadata": {},
   "outputs": [
    {
     "data": {
      "text/plain": [
       "1955    7\n",
       "1951    5\n",
       "1959    4\n",
       "1933    4\n",
       "1957    4\n",
       "1936    4\n",
       "1949    4\n",
       "1944    3\n",
       "1934    3\n",
       "1935    3\n",
       "1941    3\n",
       "1942    3\n",
       "1943    3\n",
       "1930    3\n",
       "1947    3\n",
       "1950    3\n",
       "1952    3\n",
       "1953    3\n",
       "1958    3\n",
       "1945    2\n",
       "1938    2\n",
       "1948    1\n",
       "1940    1\n",
       "1939    1\n",
       "1937    1\n",
       "1956    1\n",
       "1931    1\n",
       "1960    1\n",
       "Name: Year, dtype: int64"
      ]
     },
     "execution_count": 36,
     "metadata": {},
     "output_type": "execute_result"
    }
   ],
   "source": [
    "## Step 2a: 1940-1960 subset\n",
    "movie_df_1940_1960 = movie_df[movie_df['Year'] < 1961]\n",
    "movie_df_1940_1960['Year'].value_counts()"
   ]
  },
  {
   "cell_type": "code",
   "execution_count": 37,
   "metadata": {},
   "outputs": [
    {
     "data": {
      "text/plain": [
       "79"
      ]
     },
     "execution_count": 37,
     "metadata": {},
     "output_type": "execute_result"
    }
   ],
   "source": [
    "## Step 2b: Get length of subset\n",
    "len(movie_df_1940_1960)"
   ]
  },
  {
   "cell_type": "code",
   "execution_count": 38,
   "metadata": {},
   "outputs": [],
   "source": [
    "## Step 2c: Pull 50 random movies\n",
    "movie_df_1940_1960_n75 = movie_df_1940_1960.sample(n=75)"
   ]
  },
  {
   "cell_type": "code",
   "execution_count": 39,
   "metadata": {},
   "outputs": [
    {
     "data": {
      "text/plain": [
       "1979    10\n",
       "1971     6\n",
       "1975     5\n",
       "1962     4\n",
       "1977     4\n",
       "1972     4\n",
       "1969     4\n",
       "1965     4\n",
       "1973     3\n",
       "1978     3\n",
       "1968     3\n",
       "1967     3\n",
       "1976     2\n",
       "1961     2\n",
       "1966     2\n",
       "1964     2\n",
       "1970     1\n",
       "1974     1\n",
       "1960     1\n",
       "Name: Year, dtype: int64"
      ]
     },
     "execution_count": 39,
     "metadata": {},
     "output_type": "execute_result"
    }
   ],
   "source": [
    "## Step 3a: 1960-1980 subset\n",
    "movie_df_1960_1980 = movie_df_1940_2020[(movie_df_1940_2020.Year >= 1960) & (movie_df_1940_2020.Year <= 1979)]\n",
    "movie_df_1960_1980['Year'].value_counts()"
   ]
  },
  {
   "cell_type": "code",
   "execution_count": 40,
   "metadata": {},
   "outputs": [
    {
     "data": {
      "text/plain": [
       "64"
      ]
     },
     "execution_count": 40,
     "metadata": {},
     "output_type": "execute_result"
    }
   ],
   "source": [
    "## Step 3b: Get length of subset\n",
    "len(movie_df_1960_1980)"
   ]
  },
  {
   "cell_type": "code",
   "execution_count": 41,
   "metadata": {},
   "outputs": [],
   "source": [
    "## Step 3c: Pull 50 random movies\n",
    "movie_df_1960_1980_n75 = movie_df_1960_1980.sample(n=50)"
   ]
  },
  {
   "cell_type": "code",
   "execution_count": 42,
   "metadata": {},
   "outputs": [
    {
     "data": {
      "text/plain": [
       "1998    16\n",
       "1999    13\n",
       "1996    12\n",
       "1990    12\n",
       "1997     9\n",
       "1989     8\n",
       "1995     7\n",
       "1994     7\n",
       "1992     7\n",
       "1993     6\n",
       "1987     6\n",
       "1982     6\n",
       "1988     5\n",
       "1985     4\n",
       "1980     4\n",
       "1991     3\n",
       "1986     3\n",
       "1981     3\n",
       "1983     2\n",
       "Name: Year, dtype: int64"
      ]
     },
     "execution_count": 42,
     "metadata": {},
     "output_type": "execute_result"
    }
   ],
   "source": [
    "## Step 4a: 1980-2000 subset\n",
    "movie_df_1980_2000 = movie_df_1940_2020[(movie_df_1940_2020.Year >= 1980) & (movie_df_1940_2020.Year <= 1999)]\n",
    "movie_df_1980_2000['Year'].value_counts()"
   ]
  },
  {
   "cell_type": "code",
   "execution_count": 43,
   "metadata": {},
   "outputs": [
    {
     "data": {
      "text/plain": [
       "133"
      ]
     },
     "execution_count": 43,
     "metadata": {},
     "output_type": "execute_result"
    }
   ],
   "source": [
    "## Step 4b: Get length of subset\n",
    "len(movie_df_1980_2000)"
   ]
  },
  {
   "cell_type": "code",
   "execution_count": 44,
   "metadata": {},
   "outputs": [],
   "source": [
    "## Step 4c: Pull 50 random movies\n",
    "movie_df_1980_2000_n75 = movie_df_1980_2000.sample(n=75)"
   ]
  },
  {
   "cell_type": "code",
   "execution_count": 45,
   "metadata": {},
   "outputs": [
    {
     "data": {
      "text/plain": [
       "2012    35\n",
       "2008    33\n",
       "2013    33\n",
       "2011    32\n",
       "2014    29\n",
       "2007    29\n",
       "2016    28\n",
       "2010    27\n",
       "2004    24\n",
       "2006    24\n",
       "2015    23\n",
       "2009    23\n",
       "2001    18\n",
       "2000    17\n",
       "2003    16\n",
       "2002    16\n",
       "2005    11\n",
       "2017    11\n",
       "Name: Year, dtype: int64"
      ]
     },
     "execution_count": 45,
     "metadata": {},
     "output_type": "execute_result"
    }
   ],
   "source": [
    "## Step 5a: 1980-2020 subset\n",
    "movie_df_2000_2020 = movie_df_1940_2020[(movie_df_1940_2020.Year >= 2000) & (movie_df_1940_2020.Year <= 2019)]\n",
    "movie_df_2000_2020['Year'].value_counts()"
   ]
  },
  {
   "cell_type": "code",
   "execution_count": 46,
   "metadata": {},
   "outputs": [
    {
     "data": {
      "text/plain": [
       "429"
      ]
     },
     "execution_count": 46,
     "metadata": {},
     "output_type": "execute_result"
    }
   ],
   "source": [
    "## Step 5b: Get length of subset\n",
    "len(movie_df_2000_2020)"
   ]
  },
  {
   "cell_type": "code",
   "execution_count": 47,
   "metadata": {},
   "outputs": [],
   "source": [
    "## Step 2c: Pull 50 random movies\n",
    "movie_df_2000_2020_n75 = movie_df_2000_2020.sample(n=75)"
   ]
  },
  {
   "cell_type": "code",
   "execution_count": 48,
   "metadata": {},
   "outputs": [
    {
     "data": {
      "text/plain": [
       "Drama                                      43\n",
       "Comedy                                     36\n",
       "Documentary                                27\n",
       "Comedy, Drama, Romance                     27\n",
       "Drama, Romance                             20\n",
       "                                           ..\n",
       "Action, Sci-Fi                              1\n",
       "Crime, Drama, Mystery, Thriller             1\n",
       "Comedy, Drama, Mystery, Thriller, Crime     1\n",
       "Comedy, Music                               1\n",
       "Adventure, Comedy, Drama                    1\n",
       "Name: Genre, Length: 266, dtype: int64"
      ]
     },
     "execution_count": 48,
     "metadata": {},
     "output_type": "execute_result"
    }
   ],
   "source": [
    "# Get the count of each genre\n",
    "movie_df['Genre'].value_counts()"
   ]
  },
  {
   "cell_type": "code",
   "execution_count": 49,
   "metadata": {},
   "outputs": [],
   "source": [
    "# Note that the top three genre styles are:\n",
    "# 1: drama, 2: comedy, 3: documentary"
   ]
  },
  {
   "cell_type": "code",
   "execution_count": 50,
   "metadata": {},
   "outputs": [
    {
     "data": {
      "text/html": [
       "<div>\n",
       "<style scoped>\n",
       "    .dataframe tbody tr th:only-of-type {\n",
       "        vertical-align: middle;\n",
       "    }\n",
       "\n",
       "    .dataframe tbody tr th {\n",
       "        vertical-align: top;\n",
       "    }\n",
       "\n",
       "    .dataframe thead th {\n",
       "        text-align: right;\n",
       "    }\n",
       "</style>\n",
       "<table border=\"1\" class=\"dataframe\">\n",
       "  <thead>\n",
       "    <tr style=\"text-align: right;\">\n",
       "      <th></th>\n",
       "      <th>Movie Name</th>\n",
       "      <th>Year</th>\n",
       "      <th>Country</th>\n",
       "      <th>Text</th>\n",
       "      <th>Tokenized Texts</th>\n",
       "      <th>normalized_tokens</th>\n",
       "      <th>normalized_tokens_count</th>\n",
       "      <th>normalized_tokens_POS</th>\n",
       "      <th>tokenized_sents</th>\n",
       "      <th>normalized_sents</th>\n",
       "      <th>tokenized_words</th>\n",
       "      <th>normalized_words</th>\n",
       "    </tr>\n",
       "    <tr>\n",
       "      <th>Genre</th>\n",
       "      <th></th>\n",
       "      <th></th>\n",
       "      <th></th>\n",
       "      <th></th>\n",
       "      <th></th>\n",
       "      <th></th>\n",
       "      <th></th>\n",
       "      <th></th>\n",
       "      <th></th>\n",
       "      <th></th>\n",
       "      <th></th>\n",
       "      <th></th>\n",
       "    </tr>\n",
       "  </thead>\n",
       "  <tbody>\n",
       "    <tr>\n",
       "      <td>Drama</td>\n",
       "      <td>Over the Hill</td>\n",
       "      <td>1931</td>\n",
       "      <td>English</td>\n",
       "      <td>@@5992934 Good morning , kitty ! Come in here ...</td>\n",
       "      <td>[Good, morning, kitty, Come, in, here, baby, I...</td>\n",
       "      <td>[good, morning, kitty, come, baby, isaac, tomm...</td>\n",
       "      <td>2651</td>\n",
       "      <td>[(@@5992934, NNP), (good, JJ), (morning, NN), ...</td>\n",
       "      <td>[[@@5992934], [Good, morning, kitty], [Come, i...</td>\n",
       "      <td>[[@@5992934], [good, morning, kitty], [come, b...</td>\n",
       "      <td>[@@5992934, Good, morning, kitty, Come, in, he...</td>\n",
       "      <td>[@@5992934, good, morning, kitty, come, baby, ...</td>\n",
       "    </tr>\n",
       "    <tr>\n",
       "      <td>Comedy</td>\n",
       "      <td>A Chump at Oxford</td>\n",
       "      <td>1940</td>\n",
       "      <td>English</td>\n",
       "      <td>@@3904983 Well , what's the matter now ? - I j...</td>\n",
       "      <td>[Well, what, 's, the, matter, now, I, just, sa...</td>\n",
       "      <td>[matter, see, hand, siddown, crazy, ve, go, ci...</td>\n",
       "      <td>1056</td>\n",
       "      <td>[(@@3904983, UH), (well, UH), (,, ,), (what, W...</td>\n",
       "      <td>[[@@3904983], [Well, what, 's, the, matter, no...</td>\n",
       "      <td>[[@@3904983], [matt], [see, hand], [siddown], ...</td>\n",
       "      <td>[@@3904983, Well, what, 's, the, matter, now, ...</td>\n",
       "      <td>[@@3904983, matter, saw, hands, siddown, crazy...</td>\n",
       "    </tr>\n",
       "    <tr>\n",
       "      <td>Comedy</td>\n",
       "      <td>The Happiest Days of Your Life</td>\n",
       "      <td>1950</td>\n",
       "      <td>English</td>\n",
       "      <td>@@6017201 BIG BEN CHIMES Excuse me , could you...</td>\n",
       "      <td>[BIG, BEN, CHIMES, Excuse, me, could, you, tel...</td>\n",
       "      <td>[big, ben, chime, excuse, tell, way, nutbourne...</td>\n",
       "      <td>4247</td>\n",
       "      <td>[(@@6017201, NFP), (big, NNP), (ben, NNP), (ch...</td>\n",
       "      <td>[[@@6017201], [BIG, BEN, CHIMES, Excuse, me, c...</td>\n",
       "      <td>[[@@6017201], [big, ben, chime, excuse, tell, ...</td>\n",
       "      <td>[@@6017201, BIG, BEN, CHIMES, Excuse, me, coul...</td>\n",
       "      <td>[@@6017201, big, ben, chimes, excuse, tell, wa...</td>\n",
       "    </tr>\n",
       "    <tr>\n",
       "      <td>Drama</td>\n",
       "      <td>The Company She Keeps</td>\n",
       "      <td>1951</td>\n",
       "      <td>English</td>\n",
       "      <td>@@6860500 If no-one has any objections . I was...</td>\n",
       "      <td>[If, no, one, has, any, objections, I, was, wo...</td>\n",
       "      <td>[objection, wonder, mildred, lynch, possible, ...</td>\n",
       "      <td>3067</td>\n",
       "      <td>[(@@6860500, IN), (if, IN), (no, DT), (-, HYPH...</td>\n",
       "      <td>[[@@6860500, If, no, one, has, any, objections...</td>\n",
       "      <td>[[@@6860500, objection], [wonder, mildred, lyn...</td>\n",
       "      <td>[@@6860500, If, no, one, has, any, objections,...</td>\n",
       "      <td>[@@6860500, objections, wondering, mildred, ly...</td>\n",
       "    </tr>\n",
       "    <tr>\n",
       "      <td>Drama</td>\n",
       "      <td>My Son John</td>\n",
       "      <td>1952</td>\n",
       "      <td>English</td>\n",
       "      <td>@@4788308 What's the matter , pop ? You're get...</td>\n",
       "      <td>[What, 's, the, matter, pop, You, 're, gettin,...</td>\n",
       "      <td>[matter, pop, gettin, kinda, clumsy, huh, boy,...</td>\n",
       "      <td>4916</td>\n",
       "      <td>[(@@4788308, UH), (what, WP), ('s, VBZ), (the,...</td>\n",
       "      <td>[[@@4788308], [What, 's, the, matter, pop], [Y...</td>\n",
       "      <td>[[@@4788308], [matt, pop], [gettin, kinda, clu...</td>\n",
       "      <td>[@@4788308, What, 's, the, matter, pop, You, '...</td>\n",
       "      <td>[@@4788308, matter, pop, gettin, kinda, clumsy...</td>\n",
       "    </tr>\n",
       "  </tbody>\n",
       "</table>\n",
       "</div>"
      ],
      "text/plain": [
       "                            Movie Name  Year  Country  \\\n",
       "Genre                                                   \n",
       "Drama                    Over the Hill  1931  English   \n",
       "Comedy               A Chump at Oxford  1940  English   \n",
       "Comedy  The Happiest Days of Your Life  1950  English   \n",
       "Drama            The Company She Keeps  1951  English   \n",
       "Drama                      My Son John  1952  English   \n",
       "\n",
       "                                                     Text  \\\n",
       "Genre                                                       \n",
       "Drama   @@5992934 Good morning , kitty ! Come in here ...   \n",
       "Comedy  @@3904983 Well , what's the matter now ? - I j...   \n",
       "Comedy  @@6017201 BIG BEN CHIMES Excuse me , could you...   \n",
       "Drama   @@6860500 If no-one has any objections . I was...   \n",
       "Drama   @@4788308 What's the matter , pop ? You're get...   \n",
       "\n",
       "                                          Tokenized Texts  \\\n",
       "Genre                                                       \n",
       "Drama   [Good, morning, kitty, Come, in, here, baby, I...   \n",
       "Comedy  [Well, what, 's, the, matter, now, I, just, sa...   \n",
       "Comedy  [BIG, BEN, CHIMES, Excuse, me, could, you, tel...   \n",
       "Drama   [If, no, one, has, any, objections, I, was, wo...   \n",
       "Drama   [What, 's, the, matter, pop, You, 're, gettin,...   \n",
       "\n",
       "                                        normalized_tokens  \\\n",
       "Genre                                                       \n",
       "Drama   [good, morning, kitty, come, baby, isaac, tomm...   \n",
       "Comedy  [matter, see, hand, siddown, crazy, ve, go, ci...   \n",
       "Comedy  [big, ben, chime, excuse, tell, way, nutbourne...   \n",
       "Drama   [objection, wonder, mildred, lynch, possible, ...   \n",
       "Drama   [matter, pop, gettin, kinda, clumsy, huh, boy,...   \n",
       "\n",
       "        normalized_tokens_count  \\\n",
       "Genre                             \n",
       "Drama                      2651   \n",
       "Comedy                     1056   \n",
       "Comedy                     4247   \n",
       "Drama                      3067   \n",
       "Drama                      4916   \n",
       "\n",
       "                                    normalized_tokens_POS  \\\n",
       "Genre                                                       \n",
       "Drama   [(@@5992934, NNP), (good, JJ), (morning, NN), ...   \n",
       "Comedy  [(@@3904983, UH), (well, UH), (,, ,), (what, W...   \n",
       "Comedy  [(@@6017201, NFP), (big, NNP), (ben, NNP), (ch...   \n",
       "Drama   [(@@6860500, IN), (if, IN), (no, DT), (-, HYPH...   \n",
       "Drama   [(@@4788308, UH), (what, WP), ('s, VBZ), (the,...   \n",
       "\n",
       "                                          tokenized_sents  \\\n",
       "Genre                                                       \n",
       "Drama   [[@@5992934], [Good, morning, kitty], [Come, i...   \n",
       "Comedy  [[@@3904983], [Well, what, 's, the, matter, no...   \n",
       "Comedy  [[@@6017201], [BIG, BEN, CHIMES, Excuse, me, c...   \n",
       "Drama   [[@@6860500, If, no, one, has, any, objections...   \n",
       "Drama   [[@@4788308], [What, 's, the, matter, pop], [Y...   \n",
       "\n",
       "                                         normalized_sents  \\\n",
       "Genre                                                       \n",
       "Drama   [[@@5992934], [good, morning, kitty], [come, b...   \n",
       "Comedy  [[@@3904983], [matt], [see, hand], [siddown], ...   \n",
       "Comedy  [[@@6017201], [big, ben, chime, excuse, tell, ...   \n",
       "Drama   [[@@6860500, objection], [wonder, mildred, lyn...   \n",
       "Drama   [[@@4788308], [matt, pop], [gettin, kinda, clu...   \n",
       "\n",
       "                                          tokenized_words  \\\n",
       "Genre                                                       \n",
       "Drama   [@@5992934, Good, morning, kitty, Come, in, he...   \n",
       "Comedy  [@@3904983, Well, what, 's, the, matter, now, ...   \n",
       "Comedy  [@@6017201, BIG, BEN, CHIMES, Excuse, me, coul...   \n",
       "Drama   [@@6860500, If, no, one, has, any, objections,...   \n",
       "Drama   [@@4788308, What, 's, the, matter, pop, You, '...   \n",
       "\n",
       "                                         normalized_words  \n",
       "Genre                                                      \n",
       "Drama   [@@5992934, good, morning, kitty, come, baby, ...  \n",
       "Comedy  [@@3904983, matter, saw, hands, siddown, crazy...  \n",
       "Comedy  [@@6017201, big, ben, chimes, excuse, tell, wa...  \n",
       "Drama   [@@6860500, objections, wondering, mildred, ly...  \n",
       "Drama   [@@4788308, matter, pop, gettin, kinda, clumsy...  "
      ]
     },
     "execution_count": 50,
     "metadata": {},
     "output_type": "execute_result"
    }
   ],
   "source": [
    "# Make a single-genre dataframe using the top 3 genre-styles\n",
    "movieSingleGenre = movie_df.set_index(['Genre'])\n",
    "movieGenre = movieSingleGenre.loc[movieSingleGenre.index.isin(['Drama','Comedy','Documentary'])]\n",
    "movieGenre.head()"
   ]
  },
  {
   "cell_type": "code",
   "execution_count": 51,
   "metadata": {},
   "outputs": [],
   "source": [
    "# Make separate genre dataframes\n",
    "movieDrama = movieGenre.loc[movieGenre.index.isin(['Drama'])]\n",
    "movieComedy = movieGenre.loc[movieGenre.index.isin(['Comedy'])]\n",
    "movieDoc = movieGenre.loc[movieGenre.index.isin(['Documentary'])]"
   ]
  },
  {
   "cell_type": "code",
   "execution_count": 52,
   "metadata": {},
   "outputs": [
    {
     "data": {
      "text/html": [
       "<div>\n",
       "<style scoped>\n",
       "    .dataframe tbody tr th:only-of-type {\n",
       "        vertical-align: middle;\n",
       "    }\n",
       "\n",
       "    .dataframe tbody tr th {\n",
       "        vertical-align: top;\n",
       "    }\n",
       "\n",
       "    .dataframe thead th {\n",
       "        text-align: right;\n",
       "    }\n",
       "</style>\n",
       "<table border=\"1\" class=\"dataframe\">\n",
       "  <thead>\n",
       "    <tr style=\"text-align: right;\">\n",
       "      <th></th>\n",
       "      <th>Movie Name</th>\n",
       "      <th>Year</th>\n",
       "      <th>Country</th>\n",
       "      <th>Text</th>\n",
       "      <th>Tokenized Texts</th>\n",
       "      <th>normalized_tokens</th>\n",
       "      <th>normalized_tokens_count</th>\n",
       "      <th>normalized_tokens_POS</th>\n",
       "      <th>tokenized_sents</th>\n",
       "      <th>normalized_sents</th>\n",
       "      <th>tokenized_words</th>\n",
       "      <th>normalized_words</th>\n",
       "    </tr>\n",
       "    <tr>\n",
       "      <th>Genre</th>\n",
       "      <th></th>\n",
       "      <th></th>\n",
       "      <th></th>\n",
       "      <th></th>\n",
       "      <th></th>\n",
       "      <th></th>\n",
       "      <th></th>\n",
       "      <th></th>\n",
       "      <th></th>\n",
       "      <th></th>\n",
       "      <th></th>\n",
       "      <th></th>\n",
       "    </tr>\n",
       "  </thead>\n",
       "  <tbody>\n",
       "    <tr>\n",
       "      <td>Documentary</td>\n",
       "      <td>The Reincarnation of Khensur Rinpoche</td>\n",
       "      <td>1992</td>\n",
       "      <td>English</td>\n",
       "      <td>@@3083349 Look ! Kanako was a penguin ! Why wa...</td>\n",
       "      <td>[Look, Kanako, was, a, penguin, Why, was, I, a...</td>\n",
       "      <td>[look, kanako, penguin, penguin, hilarious, cu...</td>\n",
       "      <td>983</td>\n",
       "      <td>[(@@3083349, NNP), (look, VB), (!, .), (kanako...</td>\n",
       "      <td>[[@@3083349, Look], [Kanako, was, a, penguin],...</td>\n",
       "      <td>[[@@3083349, look], [kanako, penguin], [pengui...</td>\n",
       "      <td>[@@3083349, Look, Kanako, was, a, penguin, Why...</td>\n",
       "      <td>[@@3083349, look, kanako, penguin, penguin, hi...</td>\n",
       "    </tr>\n",
       "    <tr>\n",
       "      <td>Documentary</td>\n",
       "      <td>Titanic: Untold Stories</td>\n",
       "      <td>1998</td>\n",
       "      <td>English</td>\n",
       "      <td>@@3341525 The builder who would pronounce her ...</td>\n",
       "      <td>[The, builder, who, would, pronounce, her, dea...</td>\n",
       "      <td>[builder, pronounce, dead, brave, man, refuse,...</td>\n",
       "      <td>1978</td>\n",
       "      <td>[(@@3341525, NNP), (the, DT), (builder, NN), (...</td>\n",
       "      <td>[[@@3341525], [The, builder, who, would, prono...</td>\n",
       "      <td>[[@@3341525], [builder, pronounce, dead], [bra...</td>\n",
       "      <td>[@@3341525, The, builder, who, would, pronounc...</td>\n",
       "      <td>[@@3341525, builder, pronounce, dead, brave, m...</td>\n",
       "    </tr>\n",
       "    <tr>\n",
       "      <td>Documentary</td>\n",
       "      <td>S Club 7 - It's an S Club Thing</td>\n",
       "      <td>1999</td>\n",
       "      <td>English</td>\n",
       "      <td>@@215393 C is the chicken , E is egg in the tr...</td>\n",
       "      <td>[C, is, the, chicken, E, is, egg, in, the, tro...</td>\n",
       "      <td>[c, chicken, e, egg, trouser, hang, pant, dire...</td>\n",
       "      <td>1479</td>\n",
       "      <td>[(@@215393, NNP), (c, NNP), (is, VBZ), (the, D...</td>\n",
       "      <td>[[@@215393, C, is, the, chicken, E, is, egg, i...</td>\n",
       "      <td>[[@@215393, c, chicken, e, egg, trouser], [han...</td>\n",
       "      <td>[@@215393, C, is, the, chicken, E, is, egg, in...</td>\n",
       "      <td>[@@215393, c, chicken, e, egg, trouser, hangin...</td>\n",
       "    </tr>\n",
       "    <tr>\n",
       "      <td>Documentary</td>\n",
       "      <td>The Making of 'Walking with Dinosaurs'</td>\n",
       "      <td>1999</td>\n",
       "      <td>English</td>\n",
       "      <td>@@4288799 ' If a film crew ventured back 65 mi...</td>\n",
       "      <td>[If, a, film, crew, ventured, back, 65, millio...</td>\n",
       "      <td>[film, crew, venture, year, dinosaur, natural,...</td>\n",
       "      <td>2005</td>\n",
       "      <td>[(@@4288799, IN), (', ''), (if, IN), (a, DT), ...</td>\n",
       "      <td>[[@@4288799, If, a, film, crew, ventured, back...</td>\n",
       "      <td>[[@@4288799, film, crow, venture, year, dinosa...</td>\n",
       "      <td>[@@4288799, If, a, film, crew, ventured, back,...</td>\n",
       "      <td>[@@4288799, film, crew, ventured, years, dinos...</td>\n",
       "    </tr>\n",
       "    <tr>\n",
       "      <td>Documentary</td>\n",
       "      <td>Hate.Com: Extremists on the Internet</td>\n",
       "      <td>2000</td>\n",
       "      <td>English</td>\n",
       "      <td>@@148052 Thanks for the information . There's ...</td>\n",
       "      <td>[Thanks, for, the, information, There, 's, no,...</td>\n",
       "      <td>[thank, information, chance, mistake, oh, rule...</td>\n",
       "      <td>2472</td>\n",
       "      <td>[(@@148052, RB), (thanks, NNS), (for, IN), (th...</td>\n",
       "      <td>[[@@148052], [Thanks, for, the, information], ...</td>\n",
       "      <td>[[@@148052], [thank, information], [chance, mi...</td>\n",
       "      <td>[@@148052, Thanks, for, the, information, Ther...</td>\n",
       "      <td>[@@148052, thanks, information, chance, mistak...</td>\n",
       "    </tr>\n",
       "  </tbody>\n",
       "</table>\n",
       "</div>"
      ],
      "text/plain": [
       "                                         Movie Name  Year  Country  \\\n",
       "Genre                                                                \n",
       "Documentary   The Reincarnation of Khensur Rinpoche  1992  English   \n",
       "Documentary                 Titanic: Untold Stories  1998  English   \n",
       "Documentary         S Club 7 - It's an S Club Thing  1999  English   \n",
       "Documentary  The Making of 'Walking with Dinosaurs'  1999  English   \n",
       "Documentary    Hate.Com: Extremists on the Internet  2000  English   \n",
       "\n",
       "                                                          Text  \\\n",
       "Genre                                                            \n",
       "Documentary  @@3083349 Look ! Kanako was a penguin ! Why wa...   \n",
       "Documentary  @@3341525 The builder who would pronounce her ...   \n",
       "Documentary  @@215393 C is the chicken , E is egg in the tr...   \n",
       "Documentary  @@4288799 ' If a film crew ventured back 65 mi...   \n",
       "Documentary  @@148052 Thanks for the information . There's ...   \n",
       "\n",
       "                                               Tokenized Texts  \\\n",
       "Genre                                                            \n",
       "Documentary  [Look, Kanako, was, a, penguin, Why, was, I, a...   \n",
       "Documentary  [The, builder, who, would, pronounce, her, dea...   \n",
       "Documentary  [C, is, the, chicken, E, is, egg, in, the, tro...   \n",
       "Documentary  [If, a, film, crew, ventured, back, 65, millio...   \n",
       "Documentary  [Thanks, for, the, information, There, 's, no,...   \n",
       "\n",
       "                                             normalized_tokens  \\\n",
       "Genre                                                            \n",
       "Documentary  [look, kanako, penguin, penguin, hilarious, cu...   \n",
       "Documentary  [builder, pronounce, dead, brave, man, refuse,...   \n",
       "Documentary  [c, chicken, e, egg, trouser, hang, pant, dire...   \n",
       "Documentary  [film, crew, venture, year, dinosaur, natural,...   \n",
       "Documentary  [thank, information, chance, mistake, oh, rule...   \n",
       "\n",
       "             normalized_tokens_count  \\\n",
       "Genre                                  \n",
       "Documentary                      983   \n",
       "Documentary                     1978   \n",
       "Documentary                     1479   \n",
       "Documentary                     2005   \n",
       "Documentary                     2472   \n",
       "\n",
       "                                         normalized_tokens_POS  \\\n",
       "Genre                                                            \n",
       "Documentary  [(@@3083349, NNP), (look, VB), (!, .), (kanako...   \n",
       "Documentary  [(@@3341525, NNP), (the, DT), (builder, NN), (...   \n",
       "Documentary  [(@@215393, NNP), (c, NNP), (is, VBZ), (the, D...   \n",
       "Documentary  [(@@4288799, IN), (', ''), (if, IN), (a, DT), ...   \n",
       "Documentary  [(@@148052, RB), (thanks, NNS), (for, IN), (th...   \n",
       "\n",
       "                                               tokenized_sents  \\\n",
       "Genre                                                            \n",
       "Documentary  [[@@3083349, Look], [Kanako, was, a, penguin],...   \n",
       "Documentary  [[@@3341525], [The, builder, who, would, prono...   \n",
       "Documentary  [[@@215393, C, is, the, chicken, E, is, egg, i...   \n",
       "Documentary  [[@@4288799, If, a, film, crew, ventured, back...   \n",
       "Documentary  [[@@148052], [Thanks, for, the, information], ...   \n",
       "\n",
       "                                              normalized_sents  \\\n",
       "Genre                                                            \n",
       "Documentary  [[@@3083349, look], [kanako, penguin], [pengui...   \n",
       "Documentary  [[@@3341525], [builder, pronounce, dead], [bra...   \n",
       "Documentary  [[@@215393, c, chicken, e, egg, trouser], [han...   \n",
       "Documentary  [[@@4288799, film, crow, venture, year, dinosa...   \n",
       "Documentary  [[@@148052], [thank, information], [chance, mi...   \n",
       "\n",
       "                                               tokenized_words  \\\n",
       "Genre                                                            \n",
       "Documentary  [@@3083349, Look, Kanako, was, a, penguin, Why...   \n",
       "Documentary  [@@3341525, The, builder, who, would, pronounc...   \n",
       "Documentary  [@@215393, C, is, the, chicken, E, is, egg, in...   \n",
       "Documentary  [@@4288799, If, a, film, crew, ventured, back,...   \n",
       "Documentary  [@@148052, Thanks, for, the, information, Ther...   \n",
       "\n",
       "                                              normalized_words  \n",
       "Genre                                                           \n",
       "Documentary  [@@3083349, look, kanako, penguin, penguin, hi...  \n",
       "Documentary  [@@3341525, builder, pronounce, dead, brave, m...  \n",
       "Documentary  [@@215393, c, chicken, e, egg, trouser, hangin...  \n",
       "Documentary  [@@4288799, film, crew, ventured, years, dinos...  \n",
       "Documentary  [@@148052, thanks, information, chance, mistak...  "
      ]
     },
     "execution_count": 52,
     "metadata": {},
     "output_type": "execute_result"
    }
   ],
   "source": [
    "movieDoc.head()"
   ]
  },
  {
   "cell_type": "code",
   "execution_count": 53,
   "metadata": {},
   "outputs": [],
   "source": [
    "# Save out these dataframes\n",
    "## Overall dataframe\n",
    "#movie_df.to_csv(\"/Users/laurenbeard/Desktop/compContentAnalysis/Content-Analysis-2020/final/movie_df.csv\") \n",
    "\n",
    "# Dataframes by Year\n",
    "#movie_df_1940_2020.to_csv(\"/Users/laurenbeard/Desktop/compContentAnalysis/Content-Analysis-2020/final/movie_df_1940_2020.csv\") \n",
    "#movie_df_1940_1960.to_csv(\"/Users/laurenbeard/Desktop/compContentAnalysis/Content-Analysis-2020/final/movie_df_1940_1960.csv\")\n",
    "#movie_df_1960_1980.to_csv(\"/Users/laurenbeard/Desktop/compContentAnalysis/Content-Analysis-2020/final/movie_df_1960_1980.csv\")\n",
    "#movie_df_1980_2000.to_csv(\"/Users/laurenbeard/Desktop/compContentAnalysis/Content-Analysis-2020/final/movie_df_1980_2000.csv\")\n",
    "#movie_df_2000_2020.to_csv(\"/Users/laurenbeard/Desktop/compContentAnalysis/Content-Analysis-2020/final/movie_df_2000_2020.csv\")\n",
    "\n",
    "# Dataframes by Year\n",
    "#movie_df_1940_1960_n75.to_csv(\"/Users/laurenbeard/Desktop/compContentAnalysis/Content-Analysis-2020/final/movie_df_1940_1960_n75.csv\")\n",
    "#movie_df_1960_1980_n75.to_csv(\"/Users/laurenbeard/Desktop/compContentAnalysis/Content-Analysis-2020/final/movie_df_1960_1980_n75.csv\")\n",
    "#movie_df_1980_2000_n75.to_csv(\"/Users/laurenbeard/Desktop/compContentAnalysis/Content-Analysis-2020/final/movie_df_1980_2000_n75.csv\")\n",
    "#movie_df_2000_2020_n75.to_csv(\"/Users/laurenbeard/Desktop/compContentAnalysis/Content-Analysis-2020/final/movie_df_2000_2020_n75.csv\")\n",
    "\n",
    "# Dataframe by genre\n",
    "#movieGenre.to_csv(\"/Users/laurenbeard/Desktop/compContentAnalysis/Content-Analysis-2020/final/movie_df_genre.csv\")\n",
    "#movieDrama.to_csv(\"/Users/laurenbeard/Desktop/compContentAnalysis/Content-Analysis-2020/final/movieDrama.csv\")\n",
    "#movieComedy.to_csv(\"/Users/laurenbeard/Desktop/compContentAnalysis/Content-Analysis-2020/final/movieComedy.csv\")\n",
    "#movieDoc.to_csv(\"/Users/laurenbeard/Desktop/compContentAnalysis/Content-Analysis-2020/final/movieDoc.csv\")"
   ]
  },
  {
   "cell_type": "code",
   "execution_count": 54,
   "metadata": {},
   "outputs": [],
   "source": [
    "################################################\n",
    "########## COUNTING WORDS AND PHRASES ##########\n",
    "################################################"
   ]
  },
  {
   "cell_type": "code",
   "execution_count": 55,
   "metadata": {},
   "outputs": [],
   "source": [
    "#Special module written for this class\n",
    "#This provides access to data and to helper functions from previous weeks\n",
    "import lucem_illud_2020 #pip install git+git://github.com/Computational-Content-Analysis-2020/lucem_illud_2020.git\n",
    "\n",
    "#All these packages need to be installed from pip\n",
    "import requests #for http requests\n",
    "import pandas as pd #gives us DataFrames\n",
    "import matplotlib.pyplot as plt #For graphics\n",
    "import wordcloud #Makes word clouds\n",
    "import numpy as np #For divergences/distances\n",
    "import scipy #For divergences/distances\n",
    "import seaborn as sns #makes our plots look nicer\n",
    "import sklearn.manifold #For a manifold plot\n",
    "import json #For API responses\n",
    "import urllib.parse #For joining urls\n",
    "\n",
    "# comp-linguistics\n",
    "import spacy\n",
    "\n",
    "#Displays the graphs\n",
    "import graphviz #You also need to install the command line graphviz\n",
    "\n",
    "#These are from the standard library\n",
    "import os.path\n",
    "import zipfile\n",
    "import subprocess\n",
    "import io\n",
    "import tempfile\n",
    "\n",
    "#This 'magic' command makes the plots work better\n",
    "#in the notebook, don't use it outside of a notebook\n",
    "%matplotlib inline\n",
    "\n",
    "import nltk"
   ]
  },
  {
   "cell_type": "code",
   "execution_count": 56,
   "metadata": {},
   "outputs": [],
   "source": [
    "nlp = spacy.load(\"en\")"
   ]
  },
  {
   "cell_type": "code",
   "execution_count": 57,
   "metadata": {},
   "outputs": [],
   "source": [
    "def word_tokenize(word_list):\n",
    "    tokenized = []\n",
    "    # pass word list through language model.\n",
    "    doc = nlp(word_list)\n",
    "    for token in doc:\n",
    "        if not token.is_punct and len(token.text.strip()) > 0:\n",
    "            tokenized.append(token.text)\n",
    "    return tokenized"
   ]
  },
  {
   "cell_type": "code",
   "execution_count": 58,
   "metadata": {},
   "outputs": [],
   "source": [
    "################################################\n",
    "########## COUNTING WORDS AND PHRASES ##########\n",
    "############## YEARS SUB-ANALYSIS ##############\n",
    "################################################"
   ]
  },
  {
   "cell_type": "code",
   "execution_count": 59,
   "metadata": {},
   "outputs": [],
   "source": [
    "# Get counts for 1940-1960\n",
    "countsDict = {}\n",
    "for word in movie_df_1940_1960_n75['Tokenized Texts'].sum():\n",
    "    if word in countsDict:\n",
    "        countsDict[word] += 1\n",
    "    else:\n",
    "        countsDict[word] = 1\n",
    "word_counts_1940_1960_n75 = sorted(countsDict.items(), key = lambda x : x[1], reverse = True)"
   ]
  },
  {
   "cell_type": "code",
   "execution_count": 60,
   "metadata": {},
   "outputs": [],
   "source": [
    "# Get counts for 2000-2020\n",
    "countsDict = {}\n",
    "for word in movie_df_2000_2020_n75['Tokenized Texts'].sum():\n",
    "    if word in countsDict:\n",
    "        countsDict[word] += 1\n",
    "    else:\n",
    "        countsDict[word] = 1\n",
    "word_counts_2000_2020_n75 = sorted(countsDict.items(), key = lambda x : x[1], reverse = True)"
   ]
  },
  {
   "cell_type": "code",
   "execution_count": 61,
   "metadata": {},
   "outputs": [
    {
     "data": {
      "text/plain": [
       "[('I', 24140), ('you', 20697), ('the', 15092), ('to', 13894), ('a', 11771)]"
      ]
     },
     "execution_count": 61,
     "metadata": {},
     "output_type": "execute_result"
    }
   ],
   "source": [
    "# Show word counts\n",
    "word_counts_1940_1960_n75[:5]"
   ]
  },
  {
   "cell_type": "code",
   "execution_count": 62,
   "metadata": {},
   "outputs": [
    {
     "data": {
      "text/plain": [
       "[('I', 21236), ('you', 16823), ('the', 13714), ('to', 11421), (\"'s\", 10335)]"
      ]
     },
     "execution_count": 62,
     "metadata": {},
     "output_type": "execute_result"
    }
   ],
   "source": [
    "# Show word counts\n",
    "word_counts_2000_2020_n75[:5]"
   ]
  },
  {
   "cell_type": "code",
   "execution_count": 63,
   "metadata": {},
   "outputs": [
    {
     "name": "stdout",
     "output_type": "stream",
     "text": [
      "227426\n"
     ]
    }
   ],
   "source": [
    "# .sum() adds together the lists from each row into a single list\n",
    "moviecfdist_1940_1960_n75 = nltk.ConditionalFreqDist(((len(w), w) for w in movie_df_1940_1960_n75['normalized_tokens'].sum()))\n",
    "\n",
    "#print the number of words\n",
    "print(moviecfdist_1940_1960_n75.N())"
   ]
  },
  {
   "cell_type": "code",
   "execution_count": 64,
   "metadata": {},
   "outputs": [
    {
     "name": "stdout",
     "output_type": "stream",
     "text": [
      "213292\n"
     ]
    }
   ],
   "source": [
    "# .sum() adds together the lists from each row into a single list\n",
    "moviecfdist_2000_2020_n75 = nltk.ConditionalFreqDist(((len(w), w) for w in movie_df_2000_2020_n75['normalized_tokens'].sum()))\n",
    "\n",
    "#print the number of words\n",
    "print(moviecfdist_2000_2020_n75.N())"
   ]
  },
  {
   "cell_type": "code",
   "execution_count": 66,
   "metadata": {},
   "outputs": [
    {
     "name": "stdout",
     "output_type": "stream",
     "text": [
      "right\n",
      "1.1469599825662082e-05\n"
     ]
    }
   ],
   "source": [
    "moviecpdist_1940_1960_n75 = nltk.ConditionalProbDist(moviecfdist_1940_1960_n75, nltk.ELEProbDist)\n",
    "\n",
    "#print the most common 2 letter word\n",
    "print(moviecpdist_1940_1960_n75[5].max())\n",
    "\n",
    "#And its probability\n",
    "print(moviecpdist_1940_1960_n75[5].prob(moviecpdist_1940_1960_n75[2].max()))"
   ]
  },
  {
   "cell_type": "code",
   "execution_count": 81,
   "metadata": {},
   "outputs": [
    {
     "name": "stdout",
     "output_type": "stream",
     "text": [
      "think\n",
      "1.2043694523732101e-05\n"
     ]
    }
   ],
   "source": [
    "moviecpdist_2000_2020_n75 = nltk.ConditionalProbDist(moviecfdist_2000_2020_n75, nltk.ELEProbDist)\n",
    "\n",
    "#print the most common 5 letter word\n",
    "print(moviecpdist_2000_2020_n75[5].max())\n",
    "\n",
    "#And its probability\n",
    "print(moviecpdist_2000_2020_n75[5].prob(moviecpdist_2000_2020_n75[2].max()))"
   ]
  },
  {
   "cell_type": "code",
   "execution_count": 68,
   "metadata": {},
   "outputs": [],
   "source": [
    "# new column with the part of speech as a short initialism and the word in a tuple,\n",
    "def spacy_pos(word_list):\n",
    "    tags = []\n",
    "    doc = nlp(word_list.lower())\n",
    "    for w in doc:\n",
    "        tags.append((w.text, w.tag_))\n",
    "    return tags"
   ]
  },
  {
   "cell_type": "code",
   "execution_count": 69,
   "metadata": {},
   "outputs": [
    {
     "data": {
      "text/plain": [
       "[('@@5263092', FreqDist({'NNP': 1})),\n",
       " ('my', FreqDist({'PRP$': 3789, 'UH': 9})),\n",
       " ('name', FreqDist({'NN': 398, 'VB': 16, 'VBP': 8, 'NNP': 1})),\n",
       " ('is', FreqDist({'VBZ': 5356, 'RB': 20})),\n",
       " ('allison', FreqDist({'NNP': 69, 'RB': 1})),\n",
       " ('mackenzie', FreqDist({'NNP': 36})),\n",
       " ('.', FreqDist({'.': 65588, 'NNP': 2058, 'NN': 10, ',': 1})),\n",
       " ('where', FreqDist({'WRB': 1150, 'RB': 19})),\n",
       " ('i', FreqDist({'PRP': 24176, 'NNP': 15})),\n",
       " ('was', FreqDist({'VBD': 3084}))]"
      ]
     },
     "execution_count": 69,
     "metadata": {},
     "output_type": "execute_result"
    }
   ],
   "source": [
    "# construct another conditional frequency distribution\n",
    "# gives the frequency of each word as each part of speech\n",
    "moviecfdist_1940_1960_n75_WordtoPOS = nltk.ConditionalFreqDist(movie_df_1940_1960_n75['normalized_tokens_POS'].sum())\n",
    "list(moviecfdist_1940_1960_n75_WordtoPOS.items())[:10]"
   ]
  },
  {
   "cell_type": "code",
   "execution_count": 70,
   "metadata": {},
   "outputs": [
    {
     "data": {
      "text/plain": [
       "[('@@3516899', FreqDist({'NNP': 1})),\n",
       " ('whitefield', FreqDist({'NNP': 12, 'NN': 7})),\n",
       " ('industry', FreqDist({'NN': 10, 'NNP': 1})),\n",
       " (',', FreqDist({',': 34997})),\n",
       " ('cooperation', FreqDist({'NN': 3})),\n",
       " ('with', FreqDist({'IN': 2717})),\n",
       " ('the', FreqDist({'DT': 15257})),\n",
       " ('mayor', FreqDist({'NN': 19, 'NNP': 2})),\n",
       " ('and', FreqDist({'CC': 7735})),\n",
       " ('other', FreqDist({'JJ': 412}))]"
      ]
     },
     "execution_count": 70,
     "metadata": {},
     "output_type": "execute_result"
    }
   ],
   "source": [
    "moviecfdist_2000_2020_n75_WordtoPOS = nltk.ConditionalFreqDist(movie_df_2000_2020_n75['normalized_tokens_POS'].sum())\n",
    "list(moviecfdist_2000_2020_n75_WordtoPOS.items())[:10]"
   ]
  },
  {
   "cell_type": "code",
   "execution_count": 71,
   "metadata": {},
   "outputs": [],
   "source": [
    "# the frequency of each part of speech for each word\n",
    "moviecfdist_1940_1960_n75_POStoWord = nltk.ConditionalFreqDist((p, w) for w, p in movie_df_1940_1960_n75['normalized_tokens_POS'].sum())\n",
    "moviecfdist_2000_2020_n75_POStoWord = nltk.ConditionalFreqDist((p, w) for w, p in movie_df_2000_2020_n75['normalized_tokens_POS'].sum())"
   ]
  },
  {
   "cell_type": "code",
   "execution_count": 83,
   "metadata": {},
   "outputs": [
    {
     "data": {
      "text/plain": [
       "FreqDist({'good': 1736, 'little': 937, 'right': 887, 'old': 594, 'sure': 454, 'sorry': 431, 'other': 400, 'last': 393, 'first': 369, 'nice': 351, ...})"
      ]
     },
     "execution_count": 83,
     "metadata": {},
     "output_type": "execute_result"
    }
   ],
   "source": [
    "# adjective frequency\n",
    "moviecfdist_1940_1960_n75_POStoWord['JJ']"
   ]
  },
  {
   "cell_type": "code",
   "execution_count": 73,
   "metadata": {},
   "outputs": [
    {
     "data": {
      "text/plain": [
       "FreqDist({'good': 1370, 'right': 889, 'little': 754, 'sorry': 591, 'great': 548, 'okay': 426, 'other': 412, 'sure': 358, 'first': 350, 'old': 337, ...})"
      ]
     },
     "execution_count": 73,
     "metadata": {},
     "output_type": "execute_result"
    }
   ],
   "source": [
    "# adj freq\n",
    "moviecfdist_2000_2020_n75_POStoWord['JJ']"
   ]
  },
  {
   "cell_type": "code",
   "execution_count": 105,
   "metadata": {},
   "outputs": [
    {
     "data": {
      "text/plain": [
       "[('time', 1124),\n",
       " ('man', 1084),\n",
       " ('way', 849),\n",
       " ('something', 766),\n",
       " ('night', 671),\n",
       " ('anything', 654),\n",
       " ('nothing', 643),\n",
       " ('thing', 516),\n",
       " ('mother', 499),\n",
       " ('one', 440),\n",
       " ('morning', 432),\n",
       " ('minute', 428),\n",
       " ('life', 420),\n",
       " ('girl', 403),\n",
       " ('name', 398),\n",
       " ('everything', 388),\n",
       " ('day', 386),\n",
       " ('place', 372),\n",
       " ('money', 353),\n",
       " ('room', 346),\n",
       " ('matter', 344),\n",
       " ('lady', 333),\n",
       " ('tonight', 327),\n",
       " ('father', 323),\n",
       " ('lot', 316),\n",
       " ('boy', 303),\n",
       " ('town', 299),\n",
       " ('world', 294),\n",
       " ('@', 278),\n",
       " ('house', 275),\n",
       " ('doctor', 274),\n",
       " ('love', 266),\n",
       " ('business', 266),\n",
       " ('trouble', 259),\n",
       " ('woman', 257),\n",
       " ('friend', 255),\n",
       " ('mind', 253),\n",
       " ('job', 246),\n",
       " ('tomorrow', 235),\n",
       " ('idea', 233),\n",
       " ('guy', 226),\n",
       " ('wife', 221),\n",
       " ('everybody', 216),\n",
       " ('kind', 213),\n",
       " ('today', 211),\n",
       " ('chance', 210),\n",
       " ('nobody', 207),\n",
       " ('head', 204),\n",
       " ('course', 200),\n",
       " ('somebody', 199),\n",
       " ('work', 194),\n",
       " ('son', 194),\n",
       " ('someone', 192),\n",
       " ('home', 192),\n",
       " ('kid', 192),\n",
       " ('care', 187),\n",
       " ('moment', 187),\n",
       " ('word', 181),\n",
       " ('case', 179),\n",
       " ('door', 174),\n",
       " ('police', 170),\n",
       " ('husband', 169),\n",
       " ('anybody', 164),\n",
       " ('party', 164),\n",
       " ('baby', 162),\n",
       " ('sir', 159),\n",
       " ('year', 158),\n",
       " ('picture', 156),\n",
       " ('week', 153),\n",
       " ('hand', 150),\n",
       " ('anyone', 150),\n",
       " ('drink', 150),\n",
       " ('car', 149),\n",
       " ('horse', 146),\n",
       " ('luck', 144),\n",
       " ('bit', 143),\n",
       " ('couple', 139),\n",
       " ('face', 138),\n",
       " ('gun', 136),\n",
       " ('captain', 135),\n",
       " ('rest', 133),\n",
       " ('heart', 132),\n",
       " ('evening', 129),\n",
       " ('reason', 128),\n",
       " ('fellow', 126),\n",
       " ('story', 125),\n",
       " ('boat', 125),\n",
       " ('number', 125),\n",
       " ('school', 123),\n",
       " ('bed', 123),\n",
       " ('brother', 123),\n",
       " ('child', 120),\n",
       " ('family', 119),\n",
       " ('murder', 119),\n",
       " ('cass', 119),\n",
       " ('truth', 118),\n",
       " ('game', 116),\n",
       " ('sister', 116),\n",
       " ('train', 116),\n",
       " ('honey', 115)]"
      ]
     },
     "execution_count": 105,
     "metadata": {},
     "output_type": "execute_result"
    }
   ],
   "source": [
    "# Top 100 nouns\n",
    "moviecfdist_1940_1960_n75_POStoWord['NN'].most_common(100)"
   ]
  },
  {
   "cell_type": "code",
   "execution_count": 104,
   "metadata": {},
   "outputs": [
    {
     "data": {
      "text/plain": [
       "[('time', 1140),\n",
       " ('something', 813),\n",
       " ('way', 796),\n",
       " ('man', 750),\n",
       " ('thing', 609),\n",
       " ('day', 520),\n",
       " ('one', 446),\n",
       " ('life', 439),\n",
       " ('night', 439),\n",
       " ('anything', 414),\n",
       " ('nothing', 388),\n",
       " ('guy', 350),\n",
       " ('everything', 345),\n",
       " ('girl', 322),\n",
       " ('place', 320),\n",
       " ('mom', 307),\n",
       " ('world', 305),\n",
       " ('baby', 271),\n",
       " ('name', 268),\n",
       " ('someone', 267),\n",
       " ('lot', 262),\n",
       " ('@', 258),\n",
       " ('friend', 254),\n",
       " ('everyone', 243),\n",
       " ('today', 241),\n",
       " ('work', 233),\n",
       " ('love', 231),\n",
       " ('tonight', 230),\n",
       " ('head', 226),\n",
       " ('money', 225),\n",
       " ('shit', 225),\n",
       " ('hell', 219),\n",
       " ('job', 218),\n",
       " ('woman', 216),\n",
       " ('car', 215),\n",
       " ('school', 213),\n",
       " ('family', 210),\n",
       " ('idea', 210),\n",
       " ('morning', 208),\n",
       " ('year', 204),\n",
       " ('#', 201),\n",
       " ('boy', 195),\n",
       " ('mother', 191),\n",
       " ('phone', 191),\n",
       " ('house', 190),\n",
       " ('stuff', 190),\n",
       " ('bit', 190),\n",
       " ('anyone', 181),\n",
       " ('dad', 175),\n",
       " ('problem', 170),\n",
       " ('part', 168),\n",
       " ('father', 167),\n",
       " ('kid', 165),\n",
       " ('brother', 161),\n",
       " ('tomorrow', 160),\n",
       " ('room', 158),\n",
       " ('everybody', 153),\n",
       " ('kind', 151),\n",
       " ('music', 151),\n",
       " ('home', 149),\n",
       " ('son', 148),\n",
       " ('town', 147),\n",
       " ('mind', 146),\n",
       " ('face', 144),\n",
       " ('somebody', 140),\n",
       " ('heart', 140),\n",
       " ('body', 135),\n",
       " ('story', 134),\n",
       " ('course', 131),\n",
       " ('minute', 129),\n",
       " ('case', 129),\n",
       " ('chance', 126),\n",
       " ('end', 126),\n",
       " ('fun', 126),\n",
       " ('dinner', 126),\n",
       " ('person', 125),\n",
       " ('help', 125),\n",
       " ('dog', 123),\n",
       " ('point', 122),\n",
       " ('door', 122),\n",
       " ('truth', 121),\n",
       " ('couple', 120),\n",
       " ('t', 120),\n",
       " ('hand', 120),\n",
       " ('fuck', 119),\n",
       " ('band', 118),\n",
       " ('side', 117),\n",
       " ('ass', 117),\n",
       " ('nobody', 115),\n",
       " ('line', 115),\n",
       " ('week', 114),\n",
       " ('water', 113),\n",
       " ('blood', 113),\n",
       " ('sex', 113),\n",
       " ('moment', 110),\n",
       " ('honey', 109),\n",
       " ('show', 109),\n",
       " ('care', 107),\n",
       " ('number', 107),\n",
       " ('word', 104)]"
      ]
     },
     "execution_count": 104,
     "metadata": {},
     "output_type": "execute_result"
    }
   ],
   "source": [
    "# Top 100 nouns\n",
    "moviecfdist_2000_2020_n75_POStoWord['NN'].most_common(100)"
   ]
  },
  {
   "cell_type": "code",
   "execution_count": 76,
   "metadata": {},
   "outputs": [
    {
     "name": "stdout",
     "output_type": "stream",
     "text": [
      "time\n",
      "0.01580308332279326\n"
     ]
    }
   ],
   "source": [
    "moviecpdist_1940_1960_n75_POStoWord = nltk.ConditionalProbDist(moviecfdist_1940_1960_n75_POStoWord, nltk.ELEProbDist)\n",
    "\n",
    "#print the most common nouns\n",
    "print(moviecpdist_1940_1960_n75_POStoWord['NN'].max())\n",
    "\n",
    "#And its probability\n",
    "print(moviecpdist_1940_1960_n75_POStoWord['NN'].prob(moviecpdist_1940_1960_n75_POStoWord['NN'].max()))"
   ]
  },
  {
   "cell_type": "code",
   "execution_count": 77,
   "metadata": {},
   "outputs": [
    {
     "name": "stdout",
     "output_type": "stream",
     "text": [
      "time\n",
      "0.017631326716754783\n"
     ]
    }
   ],
   "source": [
    "moviecpdist_2000_2020_n75_POStoWord = nltk.ConditionalProbDist(moviecfdist_2000_2020_n75_POStoWord, nltk.ELEProbDist)\n",
    "\n",
    "#print the most common nouns\n",
    "print(moviecpdist_2000_2020_n75_POStoWord['NN'].max())\n",
    "\n",
    "#And its probability\n",
    "print(moviecpdist_2000_2020_n75_POStoWord['NN'].prob(moviecpdist_2000_2020_n75_POStoWord['NN'].max()))"
   ]
  },
  {
   "cell_type": "code",
   "execution_count": 103,
   "metadata": {},
   "outputs": [],
   "source": [
    "# get and save word cloud\n",
    "#wc_1940_1960_n75 = wordcloud.WordCloud(background_color=\"white\", max_words=5000, width= 1000, height = 1000, mode ='RGBA', scale=.5).generate(' '.join(movie_df_1940_1960_n75['normalized_tokens'].sum()))\n",
    "#plt.imshow(wc_1940_1960_n75)\n",
    "#plt.axis(\"off\")\n",
    "#plt.savefig(\"movieWC_1940_1960_n75.pdf\", format = 'pdf')"
   ]
  },
  {
   "cell_type": "code",
   "execution_count": 102,
   "metadata": {},
   "outputs": [
    {
     "data": {
      "text/plain": [
       "(-0.5, 499.5, 499.5, -0.5)"
      ]
     },
     "execution_count": 102,
     "metadata": {},
     "output_type": "execute_result"
    },
    {
     "data": {
      "image/png": "[encoded data removed]",
      "text/plain": [
       "<Figure size 432x288 with 1 Axes>"
      ]
     },
     "metadata": {
      "needs_background": "light"
     },
     "output_type": "display_data"
    }
   ],
   "source": [
    "# get and save word cloud\n",
    "# show example\n",
    "wc_2000_2020_n75 = wordcloud.WordCloud(background_color=\"white\", max_words=5000, width= 1000, height = 1000, mode ='RGBA', scale=.5).generate(' '.join(movie_df_2000_2020_n75['normalized_tokens'].sum()))\n",
    "plt.imshow(wc_2000_2020_n75)\n",
    "plt.axis(\"off\")\n",
    "#plt.savefig(\"movieWC_2000_2020_n75.pdf\", format = 'pdf')"
   ]
  }
 ],
 "metadata": {
  "kernelspec": {
   "display_name": "Python 3",
   "language": "python",
   "name": "python3"
  },
  "language_info": {
   "codemirror_mode": {
    "name": "ipython",
    "version": 3
   },
   "file_extension": ".py",
   "mimetype": "text/x-python",
   "name": "python",
   "nbconvert_exporter": "python",
   "pygments_lexer": "ipython3",
   "version": "3.7.4"
  }
 },
 "nbformat": 4,
 "nbformat_minor": 2
}
